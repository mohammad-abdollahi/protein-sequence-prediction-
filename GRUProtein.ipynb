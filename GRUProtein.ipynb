{
  "nbformat": 4,
  "nbformat_minor": 0,
  "metadata": {
    "colab": {
      "name": "GRUProtein.ipynb",
      "provenance": [],
      "collapsed_sections": []
    },
    "kernelspec": {
      "name": "python3",
      "display_name": "Python 3"
    }
  },
  "cells": [
    {
      "cell_type": "code",
      "metadata": {
        "id": "EGhjkCsAl29F",
        "colab_type": "code",
        "colab": {
          "base_uri": "https://localhost:8080/",
          "height": 202
        },
        "outputId": "ec99c684-3222-4860-a7fa-8714643d5a81"
      },
      "source": [
        "!wget \"https://cdn.rcsb.org/etl/kabschSander/ss.txt.gz\""
      ],
      "execution_count": null,
      "outputs": [
        {
          "output_type": "stream",
          "text": [
            "--2019-06-29 07:16:29--  https://cdn.rcsb.org/etl/kabschSander/ss.txt.gz\n",
            "Resolving cdn.rcsb.org (cdn.rcsb.org)... 132.249.213.72\n",
            "Connecting to cdn.rcsb.org (cdn.rcsb.org)|132.249.213.72|:443... connected.\n",
            "HTTP request sent, awaiting response... 200 OK\n",
            "Length: 41294075 (39M) [application/x-gzip]\n",
            "Saving to: ‘ss.txt.gz’\n",
            "\n",
            "ss.txt.gz           100%[===================>]  39.38M   485KB/s    in 94s     \n",
            "\n",
            "2019-06-29 07:18:03 (429 KB/s) - ‘ss.txt.gz’ saved [41294075/41294075]\n",
            "\n"
          ],
          "name": "stdout"
        }
      ]
    },
    {
      "cell_type": "code",
      "metadata": {
        "id": "s9yH88xHosVV",
        "colab_type": "code",
        "colab": {}
      },
      "source": [
        "!gunzip ss.txt.gz"
      ],
      "execution_count": null,
      "outputs": []
    },
    {
      "cell_type": "code",
      "metadata": {
        "id": "ywVOgjtGos3b",
        "colab_type": "code",
        "colab": {}
      },
      "source": [
        "import gzip\n",
        "import logging\n",
        "import csv\n",
        "import argparse\n",
        "\n",
        "with open('ss.txt', 'rt') as inf:\n",
        "    # cannot use SeqIO.parse from Biopython because it cannot handle empty\n",
        "    # string in DSSP secondary structure properly! Just put here for\n",
        "    # reference\n",
        "\n",
        "    # e.g. seqio = SeqIO.parse(inf, format='fasta')\n",
        "\n",
        "    with open('out.csv', 'wt') as opf:\n",
        "        csv_writer = csv.writer(opf)\n",
        "        csv_writer.writerow(['pdb_id', 'chain_code', 'seq', 'sst'])\n",
        "\n",
        "        state = None\n",
        "        count = 0\n",
        "        seq_id, seq_chain_id = '', ''\n",
        "        sst_id, sst_chain_id = '', ''\n",
        "        seq, sst = '', ''\n",
        "        log_interval = 30000\n",
        "        for k, line in enumerate(inf):\n",
        "            if line.startswith('>'):\n",
        "                line = line.replace('>', '')\n",
        "                if state is None or state == 'ss':\n",
        "                    if state == 'ss':\n",
        "                        assert seq_id == sst_id\n",
        "                        assert seq_chain_id == sst_chain_id\n",
        "                        csv_writer.writerow(\n",
        "                            [seq_id, seq_chain_id, seq, sst]\n",
        "                        )\n",
        "                        count += 1\n",
        "                        if count % log_interval == 0:\n",
        "                            msg = 'processing {0}th record'.format(count)\n",
        "                            logging.info(msg)\n",
        "\n",
        "                    state = 'seq'\n",
        "                    seq_id = line.split(':')[0]\n",
        "                    seq_chain_id = line.split(':')[1]\n",
        "                    seq, sst = '', ''\n",
        "                elif state == 'seq':\n",
        "                    state = 'ss'\n",
        "                    sst_id = line.split(':')[0]\n",
        "                    sst_chain_id = line.split(':')[1]\n",
        "                else:\n",
        "                    raise ValueError('unknown state: {0}'.format(state))\n",
        "                continue\n",
        "\n",
        "            if state == 'seq':\n",
        "                seq += line.strip()\n",
        "            else:\n",
        "                sst += line.replace(' ', 'C').strip()\n",
        "\n",
        "        # count last seq\n",
        "        count += 1"
      ],
      "execution_count": null,
      "outputs": []
    },
    {
      "cell_type": "code",
      "metadata": {
        "id": "mMMCbM_kos6n",
        "colab_type": "code",
        "colab": {
          "base_uri": "https://localhost:8080/",
          "height": 215
        },
        "outputId": "1921a397-f840-4f4a-ad85-13ebc69b49da"
      },
      "source": [
        "import pandas as pd\n",
        "data = pd.read_csv(\"out.csv\")\n",
        "data.head()"
      ],
      "execution_count": null,
      "outputs": [
        {
          "output_type": "execute_result",
          "data": {
            "text/html": [
              "<div>\n",
              "<style scoped>\n",
              "    .dataframe tbody tr th:only-of-type {\n",
              "        vertical-align: middle;\n",
              "    }\n",
              "\n",
              "    .dataframe tbody tr th {\n",
              "        vertical-align: top;\n",
              "    }\n",
              "\n",
              "    .dataframe thead th {\n",
              "        text-align: right;\n",
              "    }\n",
              "</style>\n",
              "<table border=\"1\" class=\"dataframe\">\n",
              "  <thead>\n",
              "    <tr style=\"text-align: right;\">\n",
              "      <th></th>\n",
              "      <th>pdb_id</th>\n",
              "      <th>chain_code</th>\n",
              "      <th>seq</th>\n",
              "      <th>sst</th>\n",
              "    </tr>\n",
              "  </thead>\n",
              "  <tbody>\n",
              "    <tr>\n",
              "      <th>0</th>\n",
              "      <td>101M</td>\n",
              "      <td>A</td>\n",
              "      <td>MVLSEGEWQLVLHVWAKVEADVAGHGQDILIRLFKSHPETLEKFDR...</td>\n",
              "      <td>CCCCHHHHHHHHHHHHHHGGGHHHHHHHHHHHHHHHCGGGGGGCTT...</td>\n",
              "    </tr>\n",
              "    <tr>\n",
              "      <th>1</th>\n",
              "      <td>102L</td>\n",
              "      <td>A</td>\n",
              "      <td>MNIFEMLRIDEGLRLKIYKDTEGYYTIGIGHLLTKSPSLNAAAKSE...</td>\n",
              "      <td>CCHHHHHHHHHCCEEEEEECTTSCEEEETTEEEESSSCTTTHHHHH...</td>\n",
              "    </tr>\n",
              "    <tr>\n",
              "      <th>2</th>\n",
              "      <td>102M</td>\n",
              "      <td>A</td>\n",
              "      <td>MVLSEGEWQLVLHVWAKVEADVAGHGQDILIRLFKSHPETLEKFDR...</td>\n",
              "      <td>CCCCHHHHHHHHHHHHHHGGGHHHHHHHHHHHHHHHCGGGGGGCTT...</td>\n",
              "    </tr>\n",
              "    <tr>\n",
              "      <th>3</th>\n",
              "      <td>103L</td>\n",
              "      <td>A</td>\n",
              "      <td>MNIFEMLRIDEGLRLKIYKDTEGYYTIGIGHLLTKSPSLNSLDAAK...</td>\n",
              "      <td>CCHHHHHHHHHCCEEEEEECTTSCEEEETTEECCCCCCCCCHHHHH...</td>\n",
              "    </tr>\n",
              "    <tr>\n",
              "      <th>4</th>\n",
              "      <td>103M</td>\n",
              "      <td>A</td>\n",
              "      <td>MVLSEGEWQLVLHVWAKVEADVAGHGQDILIRLFKSHPETLEKFDR...</td>\n",
              "      <td>CCCCHHHHHHHHHHHHHHGGGHHHHHHHHHHHHHHHCGGGGGGCTT...</td>\n",
              "    </tr>\n",
              "  </tbody>\n",
              "</table>\n",
              "</div>"
            ],
            "text/plain": [
              "  pdb_id  ...                                                sst\n",
              "0   101M  ...  CCCCHHHHHHHHHHHHHHGGGHHHHHHHHHHHHHHHCGGGGGGCTT...\n",
              "1   102L  ...  CCHHHHHHHHHCCEEEEEECTTSCEEEETTEEEESSSCTTTHHHHH...\n",
              "2   102M  ...  CCCCHHHHHHHHHHHHHHGGGHHHHHHHHHHHHHHHCGGGGGGCTT...\n",
              "3   103L  ...  CCHHHHHHHHHCCEEEEEECTTSCEEEETTEECCCCCCCCCHHHHH...\n",
              "4   103M  ...  CCCCHHHHHHHHHHHHHHGGGHHHHHHHHHHHHHHHCGGGGGGCTT...\n",
              "\n",
              "[5 rows x 4 columns]"
            ]
          },
          "metadata": {
            "tags": []
          },
          "execution_count": 4
        }
      ]
    },
    {
      "cell_type": "code",
      "metadata": {
        "id": "ORcdaIwLos9p",
        "colab_type": "code",
        "colab": {}
      },
      "source": [
        "import datetime\n",
        "import itertools\n",
        "import pandas as pd\n",
        "\n",
        "STATE_DD_8T3 = {\n",
        "    'G': 'H',\n",
        "    'H': 'H',\n",
        "    'I': 'H',\n",
        "    \n",
        "    'B': 'E',\n",
        "    'E': 'E',\n",
        "    \n",
        "    'T': 'C',\n",
        "    'S': 'C',\n",
        "    'C': 'C',\n",
        "}"
      ],
      "execution_count": null,
      "outputs": []
    },
    {
      "cell_type": "code",
      "metadata": {
        "id": "iAZTfOTEpGis",
        "colab_type": "code",
        "colab": {}
      },
      "source": [
        "STANDARD_AAS = ['A', 'C', 'D', 'E', 'F', 'G', 'H', 'I', 'K', 'L', 'M', 'N', 'P', 'Q', 'R', 'S', 'T', 'V', 'W', 'Y']\n",
        "NON_STANDARD_AAS = list('BJOUXZ')\n",
        "\n",
        "def mask_unk_aa(seq):\n",
        "    for i in NON_STANDARD_AAS:\n",
        "        seq = seq.replace(i, '*')\n",
        "    return seq\n",
        "  \n",
        "def convert_8t3_state(sst):\n",
        "    out = sst\n",
        "    for i, j in STATE_DD_8T3.items():\n",
        "        out = out.replace(i, j)\n",
        "    return out\n",
        "  "
      ],
      "execution_count": null,
      "outputs": []
    },
    {
      "cell_type": "code",
      "metadata": {
        "id": "wKbjWsS4pPhP",
        "colab_type": "code",
        "colab": {
          "base_uri": "https://localhost:8080/",
          "height": 84
        },
        "outputId": "3425013e-fec3-46cc-8e7a-91a2a5d1d1bd"
      },
      "source": [
        "adf = pd.read_csv('out.csv')\n",
        "%time all_chars = set(itertools.chain(*adf.seq.values))\n",
        "all_chars - set(STANDARD_AAS)\n",
        "set(STANDARD_AAS) - all_chars\n",
        "%time adf['seq'] = adf.seq.apply(mask_unk_aa).to_frame()\n",
        "assert set(itertools.chain(*adf.seq.values)) - set(STANDARD_AAS) == set(['*'])\n",
        "adf.rename(columns={'sst': 'sst8'}, inplace=True)"
      ],
      "execution_count": null,
      "outputs": [
        {
          "output_type": "stream",
          "text": [
            "CPU times: user 2.14 s, sys: 540 µs, total: 2.14 s\n",
            "Wall time: 2.14 s\n",
            "CPU times: user 647 ms, sys: 4.77 ms, total: 652 ms\n",
            "Wall time: 651 ms\n"
          ],
          "name": "stdout"
        }
      ]
    },
    {
      "cell_type": "code",
      "metadata": {
        "id": "WoOgR6hPpR7s",
        "colab_type": "code",
        "colab": {
          "base_uri": "https://localhost:8080/",
          "height": 296
        },
        "outputId": "fea2a0e2-288f-46df-a511-6afe4e27f35e"
      },
      "source": [
        "%time adf['sst3'] = adf['sst8'].apply(convert_8t3_state)\n",
        "%time adf['len'] = adf.seq.apply(lambda s: len(s))\n",
        "adf.head(1).T\n",
        "adf.sort_values(['len', 'pdb_id', 'chain_code'], inplace=True)\n",
        "%time adf['has_nonstd_aa'] = adf.seq.apply(lambda s: '*' in s)\n",
        "adf.head()"
      ],
      "execution_count": null,
      "outputs": [
        {
          "output_type": "stream",
          "text": [
            "CPU times: user 1.49 s, sys: 90 ms, total: 1.58 s\n",
            "Wall time: 1.58 s\n",
            "CPU times: user 183 ms, sys: 7.93 ms, total: 191 ms\n",
            "Wall time: 191 ms\n",
            "CPU times: user 110 ms, sys: 0 ns, total: 110 ms\n",
            "Wall time: 111 ms\n"
          ],
          "name": "stdout"
        },
        {
          "output_type": "execute_result",
          "data": {
            "text/html": [
              "<div>\n",
              "<style scoped>\n",
              "    .dataframe tbody tr th:only-of-type {\n",
              "        vertical-align: middle;\n",
              "    }\n",
              "\n",
              "    .dataframe tbody tr th {\n",
              "        vertical-align: top;\n",
              "    }\n",
              "\n",
              "    .dataframe thead th {\n",
              "        text-align: right;\n",
              "    }\n",
              "</style>\n",
              "<table border=\"1\" class=\"dataframe\">\n",
              "  <thead>\n",
              "    <tr style=\"text-align: right;\">\n",
              "      <th></th>\n",
              "      <th>pdb_id</th>\n",
              "      <th>chain_code</th>\n",
              "      <th>seq</th>\n",
              "      <th>sst8</th>\n",
              "      <th>sst3</th>\n",
              "      <th>len</th>\n",
              "      <th>has_nonstd_aa</th>\n",
              "    </tr>\n",
              "  </thead>\n",
              "  <tbody>\n",
              "    <tr>\n",
              "      <th>377</th>\n",
              "      <td>1A30</td>\n",
              "      <td>C</td>\n",
              "      <td>EDL</td>\n",
              "      <td>CBC</td>\n",
              "      <td>CEC</td>\n",
              "      <td>3</td>\n",
              "      <td>False</td>\n",
              "    </tr>\n",
              "    <tr>\n",
              "      <th>2336</th>\n",
              "      <td>1B05</td>\n",
              "      <td>B</td>\n",
              "      <td>KCK</td>\n",
              "      <td>CBC</td>\n",
              "      <td>CEC</td>\n",
              "      <td>3</td>\n",
              "      <td>False</td>\n",
              "    </tr>\n",
              "    <tr>\n",
              "      <th>2369</th>\n",
              "      <td>1B0H</td>\n",
              "      <td>B</td>\n",
              "      <td>KAK</td>\n",
              "      <td>CBC</td>\n",
              "      <td>CEC</td>\n",
              "      <td>3</td>\n",
              "      <td>False</td>\n",
              "    </tr>\n",
              "    <tr>\n",
              "      <th>2419</th>\n",
              "      <td>1B1H</td>\n",
              "      <td>B</td>\n",
              "      <td>KFK</td>\n",
              "      <td>CBC</td>\n",
              "      <td>CEC</td>\n",
              "      <td>3</td>\n",
              "      <td>False</td>\n",
              "    </tr>\n",
              "    <tr>\n",
              "      <th>2473</th>\n",
              "      <td>1B2H</td>\n",
              "      <td>B</td>\n",
              "      <td>KAK</td>\n",
              "      <td>CBC</td>\n",
              "      <td>CEC</td>\n",
              "      <td>3</td>\n",
              "      <td>False</td>\n",
              "    </tr>\n",
              "  </tbody>\n",
              "</table>\n",
              "</div>"
            ],
            "text/plain": [
              "     pdb_id chain_code  seq sst8 sst3  len  has_nonstd_aa\n",
              "377    1A30          C  EDL  CBC  CEC    3          False\n",
              "2336   1B05          B  KCK  CBC  CEC    3          False\n",
              "2369   1B0H          B  KAK  CBC  CEC    3          False\n",
              "2419   1B1H          B  KFK  CBC  CEC    3          False\n",
              "2473   1B2H          B  KAK  CBC  CEC    3          False"
            ]
          },
          "metadata": {
            "tags": []
          },
          "execution_count": 8
        }
      ]
    },
    {
      "cell_type": "code",
      "metadata": {
        "id": "HpXJftRrpVLm",
        "colab_type": "code",
        "colab": {
          "base_uri": "https://localhost:8080/",
          "height": 302
        },
        "outputId": "4e3e0201-f780-4569-b294-ee733848bfa6"
      },
      "source": [
        "import numpy as np \n",
        "import pandas as pd\n",
        "import matplotlib.pyplot as plt\n",
        "%matplotlib inline\n",
        "\n",
        "df = adf\n",
        "df.len.hist(bins=100)\n",
        "print(df.shape)\n",
        "\n",
        "def seq2ngrams(seqs, n=3):\n",
        "    return np.array([[seq[i:i+n] for i in range(len(seq))] for seq in seqs])\n",
        "\n",
        "maxlen_seq = 128\n",
        "input_seqs, target_seqs = df[['seq', 'sst3']][(df.len <= maxlen_seq) & (~df.has_nonstd_aa)].values.T\n",
        "input_grams = seq2ngrams(input_seqs)\n",
        "print(len(input_seqs))"
      ],
      "execution_count": null,
      "outputs": [
        {
          "output_type": "stream",
          "text": [
            "(433099, 7)\n",
            "95891\n"
          ],
          "name": "stdout"
        },
        {
          "output_type": "display_data",
          "data": {
            "image/png": "[encoded data removed]",
            "text/plain": [
              "<Figure size 432x288 with 1 Axes>"
            ]
          },
          "metadata": {
            "tags": []
          }
        }
      ]
    },
    {
      "cell_type": "code",
      "metadata": {
        "id": "74yndfIbpXoQ",
        "colab_type": "code",
        "colab": {
          "base_uri": "https://localhost:8080/",
          "height": 50
        },
        "outputId": "cd1a3872-63e1-4d96-9b98-09d726c0f1d9"
      },
      "source": [
        "from keras.preprocessing import text, sequence\n",
        "from keras.preprocessing.text import Tokenizer\n",
        "from keras.utils import to_categorical\n",
        "\n",
        "tokenizer_encoder = Tokenizer()\n",
        "tokenizer_encoder.fit_on_texts(input_grams)\n",
        "input_data = tokenizer_encoder.texts_to_sequences(input_grams)\n",
        "input_data = sequence.pad_sequences(input_data, maxlen=maxlen_seq, padding='post')\n",
        "\n",
        "tokenizer_decoder = Tokenizer(char_level=True)\n",
        "tokenizer_decoder.fit_on_texts(target_seqs)\n",
        "target_data = tokenizer_decoder.texts_to_sequences(target_seqs)\n",
        "target_data = sequence.pad_sequences(target_data, maxlen=maxlen_seq, padding='post')\n",
        "target_data = to_categorical(target_data)\n",
        "input_data.shape, target_data.shape"
      ],
      "execution_count": null,
      "outputs": [
        {
          "output_type": "stream",
          "text": [
            "Using TensorFlow backend.\n"
          ],
          "name": "stderr"
        },
        {
          "output_type": "execute_result",
          "data": {
            "text/plain": [
              "((95891, 128), (95891, 128, 4))"
            ]
          },
          "metadata": {
            "tags": []
          },
          "execution_count": 10
        }
      ]
    },
    {
      "cell_type": "code",
      "metadata": {
        "id": "i6R0lFOEpbCL",
        "colab_type": "code",
        "colab": {
          "base_uri": "https://localhost:8080/",
          "height": 507
        },
        "outputId": "d2eb14f6-057f-49fd-c64a-29d355986392"
      },
      "source": [
        "from keras.models import Model, Input\n",
        "from keras.layers import LSTM, Embedding, Dense, TimeDistributed, Bidirectional,GRU\n",
        "\n",
        "n_words = len(tokenizer_encoder.word_index) + 1\n",
        "n_tags = len(tokenizer_decoder.word_index) + 1\n",
        "print(n_words, n_tags)\n",
        "\n",
        "input = Input(shape=(maxlen_seq,))\n",
        "x = Embedding(input_dim=n_words, output_dim=128, input_length=maxlen_seq)(input)\n",
        "x = Bidirectional(GRU(units=64, return_sequences=True, recurrent_dropout=0.1))(x)\n",
        "y = TimeDistributed(Dense(n_tags, activation=\"softmax\"))(x)\n",
        "model = Model(input, y)\n",
        "model.summary()"
      ],
      "execution_count": null,
      "outputs": [
        {
          "output_type": "stream",
          "text": [
            "WARNING: Logging before flag parsing goes to stderr.\n",
            "W0629 07:19:01.808565 140156434360192 deprecation_wrapper.py:119] From /usr/local/lib/python3.6/dist-packages/keras/backend/tensorflow_backend.py:74: The name tf.get_default_graph is deprecated. Please use tf.compat.v1.get_default_graph instead.\n",
            "\n",
            "W0629 07:19:01.846482 140156434360192 deprecation_wrapper.py:119] From /usr/local/lib/python3.6/dist-packages/keras/backend/tensorflow_backend.py:517: The name tf.placeholder is deprecated. Please use tf.compat.v1.placeholder instead.\n",
            "\n",
            "W0629 07:19:01.855148 140156434360192 deprecation_wrapper.py:119] From /usr/local/lib/python3.6/dist-packages/keras/backend/tensorflow_backend.py:4138: The name tf.random_uniform is deprecated. Please use tf.random.uniform instead.\n",
            "\n"
          ],
          "name": "stderr"
        },
        {
          "output_type": "stream",
          "text": [
            "8421 4\n"
          ],
          "name": "stdout"
        },
        {
          "output_type": "stream",
          "text": [
            "W0629 07:19:02.029196 140156434360192 deprecation_wrapper.py:119] From /usr/local/lib/python3.6/dist-packages/keras/backend/tensorflow_backend.py:133: The name tf.placeholder_with_default is deprecated. Please use tf.compat.v1.placeholder_with_default instead.\n",
            "\n",
            "W0629 07:19:02.043861 140156434360192 deprecation.py:506] From /usr/local/lib/python3.6/dist-packages/keras/backend/tensorflow_backend.py:3445: calling dropout (from tensorflow.python.ops.nn_ops) with keep_prob is deprecated and will be removed in a future version.\n",
            "Instructions for updating:\n",
            "Please use `rate` instead of `keep_prob`. Rate should be set to `rate = 1 - keep_prob`.\n"
          ],
          "name": "stderr"
        },
        {
          "output_type": "stream",
          "text": [
            "_________________________________________________________________\n",
            "Layer (type)                 Output Shape              Param #   \n",
            "=================================================================\n",
            "input_1 (InputLayer)         (None, 128)               0         \n",
            "_________________________________________________________________\n",
            "embedding_1 (Embedding)      (None, 128, 128)          1077888   \n",
            "_________________________________________________________________\n",
            "bidirectional_1 (Bidirection (None, 128, 128)          74112     \n",
            "_________________________________________________________________\n",
            "time_distributed_1 (TimeDist (None, 128, 4)            516       \n",
            "=================================================================\n",
            "Total params: 1,152,516\n",
            "Trainable params: 1,152,516\n",
            "Non-trainable params: 0\n",
            "_________________________________________________________________\n"
          ],
          "name": "stdout"
        }
      ]
    },
    {
      "cell_type": "code",
      "metadata": {
        "id": "7_EvSv9aqCzL",
        "colab_type": "code",
        "colab": {
          "base_uri": "https://localhost:8080/",
          "height": 339
        },
        "outputId": "58e6990a-aa46-4048-f6f8-d0a5a830391c"
      },
      "source": [
        "from sklearn.model_selection import train_test_split\n",
        "from keras.metrics import categorical_accuracy\n",
        "from keras import backend  as K\n",
        "import tensorflow as tf\n",
        "import keras\n",
        "from keras.callbacks import History\n",
        "\n",
        "loss = []\n",
        "acc = []\n",
        "val_loss = []\n",
        "val_acc = []\n",
        "\n",
        "def q3_acc(y_true, y_pred):\n",
        "    y = tf.argmax(y_true, axis=-1)\n",
        "    y_ = tf.argmax(y_pred, axis=-1)\n",
        "    mask = tf.greater(y, 0)\n",
        "    return K.cast(K.equal(tf.boolean_mask(y, mask), tf.boolean_mask(y_, mask)), K.floatx())\n",
        "\n",
        "class Metrics(keras.callbacks.Callback):\n",
        "    def on_train_begin(self, logs={}):\n",
        "        self._data = []\n",
        "\n",
        "    def on_batch_end(self, batch, logs={}):\n",
        "      loss.append(logs.get('loss'))\n",
        "      acc.append(logs.get('acc'))\n",
        "      val_acc.append(logs.get('val_acc'))\n",
        "      val_loss.append(logs.get('val_loss'))\n",
        "      return\n",
        "    '''def on_epoch_end(self, batch, logs={}):\n",
        "        X_val, y_val = self.validation_data[0], self.validation_data[1]\n",
        "        y_predict = np.asarray(model.predict(X_val))\n",
        "\n",
        "        y_val = np.argmax(y_val, axis=1)\n",
        "        y_predict = np.argmax(y_predict, axis=1)\n",
        "\n",
        "        self._data.append({\n",
        "            'val_recall': recall_score(y_val, y_predict),\n",
        "            'val_precision': precision_score(y_val, y_predict),\n",
        "        })\n",
        "        return'''\n",
        "\n",
        "model.compile(optimizer=\"rmsprop\", loss=\"categorical_crossentropy\",  metrics=[\"accuracy\", q3_acc])\n",
        "\n",
        "hist = History()\n",
        "X_train, X_test, y_train, y_test = train_test_split(input_data, target_data, test_size=.4, random_state=0)\n",
        "seq_train, seq_test, target_train, target_test = train_test_split(input_seqs, target_seqs, test_size=.4, random_state=0)\n",
        "\n",
        "history = model.fit(X_train, y_train, batch_size=128, epochs=5,steps_per_epoch=None, validation_steps=None, validation_data=(X_test, y_test), verbose=1, callbacks=[hist])\n"
      ],
      "execution_count": null,
      "outputs": [
        {
          "output_type": "stream",
          "text": [
            "W0629 07:19:03.048722 140156434360192 deprecation_wrapper.py:119] From /usr/local/lib/python3.6/dist-packages/keras/optimizers.py:790: The name tf.train.Optimizer is deprecated. Please use tf.compat.v1.train.Optimizer instead.\n",
            "\n",
            "W0629 07:19:03.076491 140156434360192 deprecation_wrapper.py:119] From /usr/local/lib/python3.6/dist-packages/keras/backend/tensorflow_backend.py:3295: The name tf.log is deprecated. Please use tf.math.log instead.\n",
            "\n",
            "W0629 07:19:03.115946 140156434360192 deprecation.py:323] From /usr/local/lib/python3.6/dist-packages/tensorflow/python/ops/array_ops.py:1354: add_dispatch_support.<locals>.wrapper (from tensorflow.python.ops.array_ops) is deprecated and will be removed in a future version.\n",
            "Instructions for updating:\n",
            "Use tf.where in 2.0, which has the same broadcast rule as np.where\n"
          ],
          "name": "stderr"
        },
        {
          "output_type": "stream",
          "text": [
            "Train on 57534 samples, validate on 38357 samples\n",
            "Epoch 1/5\n",
            "57534/57534 [==============================] - 266s 5ms/step - loss: 0.3953 - acc: 0.8366 - q3_acc: 0.7403 - val_loss: 0.3085 - val_acc: 0.8786 - val_q3_acc: 0.8070\n",
            "Epoch 2/5\n",
            "57534/57534 [==============================] - 265s 5ms/step - loss: 0.2903 - acc: 0.8858 - q3_acc: 0.8185 - val_loss: 0.2778 - val_acc: 0.8923 - val_q3_acc: 0.8288\n",
            "Epoch 3/5\n",
            "57534/57534 [==============================] - 263s 5ms/step - loss: 0.2623 - acc: 0.8979 - q3_acc: 0.8377 - val_loss: 0.2563 - val_acc: 0.9014 - val_q3_acc: 0.8433\n",
            "Epoch 4/5\n",
            "57534/57534 [==============================] - 264s 5ms/step - loss: 0.2400 - acc: 0.9072 - q3_acc: 0.8524 - val_loss: 0.2400 - val_acc: 0.9084 - val_q3_acc: 0.8544\n",
            "Epoch 5/5\n",
            "57534/57534 [==============================] - 261s 5ms/step - loss: 0.2219 - acc: 0.9145 - q3_acc: 0.8640 - val_loss: 0.2295 - val_acc: 0.9130 - val_q3_acc: 0.8617\n"
          ],
          "name": "stdout"
        }
      ]
    },
    {
      "cell_type": "code",
      "metadata": {
        "id": "2NBUoxNVqMl3",
        "colab_type": "code",
        "colab": {
          "base_uri": "https://localhost:8080/",
          "height": 786
        },
        "outputId": "2c2e4c02-718c-44ff-835f-790c19e5e412"
      },
      "source": [
        "def onehot_to_seq(oh_seq, index):\n",
        "    s = ''\n",
        "    for o in oh_seq:\n",
        "        i = np.argmax(o)\n",
        "        if i != 0:\n",
        "            s += index[i]\n",
        "        else:\n",
        "            break\n",
        "    return s\n",
        "\n",
        "def plot_results(x, y, y_):\n",
        "    print(\"---\")\n",
        "    print(\"Input: \" + str(x))\n",
        "    print(\"Target: \" + str(onehot_to_seq(y, revsere_decoder_index).upper()))\n",
        "    print(\"Result: \" + str(onehot_to_seq(y_, revsere_decoder_index).upper()))\n",
        "    fig = plt.figure(figsize=(10,2))\n",
        "    plt.imshow(y.T, cmap='Blues')\n",
        "    plt.imshow(y_.T, cmap='Reds', alpha=.5)\n",
        "    plt.yticks(range(4), [' '] + [revsere_decoder_index[i+1].upper() for i in range(3)])\n",
        "    plt.show()\n",
        "    \n",
        "revsere_decoder_index = {value:key for key,value in tokenizer_decoder.word_index.items()}\n",
        "revsere_encoder_index = {value:key for key,value in tokenizer_encoder.word_index.items()}\n",
        "\n",
        "N=3\n",
        "y_train_pred = model.predict(X_train[:N])\n",
        "y_test_pred = model.predict(X_test[:N])\n",
        "print('training')\n",
        "for i in range(N):\n",
        "    plot_results(seq_train[i], y_train[i], y_train_pred[i])\n",
        "print('testing')\n",
        "for i in range(N):\n",
        "    plot_results(seq_test[i], y_test[i], y_test_pred[i])"
      ],
      "execution_count": null,
      "outputs": [
        {
          "output_type": "stream",
          "text": [
            "training\n",
            "---\n",
            "Input: IQKTPQIQVYSRHPPENGKPNILNCYVTQFHPPHIEIQMLKNGKKIPKVEMSDMSFSKDWSFYILAHTEFTPTETDTYACRVKHASMAEPKTVYWDRDM\n",
            "Target: CCCCCEEEEEECCCCCCCCCEEEEEEEEEECCCCCEEEEEECCEECCCCEECCCEECCCCCEEEEEEEEECCCCCCCEEEEEECCCCCCCEEEECCCCC\n",
            "Result: CCECCEEEEEECCCCCCCCCEEEEEEEEEEECCCCEEEEEECCEECCCCEECCCEECCCCCEEEEEEEEECCCCCCCEEEEEECCCCCCCEEEECCCCC\n"
          ],
          "name": "stdout"
        },
        {
          "output_type": "display_data",
          "data": {
            "image/png": "[encoded data removed]",
            "text/plain": [
              "<Figure size 720x144 with 1 Axes>"
            ]
          },
          "metadata": {
            "tags": []
          }
        },
        {
          "output_type": "stream",
          "text": [
            "---\n",
            "Input: EIDYKDIATLKNYITESGKIVPSRITGTRAKYQRQLARAIKRARYLSLLPYTDRH\n",
            "Target: CCCCCCHHHHHCCECCCCCECCHHHHCCCHHHHHHHHHHHHHHHHCCCCCCCCCC\n",
            "Result: CCCCCCHHHHHHHCCCCCCECCHHHCCCCHHHHHHHHHHHHHHHHCCCCCCCCCC\n"
          ],
          "name": "stdout"
        },
        {
          "output_type": "display_data",
          "data": {
            "image/png": "[encoded data removed]",
            "text/plain": [
              "<Figure size 720x144 with 1 Axes>"
            ]
          },
          "metadata": {
            "tags": []
          }
        },
        {
          "output_type": "stream",
          "text": [
            "---\n",
            "Input: MARLTAYERRKFRVRNRIKRTGRLRLSVFRSLKHIYAQIIDDEKGVTLVSASSLALKLKGNKTEVARQVGRALAEKALALGIKQVAFDRGPYKYHGRVKALAEGAREGGLEF\n",
            "Target: CCCCCHHHHHHHHHHHHHHHCCCCEEEEEECCCCEEEEEEECCCCEEEEEEECCCCCCCCCHHHHHHHHHHHHHHHHHCCCCCECEEECCCCCCCHHHHHHHHHHHHHCCEC\n",
            "Result: CCCCCHHHHHHHHHHHHHHCCCCCEEEEEECCCCEEEEEEECCCCEEEEEECCCCCCCCCCHHHHHHHHHHHHHHHHHHCCCCCCECCCCCCCCCCHHHHHHHHHHCCCCCC\n"
          ],
          "name": "stdout"
        },
        {
          "output_type": "display_data",
          "data": {
            "image/png": "[encoded data removed]",
            "text/plain": [
              "<Figure size 720x144 with 1 Axes>"
            ]
          },
          "metadata": {
            "tags": []
          }
        },
        {
          "output_type": "stream",
          "text": [
            "testing\n",
            "---\n",
            "Input: MIQPQTYLEVADNTGARKIMCIRVLKGSNAKYATVGDVIVASVKEAIPRGAVKEGDVVKAVVVRTKKEIKRPDGSAIRFDDNAAVIINNQLEPRGTRVFGPVARELREKGFMKIVSLAPEVL\n",
            "Target: CECCCCEEEECECCCEEEEEEEEECCCCCCCCECCCCEEEEEEEEECCCCCCCCEEEEEEEEEECCCCEECCCCCEEEECCCEEEEECCCCCECCCCECCCECCHHHHHCCHHHHHHCCCEC\n",
            "Result: CECCCCEEEECCCCCEEEEEEEEECCCCCCCCCCCCCEEEEEEEEECCCCCCCCCCEEEEEEEECCCCEECCCCCEEEECCCEEEEECCCCCECCCCCCCCECHHHHHHCCHHHHHHCCCEC\n"
          ],
          "name": "stdout"
        },
        {
          "output_type": "display_data",
          "data": {
            "image/png": "[encoded data removed]",
            "text/plain": [
              "<Figure size 720x144 with 1 Axes>"
            ]
          },
          "metadata": {
            "tags": []
          }
        },
        {
          "output_type": "stream",
          "text": [
            "---\n",
            "Input: GSHMGKNGQGEPARVRCSHLLVKHSQSRRPSSWRQEQITRTQEEALELINGYIQKIKSGEEDFESLASQFSDCSSAKARGDLGAFSRGQMQKPFEDASFALRTGEMSGPVFTDSGIHIILRTE\n",
            "Target: CCCCCCCCCCCCCCEEEEEEEECCCCCCCCCCCCCCCCCCCHHHHHHHHHHHHHHHHHCCCCHHHHHHHHCCCHHHHHCCEEEEECCCCCCHHHHHHHHHCCCCCECCCEEECCEEEEEEECC\n",
            "Result: CCCCCCCCCCCCCCEEEEEEEECCCCCCCCCCCCCCCCCCCHHHHHHHHHHHHHHHHCCCCHHHHHHHHHCCHHHHHHCCHEEEEECCCCCHHHHHHHHHHCCCCCCCCEEECCCEEEEEEEC\n"
          ],
          "name": "stdout"
        },
        {
          "output_type": "display_data",
          "data": {
            "image/png": "[encoded data removed]",
            "text/plain": [
              "<Figure size 720x144 with 1 Axes>"
            ]
          },
          "metadata": {
            "tags": []
          }
        },
        {
          "output_type": "stream",
          "text": [
            "---\n",
            "Input: MLIFVHIIAPVISGCAIAFFSYWLSRRNTK\n",
            "Target: CHHHCCCCCCCHHHHHHHHHHHHHHHHCCC\n",
            "Result: CEEEEEEECHHHHHHHHHHHHHCECCCCCC\n"
          ],
          "name": "stdout"
        },
        {
          "output_type": "display_data",
          "data": {
            "image/png": "[encoded data removed]",
            "text/plain": [
              "<Figure size 720x144 with 1 Axes>"
            ]
          },
          "metadata": {
            "tags": []
          }
        }
      ]
    },
    {
      "cell_type": "code",
      "metadata": {
        "id": "o9-O9HX17F23",
        "colab_type": "code",
        "colab": {}
      },
      "source": [
        "t = model.predict(X_test)\n",
        "res = np.zeros((3,3))\n",
        "tres = np.zeros((3,3))\n",
        "def diff(a, b):\n",
        "  res = np.zeros((3,3))\n",
        "  x = str(onehot_to_seq(a, revsere_decoder_index).upper())\n",
        "  y = str(onehot_to_seq(b, revsere_decoder_index).upper())\n",
        "  for i in range(len(x)):\n",
        "    if (x[i]==y[i] and x[i]=='C'):\n",
        "      res[0][0]+=1\n",
        "    if (x[i]!=y[i] and x[i]=='C' and y[i]=='E'):\n",
        "      res[1][0]+=1\n",
        "    if (x[i]!=y[i] and x[i]=='C' and y[i]=='H'):\n",
        "      res[2][0]+=1\n",
        "    if(x[i]==y[i] and x[i]=='E'):\n",
        "      res[1][1]+=1\n",
        "    if (x[i]!=y[i] and x[i]=='E'and y[i]=='C'):\n",
        "      res[0][1]+=1\n",
        "    if (x[i]!=y[i] and x[i]=='E'and y[i]=='H'):\n",
        "      res[2][1]+=1\n",
        "    if(x[i]==y[i] and x[i]=='H'):\n",
        "      res[2][2]+=1\n",
        "    if(x[i]!=y[i] and x[i]=='H'and y[i]=='C'):\n",
        "      res[0][2]+=1\n",
        "    if(x[i]!=y[i] and x[i]=='H'and y[i]=='E'):\n",
        "      res[1][2]+=1\n",
        "  return res\n",
        "\n",
        "for i in range(38357):\n",
        "  tres=diff(t[i], y_test[i])\n",
        "  res +=tres"
      ],
      "execution_count": null,
      "outputs": []
    },
    {
      "cell_type": "code",
      "metadata": {
        "id": "3UOmyb6p7GWE",
        "colab_type": "code",
        "colab": {
          "base_uri": "https://localhost:8080/",
          "height": 482
        },
        "outputId": "60cf2299-b590-4f42-8163-0e015f1c84b0"
      },
      "source": [
        "import seaborn as sn\n",
        "import pandas as pd\n",
        "import matplotlib.pyplot as plt\n",
        "from sklearn.metrics import confusion_matrix\n",
        "\n",
        "conf = np.zeros((3,3))\n",
        "for i in range(3):\n",
        "  for j in range(3):\n",
        "    conf[i][j] = res[i][j]/(res[i].sum())\n",
        "print(conf)\n",
        "\n",
        "df_cm = pd.DataFrame(conf, index = [i for i in \"CEH\"],\n",
        "                  columns = [i for i in \"CEH\"])\n",
        "plt.figure(figsize = (10,7))\n",
        "ax = sn.heatmap(df_cm, annot=True, fmt = '.1f', square=1, linewidth=1.)"
      ],
      "execution_count": null,
      "outputs": [
        {
          "output_type": "stream",
          "text": [
            "[[0.83755082 0.05520088 0.10724829]\n",
            " [0.14351842 0.82095816 0.03552342]\n",
            " [0.07132036 0.00909858 0.91958106]]\n"
          ],
          "name": "stdout"
        },
        {
          "output_type": "display_data",
          "data": {
            "image/png": "[encoded data removed]",
            "text/plain": [
              "<Figure size 720x504 with 2 Axes>"
            ]
          },
          "metadata": {
            "tags": []
          }
        }
      ]
    },
    {
      "cell_type": "code",
      "metadata": {
        "id": "6WkX9TgFrlE7",
        "colab_type": "code",
        "colab": {
          "base_uri": "https://localhost:8080/",
          "height": 54
        },
        "outputId": "85b75cc9-e4bd-4708-9ba9-b93d952b58ed"
      },
      "source": [
        "a = pd.DataFrame.from_dict(hist.history)\n",
        "a.to_csv(r\"GRUHistoryQ3.csv\" , index = None, header=True)\n",
        "a.head()\n",
        "print (hist.history)"
      ],
      "execution_count": null,
      "outputs": [
        {
          "output_type": "stream",
          "text": [
            "{'val_loss': [0.5576752357731293, 0.49475952658283545, 0.4670487560022392, 0.4385306048350361, 0.41902992523406163], 'val_acc': [0.8097093994840546, 0.8342655024087929, 0.8446757192050036, 0.8542809981895406, 0.8615370483705124], 'val_q3_acc': [0.6975428495018743, 0.7365377918008154, 0.7530854674021743, 0.7683520264476619, 0.7798795423828548], 'loss': [0.7030539339105963, 0.5243452248922805, 0.4723612014627077, 0.43934709102948244, 0.4143584388815441], 'acc': [0.7561189362004663, 0.8221341130772195, 0.841043855618746, 0.8525199501847692, 0.8609828807810621], 'q3_acc': [0.6136797157360631, 0.7171817725831153, 0.7472311778838822, 0.7654451370512759, 0.7789063382709006]}\n"
          ],
          "name": "stdout"
        }
      ]
    },
    {
      "cell_type": "code",
      "metadata": {
        "id": "S4SoS3Pvrljf",
        "colab_type": "code",
        "colab": {
          "base_uri": "https://localhost:8080/",
          "height": 295
        },
        "outputId": "9e0e3965-aed5-40b9-b366-cf6924b0ce05"
      },
      "source": [
        "f = plt.figure()\n",
        "plt.grid()\n",
        "plt.plot(history.history['loss'])\n",
        "plt.plot(history.history['val_loss'])\n",
        "plt.title('Model loss')\n",
        "plt.ylabel('Loss')\n",
        "plt.xlabel('Epoch')\n",
        "plt.legend(['Train', 'Test'], loc='upper left')\n",
        "plt.show()\n",
        "f.savefig(\"GRUModelLossQ3.pdf\", bbox_inches='tight')"
      ],
      "execution_count": null,
      "outputs": [
        {
          "output_type": "display_data",
          "data": {
            "image/png": "[encoded data removed]",
            "text/plain": [
              "<Figure size 432x288 with 1 Axes>"
            ]
          },
          "metadata": {
            "tags": []
          }
        }
      ]
    },
    {
      "cell_type": "code",
      "metadata": {
        "id": "mPjETNlcDi94",
        "colab_type": "code",
        "colab": {
          "base_uri": "https://localhost:8080/",
          "height": 295
        },
        "outputId": "ad076ce2-702a-446f-e33c-58575dbcc838"
      },
      "source": [
        "f = plt.figure()\n",
        "plt.grid()\n",
        "plt.plot(history.history['acc'])\n",
        "plt.plot(history.history['val_acc'])\n",
        "plt.title('Model accuracy')\n",
        "plt.ylabel('Accuracy')\n",
        "plt.xlabel('Epoch')\n",
        "plt.legend(['Train', 'Test'], loc='upper left')\n",
        "plt.show()\n",
        "f.savefig(\"GRUModelAccuracyQ3.pdf\", bbox_inches='tight')"
      ],
      "execution_count": null,
      "outputs": [
        {
          "output_type": "display_data",
          "data": {
            "image/png": "[encoded data removed]",
            "text/plain": [
              "<Figure size 432x288 with 1 Axes>"
            ]
          },
          "metadata": {
            "tags": []
          }
        }
      ]
    },
    {
      "cell_type": "code",
      "metadata": {
        "id": "7WiexICfBqQb",
        "colab_type": "code",
        "colab": {}
      },
      "source": [
        "#train different sizes \n",
        "\n",
        "from sklearn.model_selection import train_test_split\n",
        "from keras.metrics import categorical_accuracy\n",
        "from keras import backend  as K\n",
        "import tensorflow as tf\n",
        "import keras\n",
        "from keras.callbacks import History\n",
        "from keras.models import Model, Input\n",
        "from keras.layers import LSTM, Embedding, Dense, TimeDistributed, Bidirectional,GRU\n",
        "\n",
        "l=[25,50,100,150,200,250]\n",
        "\n",
        "for i in l:\n",
        "  X_train, X_test, y_train, y_test = train_test_split(input_data, target_data, test_size=.4, random_state=0)\n",
        "  seq_train, seq_test, target_train, target_test = train_test_split(input_seqs, target_seqs, test_size=.4, random_state=0)\n",
        "\n",
        "\n",
        "  n_words = len(tokenizer_encoder.word_index) + 1\n",
        "  n_tags = len(tokenizer_decoder.word_index) + 1\n",
        "  print(n_words, n_tags)\n",
        "\n",
        "  input = Input(shape=(maxlen_seq,))\n",
        "  x = Embedding(input_dim=n_words, output_dim=128, input_length=maxlen_seq)(input)\n",
        "  x = Bidirectional(GRU(units=i, return_sequences=True, recurrent_dropout=0.1))(x)\n",
        "  y = TimeDistributed(Dense(n_tags, activation=\"softmax\"))(x)\n",
        "  model = Model(input, y)\n",
        "  model.summary()\n",
        "\n",
        "  loss = []\n",
        "  acc = []\n",
        "  val_loss = []\n",
        "  val_acc = []\n",
        "\n",
        "  def q3_acc(y_true, y_pred):\n",
        "      y = tf.argmax(y_true, axis=-1)\n",
        "      y_ = tf.argmax(y_pred, axis=-1)\n",
        "      mask = tf.greater(y, 0)\n",
        "      return K.cast(K.equal(tf.boolean_mask(y, mask), tf.boolean_mask(y_, mask)), K.floatx())\n",
        "\n",
        "\n",
        "\n",
        "  model.compile(optimizer=\"rmsprop\", loss=\"categorical_crossentropy\",  metrics=[\"accuracy\", q3_acc])\n",
        "\n",
        "  hist = History()\n",
        "\n",
        "  history = model.fit(X_train, y_train, batch_size=128, epochs=5,steps_per_epoch=None, validation_steps=None, validation_data=(X_test, y_test), verbose=1, callbacks=[hist])\n"
      ],
      "execution_count": null,
      "outputs": []
    },
    {
      "cell_type": "markdown",
      "metadata": {
        "id": "qw0xL-mpR3iX",
        "colab_type": "text"
      },
      "source": [
        "train for Q8"
      ]
    },
    {
      "cell_type": "code",
      "metadata": {
        "id": "ZVDxBYzERjJ8",
        "colab_type": "code",
        "colab": {
          "base_uri": "https://localhost:8080/",
          "height": 34
        },
        "outputId": "47c9768f-eadb-4e62-8496-b2832b05542f"
      },
      "source": [
        "input_seqs, target_seqs = df[['seq', 'sst8']][(df.len <= maxlen_seq) & (~df.has_nonstd_aa)].values.T\n",
        "input_grams = seq2ngrams(input_seqs)\n",
        "print(len(input_seqs))"
      ],
      "execution_count": null,
      "outputs": [
        {
          "output_type": "stream",
          "text": [
            "95891\n"
          ],
          "name": "stdout"
        }
      ]
    },
    {
      "cell_type": "code",
      "metadata": {
        "id": "z_ryOI_SRlIX",
        "colab_type": "code",
        "colab": {
          "base_uri": "https://localhost:8080/",
          "height": 34
        },
        "outputId": "73cd9439-b8a5-4886-ab6c-8469efdb03c2"
      },
      "source": [
        "from keras.preprocessing import text, sequence\n",
        "from keras.preprocessing.text import Tokenizer\n",
        "from keras.utils import to_categorical\n",
        "\n",
        "tokenizer_encoder = Tokenizer()\n",
        "tokenizer_encoder.fit_on_texts(input_grams)\n",
        "input_data = tokenizer_encoder.texts_to_sequences(input_grams)\n",
        "input_data = sequence.pad_sequences(input_data, maxlen=maxlen_seq, padding='post')\n",
        "\n",
        "tokenizer_decoder = Tokenizer(char_level=True)\n",
        "tokenizer_decoder.fit_on_texts(target_seqs)\n",
        "target_data = tokenizer_decoder.texts_to_sequences(target_seqs)\n",
        "target_data = sequence.pad_sequences(target_data, maxlen=maxlen_seq, padding='post')\n",
        "target_data = to_categorical(target_data)\n",
        "input_data.shape, target_data.shape"
      ],
      "execution_count": null,
      "outputs": [
        {
          "output_type": "execute_result",
          "data": {
            "text/plain": [
              "((95891, 128), (95891, 128, 9))"
            ]
          },
          "metadata": {
            "tags": []
          },
          "execution_count": 17
        }
      ]
    },
    {
      "cell_type": "code",
      "metadata": {
        "id": "HYZI4G_HRlBF",
        "colab_type": "code",
        "colab": {
          "base_uri": "https://localhost:8080/",
          "height": 286
        },
        "outputId": "e11b4d57-a786-4937-eb1e-72d910906e6a"
      },
      "source": [
        "from keras.models import Model, Input\n",
        "from keras.layers import LSTM, Embedding, Dense, TimeDistributed, Bidirectional,GRU\n",
        "\n",
        "n_words = len(tokenizer_encoder.word_index) + 1\n",
        "n_tags = len(tokenizer_decoder.word_index) + 1\n",
        "print(n_words, n_tags)\n",
        "\n",
        "input = Input(shape=(maxlen_seq,))\n",
        "x = Embedding(input_dim=n_words, output_dim=128, input_length=maxlen_seq)(input)\n",
        "x = Bidirectional(GRU(units=64, return_sequences=True, recurrent_dropout=0.1))(x)\n",
        "y = TimeDistributed(Dense(n_tags, activation=\"softmax\"))(x)\n",
        "model = Model(input, y)\n",
        "model.summary()"
      ],
      "execution_count": null,
      "outputs": [
        {
          "output_type": "stream",
          "text": [
            "8421 9\n",
            "_________________________________________________________________\n",
            "Layer (type)                 Output Shape              Param #   \n",
            "=================================================================\n",
            "input_2 (InputLayer)         (None, 128)               0         \n",
            "_________________________________________________________________\n",
            "embedding_2 (Embedding)      (None, 128, 128)          1077888   \n",
            "_________________________________________________________________\n",
            "bidirectional_2 (Bidirection (None, 128, 128)          74112     \n",
            "_________________________________________________________________\n",
            "time_distributed_2 (TimeDist (None, 128, 9)            1161      \n",
            "=================================================================\n",
            "Total params: 1,153,161\n",
            "Trainable params: 1,153,161\n",
            "Non-trainable params: 0\n",
            "_________________________________________________________________\n"
          ],
          "name": "stdout"
        }
      ]
    },
    {
      "cell_type": "code",
      "metadata": {
        "id": "KqSNNUDERk5p",
        "colab_type": "code",
        "colab": {
          "base_uri": "https://localhost:8080/",
          "height": 222
        },
        "outputId": "506398e2-2eec-4106-909f-9ef59cf10b28"
      },
      "source": [
        "from sklearn.model_selection import train_test_split\n",
        "from keras.metrics import categorical_accuracy\n",
        "from keras import backend  as K\n",
        "import tensorflow as tf\n",
        "import keras\n",
        "from keras.callbacks import History\n",
        "\n",
        "loss = []\n",
        "acc = []\n",
        "val_loss = []\n",
        "val_acc = []\n",
        "\n",
        "def q8_acc(y_true, y_pred):\n",
        "    y = tf.argmax(y_true, axis=-1)\n",
        "    y_ = tf.argmax(y_pred, axis=-1)\n",
        "    mask = tf.greater(y, 0)\n",
        "    return K.cast(K.equal(tf.boolean_mask(y, mask), tf.boolean_mask(y_, mask)), K.floatx())\n",
        "\n",
        "class Metrics(keras.callbacks.Callback):\n",
        "    def on_train_begin(self, logs={}):\n",
        "        self._data = []\n",
        "\n",
        "    def on_batch_end(self, batch, logs={}):\n",
        "      loss.append(logs.get('loss'))\n",
        "      acc.append(logs.get('acc'))\n",
        "      val_acc.append(logs.get('val_acc'))\n",
        "      val_loss.append(logs.get('val_loss'))\n",
        "      return\n",
        "    '''def on_epoch_end(self, batch, logs={}):\n",
        "        X_val, y_val = self.validation_data[0], self.validation_data[1]\n",
        "        y_predict = np.asarray(model.predict(X_val))\n",
        "\n",
        "        y_val = np.argmax(y_val, axis=1)\n",
        "        y_predict = np.argmax(y_predict, axis=1)\n",
        "\n",
        "        self._data.append({\n",
        "            'val_recall': recall_score(y_val, y_predict),\n",
        "            'val_precision': precision_score(y_val, y_predict),\n",
        "        })\n",
        "        return'''\n",
        "\n",
        "model.compile(optimizer=\"rmsprop\", loss=\"categorical_crossentropy\",  metrics=[\"accuracy\", q8_acc])\n",
        "\n",
        "hist = History()\n",
        "X_train, X_test, y_train, y_test = train_test_split(input_data, target_data, test_size=.4, random_state=0)\n",
        "seq_train, seq_test, target_train, target_test = train_test_split(input_seqs, target_seqs, test_size=.4, random_state=0)\n",
        "\n",
        "history = model.fit(X_train, y_train, batch_size=128, epochs=5,steps_per_epoch=None, validation_steps=None, validation_data=(X_test, y_test), verbose=1, callbacks=[hist])\n"
      ],
      "execution_count": null,
      "outputs": [
        {
          "output_type": "stream",
          "text": [
            "Train on 57534 samples, validate on 38357 samples\n",
            "Epoch 1/5\n",
            "57534/57534 [==============================] - 265s 5ms/step - loss: 0.7025 - acc: 0.7561 - q8_acc: 0.6135 - val_loss: 0.5530 - val_acc: 0.8114 - val_q8_acc: 0.7002\n",
            "Epoch 2/5\n",
            "57534/57534 [==============================] - 264s 5ms/step - loss: 0.5219 - acc: 0.8230 - q8_acc: 0.7185 - val_loss: 0.5002 - val_acc: 0.8304 - val_q8_acc: 0.7304\n",
            "Epoch 3/5\n",
            "57534/57534 [==============================] - 263s 5ms/step - loss: 0.4735 - acc: 0.8407 - q8_acc: 0.7466 - val_loss: 0.4656 - val_acc: 0.8448 - val_q8_acc: 0.7533\n",
            "Epoch 4/5\n",
            "57534/57534 [==============================] - 263s 5ms/step - loss: 0.4411 - acc: 0.8520 - q8_acc: 0.7646 - val_loss: 0.4387 - val_acc: 0.8546 - val_q8_acc: 0.7689\n",
            "Epoch 5/5\n",
            "57534/57534 [==============================] - 263s 5ms/step - loss: 0.4152 - acc: 0.8606 - q8_acc: 0.7783 - val_loss: 0.4198 - val_acc: 0.8612 - val_q8_acc: 0.7794\n"
          ],
          "name": "stdout"
        }
      ]
    },
    {
      "cell_type": "code",
      "metadata": {
        "id": "HNEQA0ucRkxV",
        "colab_type": "code",
        "colab": {
          "base_uri": "https://localhost:8080/",
          "height": 920
        },
        "outputId": "b2bab920-58ac-4469-d7ef-fbf1032ce7f6"
      },
      "source": [
        "def onehot_to_seq(oh_seq, index):\n",
        "    s = ''\n",
        "    for o in oh_seq:\n",
        "        i = np.argmax(o)\n",
        "        if i != 0:\n",
        "            s += index[i]\n",
        "        else:\n",
        "            break\n",
        "    return s\n",
        "\n",
        "def plot_results(x, y, y_):\n",
        "    print(\"---\")\n",
        "    print(\"Input: \" + str(x))\n",
        "    print(\"Target: \" + str(onehot_to_seq(y, revsere_decoder_index).upper()))\n",
        "    print(\"Result: \" + str(onehot_to_seq(y_, revsere_decoder_index).upper()))\n",
        "    fig = plt.figure(figsize=(10,2))\n",
        "    plt.imshow(y.T, cmap='Blues')\n",
        "    plt.imshow(y_.T, cmap='Reds', alpha=.5)\n",
        "    plt.yticks(range(4), [' '] + [revsere_decoder_index[i+1].upper() for i in range(3)])\n",
        "    plt.show()\n",
        "    \n",
        "revsere_decoder_index = {value:key for key,value in tokenizer_decoder.word_index.items()}\n",
        "revsere_encoder_index = {value:key for key,value in tokenizer_encoder.word_index.items()}\n",
        "\n",
        "N=3\n",
        "y_train_pred = model.predict(X_train[:N])\n",
        "y_test_pred = model.predict(X_test[:N])\n",
        "print('training')\n",
        "for i in range(N):\n",
        "    plot_results(seq_train[i], y_train[i], y_train_pred[i])\n",
        "print('testing')\n",
        "for i in range(N):\n",
        "    plot_results(seq_test[i], y_test[i], y_test_pred[i])"
      ],
      "execution_count": null,
      "outputs": [
        {
          "output_type": "stream",
          "text": [
            "training\n",
            "---\n",
            "Input: IQKTPQIQVYSRHPPENGKPNILNCYVTQFHPPHIEIQMLKNGKKIPKVEMSDMSFSKDWSFYILAHTEFTPTETDTYACRVKHASMAEPKTVYWDRDM\n",
            "Target: CCCCCEEEEEESSCCCSSSCEEEEEEEEEESSSCCEEEEEETTEECSSCEECCCEECTTSCEEEEEEEEECCCSSCCEEEEEECSSCSSCEEEECCSCC\n",
            "Result: CCBCCEEEEEESSCCCTTSCEEEEEEEEEEBSSCCEEEEEETTEECSCCEECCCEECTTSCEEEEEEEEECCCSSCCEEEEEECTTCSSCEEEECCTTC\n"
          ],
          "name": "stdout"
        },
        {
          "output_type": "display_data",
          "data": {
            "image/png": "[encoded data removed]",
            "text/plain": [
              "<Figure size 720x144 with 1 Axes>"
            ]
          },
          "metadata": {
            "tags": []
          }
        },
        {
          "output_type": "stream",
          "text": [
            "---\n",
            "Input: EIDYKDIATLKNYITESGKIVPSRITGTRAKYQRQLARAIKRARYLSLLPYTDRH\n",
            "Target: CCCSSCHHHHHTTBCTTSCBCCHHHHCCCHHHHHHHHHHHHHHHHTTSSCSCSCC\n",
            "Result: CCCSSCHHHHHGGBCTTSCCCCHHHHCCHHHHHHHHHHHHHHHHHTTSSCSSSCC\n"
          ],
          "name": "stdout"
        },
        {
          "output_type": "display_data",
          "data": {
            "image/png": "[encoded data removed]",
            "text/plain": [
              "<Figure size 720x144 with 1 Axes>"
            ]
          },
          "metadata": {
            "tags": []
          }
        },
        {
          "output_type": "stream",
          "text": [
            "---\n",
            "Input: MARLTAYERRKFRVRNRIKRTGRLRLSVFRSLKHIYAQIIDDEKGVTLVSASSLALKLKGNKTEVARQVGRALAEKALALGIKQVAFDRGPYKYHGRVKALAEGAREGGLEF\n",
            "Target: CCCCCHHHHHHHHHHHHHHHTTCCEEEEEECSSCEEEEEEETTTTEEEEEEETTTTTCCSCHHHHHHHHHHHHHHHHHTTTCCBCEEECTTSCSCHHHHHHHHHHHHHTCBC\n",
            "Result: CCCCCHHHHHHHHHHHHHHHTSCCEEEEEECSSCEEEEEEETTTTEEEEEEESTTTTCCSCHHHHHHHHHHHHHHHHHHTTCCCCEECCTTSCSSSHHHHHHHHHHCCCCCC\n"
          ],
          "name": "stdout"
        },
        {
          "output_type": "display_data",
          "data": {
            "image/png": "[encoded data removed]",
            "text/plain": [
              "<Figure size 720x144 with 1 Axes>"
            ]
          },
          "metadata": {
            "tags": []
          }
        },
        {
          "output_type": "stream",
          "text": [
            "testing\n",
            "---\n",
            "Input: MIQPQTYLEVADNTGARKIMCIRVLKGSNAKYATVGDVIVASVKEAIPRGAVKEGDVVKAVVVRTKKEIKRPDGSAIRFDDNAAVIINNQLEPRGTRVFGPVARELREKGFMKIVSLAPEVL\n",
            "Target: CBCTTCEEEECBSSSEEEEEEEEECSSSSCCCBCTTCEEEEEEEEECTTCSSCSEEEEEEEEEECSSCEECTTSCEEEESSCEEEEECTTCCBSSSCBCSCBCTHHHHHTCHHHHHHCSCBC\n",
            "Result: CBCTTCEEEECBSSSEEEEEEEEECSSSSCCCBCTTCEEEEEEEEECTTSSSCTTCEEEEEEEECSSCEECTTSCEEEESSCEEEEECTTSCBSSSCBCSCBCHHHHHTTCHHHHHHSSCCC\n"
          ],
          "name": "stdout"
        },
        {
          "output_type": "display_data",
          "data": {
            "image/png": "[encoded data removed]",
            "text/plain": [
              "<Figure size 720x144 with 1 Axes>"
            ]
          },
          "metadata": {
            "tags": []
          }
        },
        {
          "output_type": "stream",
          "text": [
            "---\n",
            "Input: GSHMGKNGQGEPARVRCSHLLVKHSQSRRPSSWRQEQITRTQEEALELINGYIQKIKSGEEDFESLASQFSDCSSAKARGDLGAFSRGQMQKPFEDASFALRTGEMSGPVFTDSGIHIILRTE\n",
            "Target: CCCCCCCCCCCCSCEEEEEEEECCTTSSSCCCSSCSSCCCCHHHHHHHHHHHHHHHHHTSSCHHHHHHHHCSSGGGGGTTEEEEECTTSSCHHHHHHHHHSCTTCBCCCEEETTEEEEEEECC\n",
            "Result: CCCCCCCCCCCCCEEEECEEEECCCSSBCCCCSCCSSCCCCHHHHHHHHHHHHHHHHTCCHHHHHHHHHHGGGGGGGGGTEEEEEETTEESSHHHHHHHHHTTSCCCCCEEECTTEEEEEEEC\n"
          ],
          "name": "stdout"
        },
        {
          "output_type": "display_data",
          "data": {
            "image/png": "[encoded data removed]",
            "text/plain": [
              "<Figure size 720x144 with 1 Axes>"
            ]
          },
          "metadata": {
            "tags": []
          }
        },
        {
          "output_type": "stream",
          "text": [
            "---\n",
            "Input: MLIFVHIIAPVISGCAIAFFSYWLSRRNTK\n",
            "Target: CGGGTSSTTTTHHHHHHHHHHHHHHHHSCC\n",
            "Result: CEEEEEEEEEHHHHHHHHHHHHHECCCTCC\n"
          ],
          "name": "stdout"
        },
        {
          "output_type": "display_data",
          "data": {
            "image/png": "[encoded data removed]",
            "text/plain": [
              "<Figure size 720x144 with 1 Axes>"
            ]
          },
          "metadata": {
            "tags": []
          }
        }
      ]
    },
    {
      "cell_type": "code",
      "metadata": {
        "id": "MFz4bkDDR12d",
        "colab_type": "code",
        "colab": {
          "base_uri": "https://localhost:8080/",
          "height": 54
        },
        "outputId": "75587aac-dab1-4d3b-e8ea-a7d625b5d885"
      },
      "source": [
        "a = pd.DataFrame.from_dict(hist.history)\n",
        "a.to_csv(r\"GRUHistoryQ8.csv\" , index = None, header=True)\n",
        "a.head()\n",
        "print (hist.history)"
      ],
      "execution_count": null,
      "outputs": [
        {
          "output_type": "stream",
          "text": [
            "{'val_loss': [0.5564335832463554, 0.5005146356409607, 0.4670435773116423, 0.4420743040938812, 0.4229878812688799], 'val_acc': [0.8107186270309606, 0.8322409371714723, 0.8442838415676378, 0.8533968293937537, 0.8601599773805091], 'val_q8_acc': [0.699142610723434, 0.7333188465058215, 0.7524462893586197, 0.7669401415123427, 0.7776876631533202], 'loss': [0.700179216218748, 0.525589875320318, 0.4773575665327772, 0.4443494094747504, 0.41892233308091686], 'acc': [0.7588201921989925, 0.8216873663584922, 0.839361426500184, 0.8509465598498966, 0.8596989932309542], 'q8_acc': [0.6177209606922203, 0.7163877987089199, 0.7444872046866241, 0.7629425079671617, 0.7768929367058468]}\n"
          ],
          "name": "stdout"
        }
      ]
    },
    {
      "cell_type": "code",
      "metadata": {
        "id": "gHbgeDbFR1r6",
        "colab_type": "code",
        "colab": {
          "base_uri": "https://localhost:8080/",
          "height": 295
        },
        "outputId": "2fe3dc45-49fc-40f5-9b50-c8e617bebee6"
      },
      "source": [
        "f = plt.figure()\n",
        "plt.grid()\n",
        "plt.plot(history.history['loss'])\n",
        "plt.plot(history.history['val_loss'])\n",
        "plt.title('Model loss')\n",
        "plt.ylabel('Loss')\n",
        "plt.xlabel('Epoch')\n",
        "plt.legend(['Train', 'Test'], loc='upper left')\n",
        "plt.show()\n",
        "f.savefig(\"GRUModelLossQ8.pdf\", bbox_inches='tight')"
      ],
      "execution_count": null,
      "outputs": [
        {
          "output_type": "display_data",
          "data": {
            "image/png": "[encoded data removed]",
            "text/plain": [
              "<Figure size 432x288 with 1 Axes>"
            ]
          },
          "metadata": {
            "tags": []
          }
        }
      ]
    },
    {
      "cell_type": "code",
      "metadata": {
        "id": "0PpOETFuFCXy",
        "colab_type": "code",
        "colab": {
          "base_uri": "https://localhost:8080/",
          "height": 295
        },
        "outputId": "b8506f4d-cadb-4bc7-f24d-c977b9b81025"
      },
      "source": [
        "f = plt.figure()\n",
        "plt.grid()\n",
        "plt.plot(history.history['acc'])\n",
        "plt.plot(history.history['val_acc'])\n",
        "plt.title('Model accuracy')\n",
        "plt.ylabel('Accuracy')\n",
        "plt.xlabel('Epoch')\n",
        "plt.legend(['Train', 'Test'], loc='upper left')\n",
        "plt.show()\n",
        "f.savefig(\"GRUModelAccuracyQ8.pdf\", bbox_inches='tight')"
      ],
      "execution_count": null,
      "outputs": [
        {
          "output_type": "display_data",
          "data": {
            "image/png": "[encoded data removed]",
            "text/plain": [
              "<Figure size 432x288 with 1 Axes>"
            ]
          },
          "metadata": {
            "tags": []
          }
        }
      ]
    },
    {
      "cell_type": "code",
      "metadata": {
        "id": "BWzvGBkXRVbD",
        "colab_type": "code",
        "colab": {
          "base_uri": "https://localhost:8080/",
          "height": 34
        },
        "outputId": "77185630-8fea-44c5-f29d-e1a2f780a3ea"
      },
      "source": [
        "print (X_test.shape)\n",
        "t = model.predict(X_test)"
      ],
      "execution_count": null,
      "outputs": [
        {
          "output_type": "stream",
          "text": [
            "(38357, 128)\n"
          ],
          "name": "stdout"
        }
      ]
    },
    {
      "cell_type": "code",
      "metadata": {
        "id": "AS8auGtpFLj6",
        "colab_type": "code",
        "colab": {}
      },
      "source": [
        "#t = model.predict(X_test)\n",
        "res = np.zeros((8,8))\n",
        "tres = np.zeros((8,8))\n",
        "def diff(a, b):\n",
        "  res = np.zeros((8,8))\n",
        "  x = str(onehot_to_seq(a, revsere_decoder_index).upper())\n",
        "  y = str(onehot_to_seq(b, revsere_decoder_index).upper())\n",
        "  for i in range(len(x)):\n",
        "    if (x[i]==y[i] and x[i]=='B'):\n",
        "      res[0][0]+=1\n",
        "    if(x[i]=='B' and y[i]=='C'):\n",
        "      res[0][1]+=1\n",
        "    if(x[i]=='B' and y[i]=='E'):\n",
        "      res[0][2]+=1\n",
        "    if(x[i]=='B' and y[i]=='G'):\n",
        "      res[0][3]+=1\n",
        "    if(x[i]=='B' and y[i]=='H'):\n",
        "      res[0][4]+=1\n",
        "    if(x[i]=='B' and y[i]=='I'):\n",
        "      res[0][5]+=1\n",
        "    if(x[i]=='B' and y[i]=='S'):\n",
        "      res[0][6]+=1\n",
        "    if(x[i]=='B' and y[i]=='T'):\n",
        "      res[0][7]+=1\n",
        "    \n",
        "    if (x[i]==y[i] and x[i]=='C'):\n",
        "      res[1][1]+=1\n",
        "    if(x[i]=='C' and y[i]=='B'):\n",
        "      res[1][0]+=1\n",
        "    if(x[i]=='C' and y[i]=='E'):\n",
        "      res[1][2]+=1\n",
        "    if(x[i]=='C' and y[i]=='G'):\n",
        "      res[1][3]+=1\n",
        "    if(x[i]=='C' and y[i]=='H'):\n",
        "      res[1][4]+=1\n",
        "    if(x[i]=='C' and y[i]=='I'):\n",
        "      res[1][5]+=1\n",
        "    if(x[i]=='C' and y[i]=='S'):\n",
        "      res[1][6]+=1\n",
        "    if(x[i]=='C' and y[i]=='T'):\n",
        "      res[1][7]+=1\n",
        "    \n",
        "    if (x[i]==y[i] and x[i]=='E'):\n",
        "      res[2][2]+=1\n",
        "    if(x[i]=='E' and y[i]=='B'):\n",
        "      res[2][0]+=1\n",
        "    if(x[i]=='E' and y[i]=='C'):\n",
        "      res[2][1]+=1\n",
        "    if(x[i]=='E' and y[i]=='G'):\n",
        "      res[2][3]+=1\n",
        "    if(x[i]=='E' and y[i]=='H'):\n",
        "      res[2][4]+=1\n",
        "    if(x[i]=='E' and y[i]=='I'):\n",
        "      res[2][5]+=1\n",
        "    if(x[i]=='E' and y[i]=='S'):\n",
        "      res[2][6]+=1\n",
        "    if(x[i]=='E' and y[i]=='T'):\n",
        "      res[2][7]+=1\n",
        "      \n",
        "    if (x[i]==y[i] and x[i]=='G'):\n",
        "      res[3][3]+=1\n",
        "    if(x[i]=='G' and y[i]=='B'):\n",
        "      res[3][0]+=1\n",
        "    if(x[i]=='G' and y[i]=='C'):\n",
        "      res[3][1]+=1\n",
        "    if(x[i]=='G' and y[i]=='E'):\n",
        "      res[3][2]+=1\n",
        "    if(x[i]=='G' and y[i]=='H'):\n",
        "      res[3][4]+=1\n",
        "    if(x[i]=='G' and y[i]=='I'):\n",
        "      res[3][5]+=1\n",
        "    if(x[i]=='G' and y[i]=='S'):\n",
        "      res[3][6]+=1\n",
        "    if(x[i]=='G' and y[i]=='T'):\n",
        "      res[3][7]+=1\n",
        "     \n",
        "    if (x[i]==y[i] and x[i]=='H'):\n",
        "      res[4][4]+=1\n",
        "    if(x[i]=='H' and y[i]=='B'):\n",
        "      res[4][0]+=1\n",
        "    if(x[i]=='H' and y[i]=='C'):\n",
        "      res[4][1]+=1\n",
        "    if(x[i]=='H' and y[i]=='E'):\n",
        "      res[4][2]+=1\n",
        "    if(x[i]=='H' and y[i]=='G'):\n",
        "      res[4][3]+=1\n",
        "    if(x[i]=='H' and y[i]=='I'):\n",
        "      res[4][5]+=1\n",
        "    if(x[i]=='H' and y[i]=='S'):\n",
        "      res[4][6]+=1\n",
        "    if(x[i]=='H' and y[i]=='T'):\n",
        "      res[4][7]+=1\n",
        "     \n",
        "    if (x[i]==y[i] and x[i]=='I'):\n",
        "      res[5][5]+=1\n",
        "    if(x[i]=='I' and y[i]=='B'):\n",
        "      res[5][0]+=1\n",
        "    if(x[i]=='I' and y[i]=='C'):\n",
        "      res[5][1]+=1\n",
        "    if(x[i]=='I' and y[i]=='E'):\n",
        "      res[5][2]+=1\n",
        "    if(x[i]=='I' and y[i]=='G'):\n",
        "      res[5][3]+=1\n",
        "    if(x[i]=='I' and y[i]=='H'):\n",
        "      res[5][4]+=1\n",
        "    if(x[i]=='I' and y[i]=='S'):\n",
        "      res[5][6]+=1\n",
        "    if(x[i]=='I' and y[i]=='T'):\n",
        "      res[5][7]+=1\n",
        "      \n",
        "    if (x[i]==y[i] and x[i]=='S'):\n",
        "      res[6][6]+=1\n",
        "    if(x[i]=='S' and y[i]=='B'):\n",
        "      res[6][0]+=1\n",
        "    if(x[i]=='S' and y[i]=='C'):\n",
        "      res[6][1]+=1\n",
        "    if(x[i]=='S' and y[i]=='E'):\n",
        "      res[6][2]+=1\n",
        "    if(x[i]=='S' and y[i]=='G'):\n",
        "      res[6][3]+=1\n",
        "    if(x[i]=='S' and y[i]=='H'):\n",
        "      res[6][4]+=1\n",
        "    if(x[i]=='S' and y[i]=='I'):\n",
        "      res[6][5]+=1\n",
        "    if(x[i]=='S' and y[i]=='T'):\n",
        "      res[6][7]+=1\n",
        "      \n",
        "    if (x[i]==y[i] and x[i]=='T'):\n",
        "      res[7][7]+=1\n",
        "    if(x[i]=='T' and y[i]=='B'):\n",
        "      res[7][0]+=1\n",
        "    if(x[i]=='T' and y[i]=='C'):\n",
        "      res[7][1]+=1\n",
        "    if(x[i]=='T' and y[i]=='E'):\n",
        "      res[7][2]+=1\n",
        "    if(x[i]=='T' and y[i]=='G'):\n",
        "      res[7][3]+=1\n",
        "    if(x[i]=='T' and y[i]=='H'):\n",
        "      res[7][4]+=1\n",
        "    if(x[i]=='T' and y[i]=='I'):\n",
        "      res[7][5]+=1\n",
        "    if(x[i]=='T' and y[i]=='S'):\n",
        "      res[7][6]+=1\n",
        "    \n",
        "  return res\n",
        "\n",
        "for i in range(38357):\n",
        "  tres=diff(t[i], y_test[i])\n",
        "  res +=tres"
      ],
      "execution_count": null,
      "outputs": []
    },
    {
      "cell_type": "code",
      "metadata": {
        "id": "3yZGlQ7QFLXM",
        "colab_type": "code",
        "colab": {
          "base_uri": "https://localhost:8080/",
          "height": 701
        },
        "outputId": "d8cad967-04d0-48cf-c74e-531255a7f4c6"
      },
      "source": [
        "\n",
        "import seaborn as sn\n",
        "import pandas as pd\n",
        "import matplotlib.pyplot as plt\n",
        "from sklearn.metrics import confusion_matrix\n",
        "\n",
        "conf = np.zeros((8,8))\n",
        "for i in range(8):\n",
        "  for j in range(8):\n",
        "    conf[i][j] = res[i][j]/(res[i].sum())\n",
        "\n",
        "print(res)\n",
        "df_cm = pd.DataFrame(conf, index = [i for i in \"BCEGHIST\"],\n",
        "                  columns = [i for i in \"BCEGHIST\"])\n",
        "plt.figure(figsize = (10,7))\n",
        "ax = sn.heatmap(df_cm, annot=True, fmt = '.1f', square=1, linewidth=1.)"
      ],
      "execution_count": null,
      "outputs": [
        {
          "output_type": "stream",
          "text": [
            "[[8.16300e+03 1.35000e+03 5.29000e+02 4.90000e+01 5.00000e+01 0.00000e+00\n",
            "  4.98000e+02 1.80000e+02]\n",
            " [1.15210e+04 6.85630e+05 5.49410e+04 1.04740e+04 3.18660e+04 5.90000e+01\n",
            "  6.87400e+04 4.00730e+04]\n",
            " [8.01800e+03 7.95090e+04 5.77326e+05 3.35200e+03 1.02470e+04 2.10000e+01\n",
            "  1.81240e+04 1.15440e+04]\n",
            " [1.46000e+02 3.46500e+03 8.27000e+02 3.86930e+04 2.84300e+03 2.60000e+01\n",
            "  3.18500e+03 7.66600e+03]\n",
            " [1.68300e+03 5.62830e+04 1.74620e+04 1.30790e+04 8.01524e+05 1.70000e+02\n",
            "  2.35260e+04 5.33320e+04]\n",
            " [0.00000e+00 4.00000e+00 0.00000e+00 0.00000e+00 0.00000e+00 1.96000e+02\n",
            "  1.00000e+00 2.40000e+01]\n",
            " [1.40100e+03 2.69110e+04 6.42100e+03 2.61800e+03 3.68300e+03 1.80000e+01\n",
            "  1.19827e+05 1.89660e+04]\n",
            " [1.05600e+03 2.44570e+04 6.77900e+03 8.82300e+03 1.40070e+04 1.07000e+02\n",
            "  3.12640e+04 1.76541e+05]]\n"
          ],
          "name": "stdout"
        },
        {
          "output_type": "display_data",
          "data": {
            "image/png": "[encoded data removed]",
            "text/plain": [
              "<Figure size 720x504 with 2 Axes>"
            ]
          },
          "metadata": {
            "tags": []
          }
        }
      ]
    },
    {
      "cell_type": "code",
      "metadata": {
        "id": "s41hjySK_DFW",
        "colab_type": "code",
        "colab": {
          "base_uri": "https://localhost:8080/",
          "height": 423
        },
        "outputId": "267dc637-3387-446a-babf-84c8ae045687"
      },
      "source": [
        "#differnet size of gru on Q8\n",
        "\n",
        "from sklearn.model_selection import train_test_split\n",
        "from keras.metrics import categorical_accuracy\n",
        "from keras import backend  as K\n",
        "import tensorflow as tf\n",
        "import keras\n",
        "from keras.callbacks import History\n",
        "from keras.models import Model, Input\n",
        "from keras.layers import LSTM, Embedding, Dense, TimeDistributed, Bidirectional,GRU\n",
        "\n",
        "l=[25,50,100,150,200,250]\n",
        "\n",
        "for i in l:\n",
        "  X_train, X_test, y_train, y_test = train_test_split(input_data, target_data, test_size=.4, random_state=0)\n",
        "  seq_train, seq_test, target_train, target_test = train_test_split(input_seqs, target_seqs, test_size=.4, random_state=0)\n",
        "\n",
        "\n",
        "  n_words = len(tokenizer_encoder.word_index) + 1\n",
        "  n_tags = len(tokenizer_decoder.word_index) + 1\n",
        "  print(n_words, n_tags)\n",
        "\n",
        "  input = Input(shape=(maxlen_seq,))\n",
        "  x = Embedding(input_dim=n_words, output_dim=128, input_length=maxlen_seq)(input)\n",
        "  x = Bidirectional(GRU(units=i, return_sequences=True, recurrent_dropout=0.1))(x)\n",
        "  y = TimeDistributed(Dense(n_tags, activation=\"softmax\"))(x)\n",
        "  model = Model(input, y)\n",
        "  model.summary()\n",
        "\n",
        "  loss = []\n",
        "  acc = []\n",
        "  val_loss = []\n",
        "  val_acc = []\n",
        "\n",
        "  def q8_acc(y_true, y_pred):\n",
        "      y = tf.argmax(y_true, axis=-1)\n",
        "      y_ = tf.argmax(y_pred, axis=-1)\n",
        "      mask = tf.greater(y, 0)\n",
        "      return K.cast(K.equal(tf.boolean_mask(y, mask), tf.boolean_mask(y_, mask)), K.floatx())\n",
        "\n",
        "\n",
        "\n",
        "  model.compile(optimizer=\"rmsprop\", loss=\"categorical_crossentropy\",  metrics=[\"accuracy\", q8_acc])\n",
        "\n",
        "  hist = History()\n",
        "\n",
        "  history = model.fit(X_train, y_train, batch_size=128, epochs=5,steps_per_epoch=None, validation_steps=None, validation_data=(X_test, y_test), verbose=1, callbacks=[hist])\n"
      ],
      "execution_count": null,
      "outputs": [
        {
          "output_type": "stream",
          "text": [
            "8421 9\n",
            "_________________________________________________________________\n",
            "Layer (type)                 Output Shape              Param #   \n",
            "=================================================================\n",
            "input_14 (InputLayer)        (None, 128)               0         \n",
            "_________________________________________________________________\n",
            "embedding_14 (Embedding)     (None, 128, 128)          1077888   \n",
            "_________________________________________________________________\n",
            "bidirectional_14 (Bidirectio (None, 128, 50)           23100     \n",
            "_________________________________________________________________\n",
            "time_distributed_14 (TimeDis (None, 128, 9)            459       \n",
            "=================================================================\n",
            "Total params: 1,101,447\n",
            "Trainable params: 1,101,447\n",
            "Non-trainable params: 0\n",
            "_________________________________________________________________\n",
            "Train on 57534 samples, validate on 38357 samples\n",
            "Epoch 1/5\n",
            "57534/57534 [==============================] - 193s 3ms/step - loss: 0.7560 - acc: 0.7471 - q8_acc: 0.5993 - val_loss: 0.5901 - val_acc: 0.7973 - val_q8_acc: 0.6779\n",
            "Epoch 2/5\n",
            "57534/57534 [==============================] - 187s 3ms/step - loss: 0.5548 - acc: 0.8106 - q8_acc: 0.6988 - val_loss: 0.5259 - val_acc: 0.8228 - val_q8_acc: 0.7183\n",
            "Epoch 3/5\n",
            " 7168/57534 [==>...........................] - ETA: 2:17 - loss: 0.5152 - acc: 0.8253 - q8_acc: 0.7231"
          ],
          "name": "stdout"
        }
      ]
    },
    {
      "cell_type": "code",
      "metadata": {
        "id": "yZlNM4F4_QPo",
        "colab_type": "code",
        "colab": {}
      },
      "source": [
        ""
      ],
      "execution_count": null,
      "outputs": []
    }
  ]
}