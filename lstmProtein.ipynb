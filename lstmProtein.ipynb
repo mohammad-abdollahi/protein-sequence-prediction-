{
  "nbformat": 4,
  "nbformat_minor": 0,
  "metadata": {
    "colab": {
      "name": "protein_proj.ipynb",
      "provenance": [],
      "collapsed_sections": []
    },
    "kernelspec": {
      "name": "python3",
      "display_name": "Python 3"
    },
    "accelerator": "GPU"
  },
  "cells": [
    {
      "cell_type": "code",
      "metadata": {
        "id": "V-V2EnQ_0rQo",
        "colab_type": "code",
        "colab": {
          "base_uri": "https://localhost:8080/",
          "height": 202
        },
        "outputId": "a0071b39-7d15-4dc4-fa8a-a24db3190bea"
      },
      "source": [
        "!wget \"https://cdn.rcsb.org/etl/kabschSander/ss.txt.gz\""
      ],
      "execution_count": null,
      "outputs": [
        {
          "output_type": "stream",
          "text": [
            "--2019-06-29 07:14:29--  https://cdn.rcsb.org/etl/kabschSander/ss.txt.gz\n",
            "Resolving cdn.rcsb.org (cdn.rcsb.org)... 132.249.213.72\n",
            "Connecting to cdn.rcsb.org (cdn.rcsb.org)|132.249.213.72|:443... connected.\n",
            "HTTP request sent, awaiting response... 200 OK\n",
            "Length: 41294075 (39M) [application/x-gzip]\n",
            "Saving to: ‘ss.txt.gz’\n",
            "\n",
            "ss.txt.gz           100%[===================>]  39.38M   372KB/s    in 1m 59s  \n",
            "\n",
            "2019-06-29 07:16:29 (339 KB/s) - ‘ss.txt.gz’ saved [41294075/41294075]\n",
            "\n"
          ],
          "name": "stdout"
        }
      ]
    },
    {
      "cell_type": "code",
      "metadata": {
        "id": "FxRD0LEk12ks",
        "colab_type": "code",
        "colab": {}
      },
      "source": [
        "!gunzip ss.txt.gz"
      ],
      "execution_count": null,
      "outputs": []
    },
    {
      "cell_type": "code",
      "metadata": {
        "id": "aDcimZe-0wS5",
        "colab_type": "code",
        "colab": {}
      },
      "source": [
        "import gzip\n",
        "import logging\n",
        "import csv\n",
        "import argparse\n",
        "\n",
        "with open('ss.txt', 'rt') as inf:\n",
        "    # cannot use SeqIO.parse from Biopython because it cannot handle empty\n",
        "    # string in DSSP secondary structure properly! Just put here for\n",
        "    # reference\n",
        "\n",
        "    # e.g. seqio = SeqIO.parse(inf, format='fasta')\n",
        "\n",
        "    with open('out.csv', 'wt') as opf:\n",
        "        csv_writer = csv.writer(opf)\n",
        "        csv_writer.writerow(['pdb_id', 'chain_code', 'seq', 'sst'])\n",
        "\n",
        "        state = None\n",
        "        count = 0\n",
        "        seq_id, seq_chain_id = '', ''\n",
        "        sst_id, sst_chain_id = '', ''\n",
        "        seq, sst = '', ''\n",
        "        log_interval = 30000\n",
        "        for k, line in enumerate(inf):\n",
        "            if line.startswith('>'):\n",
        "                line = line.replace('>', '')\n",
        "                if state is None or state == 'ss':\n",
        "                    if state == 'ss':\n",
        "                        assert seq_id == sst_id\n",
        "                        assert seq_chain_id == sst_chain_id\n",
        "                        csv_writer.writerow(\n",
        "                            [seq_id, seq_chain_id, seq, sst]\n",
        "                        )\n",
        "                        count += 1\n",
        "                        if count % log_interval == 0:\n",
        "                            msg = 'processing {0}th record'.format(count)\n",
        "                            logging.info(msg)\n",
        "\n",
        "                    state = 'seq'\n",
        "                    seq_id = line.split(':')[0]\n",
        "                    seq_chain_id = line.split(':')[1]\n",
        "                    seq, sst = '', ''\n",
        "                elif state == 'seq':\n",
        "                    state = 'ss'\n",
        "                    sst_id = line.split(':')[0]\n",
        "                    sst_chain_id = line.split(':')[1]\n",
        "                else:\n",
        "                    raise ValueError('unknown state: {0}'.format(state))\n",
        "                continue\n",
        "\n",
        "            if state == 'seq':\n",
        "                seq += line.strip()\n",
        "            else:\n",
        "                sst += line.replace(' ', 'C').strip()\n",
        "\n",
        "        # count last seq\n",
        "        count += 1"
      ],
      "execution_count": null,
      "outputs": []
    },
    {
      "cell_type": "code",
      "metadata": {
        "id": "MSy8lUICBDFh",
        "colab_type": "code",
        "colab": {}
      },
      "source": [
        "import pandas as pd"
      ],
      "execution_count": null,
      "outputs": []
    },
    {
      "cell_type": "code",
      "metadata": {
        "id": "RNenIqedCpDy",
        "colab_type": "code",
        "colab": {
          "base_uri": "https://localhost:8080/",
          "height": 215
        },
        "outputId": "7e833176-f600-4862-f0a8-5f516c9e3d3d"
      },
      "source": [
        "data = pd.read_csv(\"out.csv\")\n",
        "data.head()"
      ],
      "execution_count": null,
      "outputs": [
        {
          "output_type": "execute_result",
          "data": {
            "text/html": [
              "<div>\n",
              "<style scoped>\n",
              "    .dataframe tbody tr th:only-of-type {\n",
              "        vertical-align: middle;\n",
              "    }\n",
              "\n",
              "    .dataframe tbody tr th {\n",
              "        vertical-align: top;\n",
              "    }\n",
              "\n",
              "    .dataframe thead th {\n",
              "        text-align: right;\n",
              "    }\n",
              "</style>\n",
              "<table border=\"1\" class=\"dataframe\">\n",
              "  <thead>\n",
              "    <tr style=\"text-align: right;\">\n",
              "      <th></th>\n",
              "      <th>pdb_id</th>\n",
              "      <th>chain_code</th>\n",
              "      <th>seq</th>\n",
              "      <th>sst</th>\n",
              "    </tr>\n",
              "  </thead>\n",
              "  <tbody>\n",
              "    <tr>\n",
              "      <th>0</th>\n",
              "      <td>101M</td>\n",
              "      <td>A</td>\n",
              "      <td>MVLSEGEWQLVLHVWAKVEADVAGHGQDILIRLFKSHPETLEKFDR...</td>\n",
              "      <td>CCCCHHHHHHHHHHHHHHGGGHHHHHHHHHHHHHHHCGGGGGGCTT...</td>\n",
              "    </tr>\n",
              "    <tr>\n",
              "      <th>1</th>\n",
              "      <td>102L</td>\n",
              "      <td>A</td>\n",
              "      <td>MNIFEMLRIDEGLRLKIYKDTEGYYTIGIGHLLTKSPSLNAAAKSE...</td>\n",
              "      <td>CCHHHHHHHHHCCEEEEEECTTSCEEEETTEEEESSSCTTTHHHHH...</td>\n",
              "    </tr>\n",
              "    <tr>\n",
              "      <th>2</th>\n",
              "      <td>102M</td>\n",
              "      <td>A</td>\n",
              "      <td>MVLSEGEWQLVLHVWAKVEADVAGHGQDILIRLFKSHPETLEKFDR...</td>\n",
              "      <td>CCCCHHHHHHHHHHHHHHGGGHHHHHHHHHHHHHHHCGGGGGGCTT...</td>\n",
              "    </tr>\n",
              "    <tr>\n",
              "      <th>3</th>\n",
              "      <td>103L</td>\n",
              "      <td>A</td>\n",
              "      <td>MNIFEMLRIDEGLRLKIYKDTEGYYTIGIGHLLTKSPSLNSLDAAK...</td>\n",
              "      <td>CCHHHHHHHHHCCEEEEEECTTSCEEEETTEECCCCCCCCCHHHHH...</td>\n",
              "    </tr>\n",
              "    <tr>\n",
              "      <th>4</th>\n",
              "      <td>103M</td>\n",
              "      <td>A</td>\n",
              "      <td>MVLSEGEWQLVLHVWAKVEADVAGHGQDILIRLFKSHPETLEKFDR...</td>\n",
              "      <td>CCCCHHHHHHHHHHHHHHGGGHHHHHHHHHHHHHHHCGGGGGGCTT...</td>\n",
              "    </tr>\n",
              "  </tbody>\n",
              "</table>\n",
              "</div>"
            ],
            "text/plain": [
              "  pdb_id  ...                                                sst\n",
              "0   101M  ...  CCCCHHHHHHHHHHHHHHGGGHHHHHHHHHHHHHHHCGGGGGGCTT...\n",
              "1   102L  ...  CCHHHHHHHHHCCEEEEEECTTSCEEEETTEEEESSSCTTTHHHHH...\n",
              "2   102M  ...  CCCCHHHHHHHHHHHHHHGGGHHHHHHHHHHHHHHHCGGGGGGCTT...\n",
              "3   103L  ...  CCHHHHHHHHHCCEEEEEECTTSCEEEETTEECCCCCCCCCHHHHH...\n",
              "4   103M  ...  CCCCHHHHHHHHHHHHHHGGGHHHHHHHHHHHHHHHCGGGGGGCTT...\n",
              "\n",
              "[5 rows x 4 columns]"
            ]
          },
          "metadata": {
            "tags": []
          },
          "execution_count": 5
        }
      ]
    },
    {
      "cell_type": "code",
      "metadata": {
        "id": "oueTpHTnCxGM",
        "colab_type": "code",
        "colab": {}
      },
      "source": [
        "import datetime\n",
        "import itertools\n",
        "import pandas as pd\n"
      ],
      "execution_count": null,
      "outputs": []
    },
    {
      "cell_type": "code",
      "metadata": {
        "id": "IlwuqJU3DIu9",
        "colab_type": "code",
        "colab": {}
      },
      "source": [
        "STATE_DD_8T3 = {\n",
        "    'G': 'H',\n",
        "    'H': 'H',\n",
        "    'I': 'H',\n",
        "    \n",
        "    'B': 'E',\n",
        "    'E': 'E',\n",
        "    \n",
        "    'T': 'C',\n",
        "    'S': 'C',\n",
        "    'C': 'C',\n",
        "}"
      ],
      "execution_count": null,
      "outputs": []
    },
    {
      "cell_type": "code",
      "metadata": {
        "id": "l1zU5Z8tDMQX",
        "colab_type": "code",
        "colab": {}
      },
      "source": [
        "STANDARD_AAS = ['A', 'C', 'D', 'E', 'F', 'G', 'H', 'I', 'K', 'L', 'M', 'N', 'P', 'Q', 'R', 'S', 'T', 'V', 'W', 'Y']\n",
        "NON_STANDARD_AAS = list('BJOUXZ')\n",
        "\n",
        "def mask_unk_aa(seq):\n",
        "    for i in NON_STANDARD_AAS:\n",
        "        seq = seq.replace(i, '*')\n",
        "    return seq\n",
        "  \n",
        "def convert_8t3_state(sst):\n",
        "    out = sst\n",
        "    for i, j in STATE_DD_8T3.items():\n",
        "        out = out.replace(i, j)\n",
        "    return out\n",
        "  \n"
      ],
      "execution_count": null,
      "outputs": []
    },
    {
      "cell_type": "code",
      "metadata": {
        "id": "I54YXkUDDhq_",
        "colab_type": "code",
        "colab": {
          "base_uri": "https://localhost:8080/",
          "height": 84
        },
        "outputId": "5a0f2e23-948c-462e-e8ec-f40ac69748e4"
      },
      "source": [
        "adf = pd.read_csv('out.csv')\n",
        "%time all_chars = set(itertools.chain(*adf.seq.values))\n",
        "all_chars - set(STANDARD_AAS)\n",
        "set(STANDARD_AAS) - all_chars\n",
        "%time adf['seq'] = adf.seq.apply(mask_unk_aa).to_frame()\n",
        "assert set(itertools.chain(*adf.seq.values)) - set(STANDARD_AAS) == set(['*'])\n",
        "adf.rename(columns={'sst': 'sst8'}, inplace=True)"
      ],
      "execution_count": null,
      "outputs": [
        {
          "output_type": "stream",
          "text": [
            "CPU times: user 2.02 s, sys: 0 ns, total: 2.02 s\n",
            "Wall time: 2.02 s\n",
            "CPU times: user 614 ms, sys: 2.38 ms, total: 617 ms\n",
            "Wall time: 619 ms\n"
          ],
          "name": "stdout"
        }
      ]
    },
    {
      "cell_type": "code",
      "metadata": {
        "id": "3qlUZ4pzDiVO",
        "colab_type": "code",
        "colab": {
          "base_uri": "https://localhost:8080/",
          "height": 296
        },
        "outputId": "11ba9b5a-0abd-4b9f-a58a-f7951a6134fa"
      },
      "source": [
        "%time adf['sst3'] = adf['sst8'].apply(convert_8t3_state)\n",
        "%time adf['len'] = adf.seq.apply(lambda s: len(s))\n",
        "adf.head(1).T\n",
        "adf.sort_values(['len', 'pdb_id', 'chain_code'], inplace=True)\n",
        "%time adf['has_nonstd_aa'] = adf.seq.apply(lambda s: '*' in s)\n",
        "adf.head()"
      ],
      "execution_count": null,
      "outputs": [
        {
          "output_type": "stream",
          "text": [
            "CPU times: user 1.45 s, sys: 36.9 ms, total: 1.49 s\n",
            "Wall time: 1.49 s\n",
            "CPU times: user 176 ms, sys: 3.01 ms, total: 179 ms\n",
            "Wall time: 179 ms\n",
            "CPU times: user 101 ms, sys: 13 µs, total: 101 ms\n",
            "Wall time: 101 ms\n"
          ],
          "name": "stdout"
        },
        {
          "output_type": "execute_result",
          "data": {
            "text/html": [
              "<div>\n",
              "<style scoped>\n",
              "    .dataframe tbody tr th:only-of-type {\n",
              "        vertical-align: middle;\n",
              "    }\n",
              "\n",
              "    .dataframe tbody tr th {\n",
              "        vertical-align: top;\n",
              "    }\n",
              "\n",
              "    .dataframe thead th {\n",
              "        text-align: right;\n",
              "    }\n",
              "</style>\n",
              "<table border=\"1\" class=\"dataframe\">\n",
              "  <thead>\n",
              "    <tr style=\"text-align: right;\">\n",
              "      <th></th>\n",
              "      <th>pdb_id</th>\n",
              "      <th>chain_code</th>\n",
              "      <th>seq</th>\n",
              "      <th>sst8</th>\n",
              "      <th>sst3</th>\n",
              "      <th>len</th>\n",
              "      <th>has_nonstd_aa</th>\n",
              "    </tr>\n",
              "  </thead>\n",
              "  <tbody>\n",
              "    <tr>\n",
              "      <th>377</th>\n",
              "      <td>1A30</td>\n",
              "      <td>C</td>\n",
              "      <td>EDL</td>\n",
              "      <td>CBC</td>\n",
              "      <td>CEC</td>\n",
              "      <td>3</td>\n",
              "      <td>False</td>\n",
              "    </tr>\n",
              "    <tr>\n",
              "      <th>2336</th>\n",
              "      <td>1B05</td>\n",
              "      <td>B</td>\n",
              "      <td>KCK</td>\n",
              "      <td>CBC</td>\n",
              "      <td>CEC</td>\n",
              "      <td>3</td>\n",
              "      <td>False</td>\n",
              "    </tr>\n",
              "    <tr>\n",
              "      <th>2369</th>\n",
              "      <td>1B0H</td>\n",
              "      <td>B</td>\n",
              "      <td>KAK</td>\n",
              "      <td>CBC</td>\n",
              "      <td>CEC</td>\n",
              "      <td>3</td>\n",
              "      <td>False</td>\n",
              "    </tr>\n",
              "    <tr>\n",
              "      <th>2419</th>\n",
              "      <td>1B1H</td>\n",
              "      <td>B</td>\n",
              "      <td>KFK</td>\n",
              "      <td>CBC</td>\n",
              "      <td>CEC</td>\n",
              "      <td>3</td>\n",
              "      <td>False</td>\n",
              "    </tr>\n",
              "    <tr>\n",
              "      <th>2473</th>\n",
              "      <td>1B2H</td>\n",
              "      <td>B</td>\n",
              "      <td>KAK</td>\n",
              "      <td>CBC</td>\n",
              "      <td>CEC</td>\n",
              "      <td>3</td>\n",
              "      <td>False</td>\n",
              "    </tr>\n",
              "  </tbody>\n",
              "</table>\n",
              "</div>"
            ],
            "text/plain": [
              "     pdb_id chain_code  seq sst8 sst3  len  has_nonstd_aa\n",
              "377    1A30          C  EDL  CBC  CEC    3          False\n",
              "2336   1B05          B  KCK  CBC  CEC    3          False\n",
              "2369   1B0H          B  KAK  CBC  CEC    3          False\n",
              "2419   1B1H          B  KFK  CBC  CEC    3          False\n",
              "2473   1B2H          B  KAK  CBC  CEC    3          False"
            ]
          },
          "metadata": {
            "tags": []
          },
          "execution_count": 10
        }
      ]
    },
    {
      "cell_type": "code",
      "metadata": {
        "id": "NaS35jBwEivC",
        "colab_type": "code",
        "colab": {
          "base_uri": "https://localhost:8080/",
          "height": 302
        },
        "outputId": "cfe92a8a-b763-430a-9ebb-96e0830ab455"
      },
      "source": [
        "import numpy as np \n",
        "import pandas as pd\n",
        "import matplotlib.pyplot as plt\n",
        "%matplotlib inline\n",
        "\n",
        "df = adf\n",
        "df.len.hist(bins=100)\n",
        "print(df.shape)\n",
        "\n",
        "def seq2ngrams(seqs, n=3):\n",
        "    return np.array([[seq[i:i+n] for i in range(len(seq))] for seq in seqs])\n",
        "\n",
        "maxlen_seq = 128\n",
        "input_seqs, target_seqs = df[['seq', 'sst3']][(df.len <= maxlen_seq) & (~df.has_nonstd_aa)].values.T\n",
        "input_grams = seq2ngrams(input_seqs)\n",
        "print(len(input_seqs))"
      ],
      "execution_count": null,
      "outputs": [
        {
          "output_type": "stream",
          "text": [
            "(433099, 7)\n",
            "95891\n"
          ],
          "name": "stdout"
        },
        {
          "output_type": "display_data",
          "data": {
            "image/png": "[encoded data removed]",
            "text/plain": [
              "<Figure size 432x288 with 1 Axes>"
            ]
          },
          "metadata": {
            "tags": []
          }
        }
      ]
    },
    {
      "cell_type": "code",
      "metadata": {
        "id": "1IJgzZI1FDPE",
        "colab_type": "code",
        "colab": {
          "base_uri": "https://localhost:8080/",
          "height": 50
        },
        "outputId": "09a8a3b5-428c-426b-978c-7e50fa22b8f6"
      },
      "source": [
        "from keras.preprocessing import text, sequence\n",
        "from keras.preprocessing.text import Tokenizer\n",
        "from keras.utils import to_categorical\n",
        "\n",
        "tokenizer_encoder = Tokenizer()\n",
        "tokenizer_encoder.fit_on_texts(input_grams)\n",
        "input_data = tokenizer_encoder.texts_to_sequences(input_grams)\n",
        "input_data = sequence.pad_sequences(input_data, maxlen=maxlen_seq, padding='post')\n",
        "\n",
        "tokenizer_decoder = Tokenizer(char_level=True)\n",
        "tokenizer_decoder.fit_on_texts(target_seqs)\n",
        "target_data = tokenizer_decoder.texts_to_sequences(target_seqs)\n",
        "target_data = sequence.pad_sequences(target_data, maxlen=maxlen_seq, padding='post')\n",
        "target_data = to_categorical(target_data)\n",
        "input_data.shape, target_data.shape"
      ],
      "execution_count": null,
      "outputs": [
        {
          "output_type": "stream",
          "text": [
            "Using TensorFlow backend.\n"
          ],
          "name": "stderr"
        },
        {
          "output_type": "execute_result",
          "data": {
            "text/plain": [
              "((95891, 128), (95891, 128, 4))"
            ]
          },
          "metadata": {
            "tags": []
          },
          "execution_count": 12
        }
      ]
    },
    {
      "cell_type": "code",
      "metadata": {
        "id": "tcacfSxvFJOc",
        "colab_type": "code",
        "colab": {
          "base_uri": "https://localhost:8080/",
          "height": 507
        },
        "outputId": "aac15d39-cd9e-4ad8-9d9e-9ce5185f8be5"
      },
      "source": [
        "from keras.models import Model, Input\n",
        "from keras.layers import LSTM, Embedding, Dense, TimeDistributed, Bidirectional\n",
        "\n",
        "n_words = len(tokenizer_encoder.word_index) + 1\n",
        "n_tags = len(tokenizer_decoder.word_index) + 1\n",
        "print(n_words, n_tags)\n",
        "\n",
        "input = Input(shape=(maxlen_seq,))\n",
        "x = Embedding(input_dim=n_words, output_dim=128, input_length=maxlen_seq)(input)\n",
        "x = Bidirectional(LSTM(units=64, return_sequences=True, recurrent_dropout=0.1))(x)\n",
        "y = TimeDistributed(Dense(n_tags, activation=\"softmax\"))(x)\n",
        "model = Model(input, y)\n",
        "model.summary()"
      ],
      "execution_count": null,
      "outputs": [
        {
          "output_type": "stream",
          "text": [
            "WARNING: Logging before flag parsing goes to stderr.\n",
            "W0629 07:17:16.184705 139802754787200 deprecation_wrapper.py:119] From /usr/local/lib/python3.6/dist-packages/keras/backend/tensorflow_backend.py:74: The name tf.get_default_graph is deprecated. Please use tf.compat.v1.get_default_graph instead.\n",
            "\n",
            "W0629 07:17:16.219809 139802754787200 deprecation_wrapper.py:119] From /usr/local/lib/python3.6/dist-packages/keras/backend/tensorflow_backend.py:517: The name tf.placeholder is deprecated. Please use tf.compat.v1.placeholder instead.\n",
            "\n",
            "W0629 07:17:16.227000 139802754787200 deprecation_wrapper.py:119] From /usr/local/lib/python3.6/dist-packages/keras/backend/tensorflow_backend.py:4138: The name tf.random_uniform is deprecated. Please use tf.random.uniform instead.\n",
            "\n"
          ],
          "name": "stderr"
        },
        {
          "output_type": "stream",
          "text": [
            "8421 4\n"
          ],
          "name": "stdout"
        },
        {
          "output_type": "stream",
          "text": [
            "W0629 07:17:16.396435 139802754787200 deprecation_wrapper.py:119] From /usr/local/lib/python3.6/dist-packages/keras/backend/tensorflow_backend.py:133: The name tf.placeholder_with_default is deprecated. Please use tf.compat.v1.placeholder_with_default instead.\n",
            "\n",
            "W0629 07:17:16.406652 139802754787200 deprecation.py:506] From /usr/local/lib/python3.6/dist-packages/keras/backend/tensorflow_backend.py:3445: calling dropout (from tensorflow.python.ops.nn_ops) with keep_prob is deprecated and will be removed in a future version.\n",
            "Instructions for updating:\n",
            "Please use `rate` instead of `keep_prob`. Rate should be set to `rate = 1 - keep_prob`.\n"
          ],
          "name": "stderr"
        },
        {
          "output_type": "stream",
          "text": [
            "_________________________________________________________________\n",
            "Layer (type)                 Output Shape              Param #   \n",
            "=================================================================\n",
            "input_1 (InputLayer)         (None, 128)               0         \n",
            "_________________________________________________________________\n",
            "embedding_1 (Embedding)      (None, 128, 128)          1077888   \n",
            "_________________________________________________________________\n",
            "bidirectional_1 (Bidirection (None, 128, 128)          98816     \n",
            "_________________________________________________________________\n",
            "time_distributed_1 (TimeDist (None, 128, 4)            516       \n",
            "=================================================================\n",
            "Total params: 1,177,220\n",
            "Trainable params: 1,177,220\n",
            "Non-trainable params: 0\n",
            "_________________________________________________________________\n"
          ],
          "name": "stdout"
        }
      ]
    },
    {
      "cell_type": "code",
      "metadata": {
        "id": "upF70yXjFPTt",
        "colab_type": "code",
        "colab": {
          "base_uri": "https://localhost:8080/",
          "height": 339
        },
        "outputId": "699386d1-908b-408c-815c-df4804a2aa4a"
      },
      "source": [
        "from sklearn.model_selection import train_test_split\n",
        "from keras.metrics import categorical_accuracy\n",
        "from keras import backend  as K\n",
        "import tensorflow as tf\n",
        "import keras\n",
        "from keras.callbacks import History \n",
        "\n",
        "loss = []\n",
        "acc = []\n",
        "val_loss = []\n",
        "val_acc = []\n",
        "\n",
        "def q3_acc(y_true, y_pred):\n",
        "    y = tf.argmax(y_true, axis=-1)\n",
        "    y_ = tf.argmax(y_pred, axis=-1)\n",
        "    mask = tf.greater(y, 0)\n",
        "    return K.cast(K.equal(tf.boolean_mask(y, mask), tf.boolean_mask(y_, mask)), K.floatx())\n",
        "\n",
        "class Metrics(keras.callbacks.Callback):\n",
        "    def on_train_begin(self, logs={}):\n",
        "        self._data = []\n",
        "\n",
        "    def on_batch_end(self, batch, logs={}):\n",
        "      loss.append(logs.get('loss'))\n",
        "      acc.append(logs.get('acc'))\n",
        "      val_acc.append(logs.get('val_acc'))\n",
        "      val_loss.append(logs.get('val_loss'))\n",
        "      return\n",
        "    '''def on_epoch_end(self, batch, logs={}):\n",
        "        X_val, y_val = self.validation_data[0], self.validation_data[1]\n",
        "        y_predict = np.asarray(model.predict(X_val))\n",
        "\n",
        "        y_val = np.argmax(y_val, axis=1)\n",
        "        y_predict = np.argmax(y_predict, axis=1)\n",
        "\n",
        "        self._data.append({\n",
        "            'val_recall': recall_score(y_val, y_predict),\n",
        "            'val_precision': precision_score(y_val, y_predict),\n",
        "        })\n",
        "        return'''\n",
        "\n",
        "hist = History()\n",
        "model.compile(optimizer=\"rmsprop\", loss=\"categorical_crossentropy\",  metrics=[\"accuracy\", q3_acc])\n",
        "\n",
        "X_train, X_test, y_train, y_test = train_test_split(input_data, target_data, test_size=.4, random_state=0)\n",
        "seq_train, seq_test, target_train, target_test = train_test_split(input_seqs, target_seqs, test_size=.4, random_state=0)\n",
        "\n",
        "history = model.fit(X_train, y_train, batch_size=128, epochs=5,steps_per_epoch=None, validation_steps=None, validation_data=(X_test, y_test), verbose=1, callbacks=[hist])\n"
      ],
      "execution_count": null,
      "outputs": [
        {
          "output_type": "stream",
          "text": [
            "W0629 07:17:17.365664 139802754787200 deprecation_wrapper.py:119] From /usr/local/lib/python3.6/dist-packages/keras/optimizers.py:790: The name tf.train.Optimizer is deprecated. Please use tf.compat.v1.train.Optimizer instead.\n",
            "\n",
            "W0629 07:17:17.389561 139802754787200 deprecation_wrapper.py:119] From /usr/local/lib/python3.6/dist-packages/keras/backend/tensorflow_backend.py:3295: The name tf.log is deprecated. Please use tf.math.log instead.\n",
            "\n",
            "W0629 07:17:17.427649 139802754787200 deprecation.py:323] From /usr/local/lib/python3.6/dist-packages/tensorflow/python/ops/array_ops.py:1354: add_dispatch_support.<locals>.wrapper (from tensorflow.python.ops.array_ops) is deprecated and will be removed in a future version.\n",
            "Instructions for updating:\n",
            "Use tf.where in 2.0, which has the same broadcast rule as np.where\n"
          ],
          "name": "stderr"
        },
        {
          "output_type": "stream",
          "text": [
            "Train on 57534 samples, validate on 38357 samples\n",
            "Epoch 1/5\n",
            "57534/57534 [==============================] - 234s 4ms/step - loss: 0.4021 - acc: 0.8319 - q3_acc: 0.7341 - val_loss: 0.3037 - val_acc: 0.8799 - val_q3_acc: 0.8091\n",
            "Epoch 2/5\n",
            "57534/57534 [==============================] - 227s 4ms/step - loss: 0.2842 - acc: 0.8880 - q3_acc: 0.8218 - val_loss: 0.2686 - val_acc: 0.8958 - val_q3_acc: 0.8344\n",
            "Epoch 3/5\n",
            "57534/57534 [==============================] - 225s 4ms/step - loss: 0.2507 - acc: 0.9024 - q3_acc: 0.8447 - val_loss: 0.2493 - val_acc: 0.9037 - val_q3_acc: 0.8468\n",
            "Epoch 4/5\n",
            "57534/57534 [==============================] - 236s 4ms/step - loss: 0.2290 - acc: 0.9112 - q3_acc: 0.8588 - val_loss: 0.2309 - val_acc: 0.9118 - val_q3_acc: 0.8598\n",
            "Epoch 5/5\n",
            "57534/57534 [==============================] - 253s 4ms/step - loss: 0.2112 - acc: 0.9185 - q3_acc: 0.8703 - val_loss: 0.2232 - val_acc: 0.9154 - val_q3_acc: 0.8655\n"
          ],
          "name": "stdout"
        }
      ]
    },
    {
      "cell_type": "code",
      "metadata": {
        "id": "oaQ8luSsnul8",
        "colab_type": "code",
        "colab": {
          "base_uri": "https://localhost:8080/",
          "height": 54
        },
        "outputId": "5b153bba-5f5a-4cbf-f60f-3474e46ad9bb"
      },
      "source": [
        "a = pd.DataFrame.from_dict(hist.history)\n",
        "a.to_csv(r\"lstmHistoryQ3.csv\" , index = None, header=True)\n",
        "a.head()\n",
        "print (hist.history)"
      ],
      "execution_count": null,
      "outputs": [
        {
          "output_type": "stream",
          "text": [
            "{'val_loss': [0.3081398104003371, 0.27128989968225403, 0.24854805617829162, 0.23112238222158132, 0.22036607067554287], 'val_acc': [0.8767628382663084, 0.8941011826549534, 0.9031838223605794, 0.9110199491572485, 0.9161119140543001], 'val_q3_acc': [0.8040916033493769, 0.8316469496005761, 0.846087391336963, 0.8585359902809792, 0.8666348060598885], 'loss': [0.4040375744421688, 0.2837368341806215, 0.2522511580466155, 0.2297866181568387, 0.21161658762559432], 'acc': [0.8305125827833564, 0.8876532517687208, 0.9011061665938628, 0.9103779939067423, 0.9177284029650068], 'q3_acc': [0.7307759775634552, 0.8213758073211292, 0.842703464701132, 0.8574797694698905, 0.8691583331365483]}\n"
          ],
          "name": "stdout"
        }
      ]
    },
    {
      "cell_type": "code",
      "metadata": {
        "id": "V0IOeHxQFVK9",
        "colab_type": "code",
        "colab": {
          "base_uri": "https://localhost:8080/",
          "height": 786
        },
        "outputId": "23a8a596-7b21-4bef-f55d-12f1659227a9"
      },
      "source": [
        "def onehot_to_seq(oh_seq, index):\n",
        "    s = ''\n",
        "    for o in oh_seq:\n",
        "        i = np.argmax(o)\n",
        "        if i != 0:\n",
        "            s += index[i]\n",
        "        else:\n",
        "            break\n",
        "    return s\n",
        "\n",
        "def plot_results(x, y, y_):\n",
        "    print(\"---\")\n",
        "    print(\"Input: \" + str(x))\n",
        "    print(\"Target: \" + str(onehot_to_seq(y, revsere_decoder_index).upper()))\n",
        "    print(\"Result: \" + str(onehot_to_seq(y_, revsere_decoder_index).upper()))\n",
        "    fig = plt.figure(figsize=(10,2))\n",
        "    plt.imshow(y.T, cmap='Blues')\n",
        "    plt.imshow(y_.T, cmap='Reds', alpha=.5)\n",
        "    plt.yticks(range(4), [' '] + [revsere_decoder_index[i+1].upper() for i in range(3)])\n",
        "    plt.show()\n",
        "    \n",
        "revsere_decoder_index = {value:key for key,value in tokenizer_decoder.word_index.items()}\n",
        "revsere_encoder_index = {value:key for key,value in tokenizer_encoder.word_index.items()}\n",
        "\n",
        "N=3\n",
        "y_train_pred = model.predict(X_train[:N])\n",
        "y_test_pred = model.predict(X_test[:N])\n",
        "print('training')\n",
        "for i in range(N):\n",
        "    plot_results(seq_train[i], y_train[i], y_train_pred[i])\n",
        "print('testing')\n",
        "for i in range(N):\n",
        "    plot_results(seq_test[i], y_test[i], y_test_pred[i])"
      ],
      "execution_count": null,
      "outputs": [
        {
          "output_type": "stream",
          "text": [
            "training\n",
            "---\n",
            "Input: IQKTPQIQVYSRHPPENGKPNILNCYVTQFHPPHIEIQMLKNGKKIPKVEMSDMSFSKDWSFYILAHTEFTPTETDTYACRVKHASMAEPKTVYWDRDM\n",
            "Target: CCCCCEEEEEECCCCCCCCCEEEEEEEEEECCCCCEEEEEECCEECCCCEECCCEECCCCCEEEEEEEEECCCCCCCEEEEEECCCCCCCEEEECCCCC\n",
            "Result: CCECCEEEEEECCCCCCCCCEEEEEEEEEEECCCCEEEEEECCEECCCCEECCCEECCCCCEEEEEEEEECCCCCCCEEEEEECCCCCCCEEEECCCCC\n"
          ],
          "name": "stdout"
        },
        {
          "output_type": "display_data",
          "data": {
            "image/png": "[encoded data removed]",
            "text/plain": [
              "<Figure size 720x144 with 1 Axes>"
            ]
          },
          "metadata": {
            "tags": []
          }
        },
        {
          "output_type": "stream",
          "text": [
            "---\n",
            "Input: EIDYKDIATLKNYITESGKIVPSRITGTRAKYQRQLARAIKRARYLSLLPYTDRH\n",
            "Target: CCCCCCHHHHHCCECCCCCECCHHHHCCCHHHHHHHHHHHHHHHHCCCCCCCCCC\n",
            "Result: CCCCCCHHHHHHCCCCCCCECCHHHHCCCHHHHHHHHHHHHHHHHCCCCCCCCCC\n"
          ],
          "name": "stdout"
        },
        {
          "output_type": "display_data",
          "data": {
            "image/png": "[encoded data removed]",
            "text/plain": [
              "<Figure size 720x144 with 1 Axes>"
            ]
          },
          "metadata": {
            "tags": []
          }
        },
        {
          "output_type": "stream",
          "text": [
            "---\n",
            "Input: MARLTAYERRKFRVRNRIKRTGRLRLSVFRSLKHIYAQIIDDEKGVTLVSASSLALKLKGNKTEVARQVGRALAEKALALGIKQVAFDRGPYKYHGRVKALAEGAREGGLEF\n",
            "Target: CCCCCHHHHHHHHHHHHHHHCCCCEEEEEECCCCEEEEEEECCCCEEEEEEECCCCCCCCCHHHHHHHHHHHHHHHHHCCCCCECEEECCCCCCCHHHHHHHHHHHHHCCEC\n",
            "Result: CCCCCCHHHHCCHCHHHHHCCCCCEEEEECCCCCEEEEEEECCCCEEEEECCCCCCCCCCCHHHHHHHHHHHHHHHHHHCCCCCCCCCCCCCCCCCCHHHHHCCCCCCCCCC\n"
          ],
          "name": "stdout"
        },
        {
          "output_type": "display_data",
          "data": {
            "image/png": "[encoded data removed]",
            "text/plain": [
              "<Figure size 720x144 with 1 Axes>"
            ]
          },
          "metadata": {
            "tags": []
          }
        },
        {
          "output_type": "stream",
          "text": [
            "testing\n",
            "---\n",
            "Input: MIQPQTYLEVADNTGARKIMCIRVLKGSNAKYATVGDVIVASVKEAIPRGAVKEGDVVKAVVVRTKKEIKRPDGSAIRFDDNAAVIINNQLEPRGTRVFGPVARELREKGFMKIVSLAPEVL\n",
            "Target: CECCCCEEEECECCCEEEEEEEEECCCCCCCCECCCCEEEEEEEEECCCCCCCCEEEEEEEEEECCCCEECCCCCEEEECCCEEEEECCCCCECCCCECCCECCHHHHHCCHHHHHHCCCEC\n",
            "Result: CECCCCEEEECCCCCEEEEEEEEECCCCCCCCCCCCCEEEEEEEEECCCCCCCCCCEEEEEEEECCCCEECCCCCEEEECCCEEEEECCCCCECCCCCCCCECCHHHHHCCHHHHHHCCCEC\n"
          ],
          "name": "stdout"
        },
        {
          "output_type": "display_data",
          "data": {
            "image/png": "[encoded data removed]",
            "text/plain": [
              "<Figure size 720x144 with 1 Axes>"
            ]
          },
          "metadata": {
            "tags": []
          }
        },
        {
          "output_type": "stream",
          "text": [
            "---\n",
            "Input: GSHMGKNGQGEPARVRCSHLLVKHSQSRRPSSWRQEQITRTQEEALELINGYIQKIKSGEEDFESLASQFSDCSSAKARGDLGAFSRGQMQKPFEDASFALRTGEMSGPVFTDSGIHIILRTE\n",
            "Target: CCCCCCCCCCCCCCEEEEEEEECCCCCCCCCCCCCCCCCCCHHHHHHHHHHHHHHHHHCCCCHHHHHHHHCCCHHHHHCCEEEEECCCCCCHHHHHHHHHCCCCCECCCEEECCEEEEEEECC\n",
            "Result: CCCCCCCCCCCCCCEEEEEEEECCCCCCCCCCCCCCCCCCCHHHHHHHHHHHHHHHHCCCCCHHHHHHHHHHHHHHHCCCCEEEEECCCCCHHHHHHHHHCCCCCECCCEEECCCEEEEEEEC\n"
          ],
          "name": "stdout"
        },
        {
          "output_type": "display_data",
          "data": {
            "image/png": "[encoded data removed]",
            "text/plain": [
              "<Figure size 720x144 with 1 Axes>"
            ]
          },
          "metadata": {
            "tags": []
          }
        },
        {
          "output_type": "stream",
          "text": [
            "---\n",
            "Input: MLIFVHIIAPVISGCAIAFFSYWLSRRNTK\n",
            "Target: CHHHCCCCCCCHHHHHHHHHHHHHHHHCCC\n",
            "Result: CEEEEEEEHHHHHHHHHHHHHHCCCCCCCC\n"
          ],
          "name": "stdout"
        },
        {
          "output_type": "display_data",
          "data": {
            "image/png": "[encoded data removed]",
            "text/plain": [
              "<Figure size 720x144 with 1 Axes>"
            ]
          },
          "metadata": {
            "tags": []
          }
        }
      ]
    },
    {
      "cell_type": "code",
      "metadata": {
        "id": "5wI12OnAI5-d",
        "colab_type": "code",
        "colab": {
          "base_uri": "https://localhost:8080/",
          "height": 295
        },
        "outputId": "00c904cb-b787-4af3-cb03-8a2ad78fc7b8"
      },
      "source": [
        "f = plt.figure()\n",
        "plt.plot(loss)\n",
        "plt.plot(val_loss)\n",
        "plt.title('Model loss')\n",
        "plt.ylabel('Loss')\n",
        "plt.xlabel('Epoch')\n",
        "plt.legend(['Train', 'Test'], loc='upper left')\n",
        "plt.show()\n",
        "f.savefig(\"lstmTrainLossQ3.pdf\", bbox_inches='tight')\n"
      ],
      "execution_count": null,
      "outputs": [
        {
          "output_type": "display_data",
          "data": {
            "image/png": "[encoded data removed]",
            "text/plain": [
              "<Figure size 432x288 with 1 Axes>"
            ]
          },
          "metadata": {
            "tags": []
          }
        }
      ]
    },
    {
      "cell_type": "code",
      "metadata": {
        "id": "03jt1LMdKFzb",
        "colab_type": "code",
        "colab": {
          "base_uri": "https://localhost:8080/",
          "height": 295
        },
        "outputId": "c5a3473e-1d6c-4802-c919-e18e75393e23"
      },
      "source": [
        "f = plt.figure()\n",
        "plt.grid()\n",
        "plt.plot(history.history['loss'])\n",
        "plt.plot(history.history['val_loss'])\n",
        "plt.title('Model loss')\n",
        "plt.ylabel('Loss')\n",
        "plt.xlabel('Epoch')\n",
        "plt.legend(['Train', 'Test'], loc='upper left')\n",
        "plt.show()\n",
        "f.savefig(\"lstmModelLossQ3.pdf\", bbox_inches='tight')"
      ],
      "execution_count": null,
      "outputs": [
        {
          "output_type": "display_data",
          "data": {
            "image/png": "[encoded data removed]",
            "text/plain": [
              "<Figure size 432x288 with 1 Axes>"
            ]
          },
          "metadata": {
            "tags": []
          }
        }
      ]
    },
    {
      "cell_type": "code",
      "metadata": {
        "id": "mmvgXKB1KKEZ",
        "colab_type": "code",
        "colab": {
          "base_uri": "https://localhost:8080/",
          "height": 295
        },
        "outputId": "6150a1bf-ad4f-49bb-abed-ef9835d6ca3a"
      },
      "source": [
        "f = plt.figure()\n",
        "plt.grid()\n",
        "plt.plot(history.history['acc'])\n",
        "plt.plot(history.history['val_acc'])\n",
        "plt.title('Model accuracy')\n",
        "plt.ylabel('Accuracy')\n",
        "plt.xlabel('Epoch')\n",
        "plt.legend(['Train', 'Test'], loc='upper left')\n",
        "plt.show()\n",
        "f.savefig(\"lstmModelAccuracyQ3.pdf\", bbox_inches='tight')"
      ],
      "execution_count": null,
      "outputs": [
        {
          "output_type": "display_data",
          "data": {
            "image/png": "[encoded data removed]",
            "text/plain": [
              "<Figure size 432x288 with 1 Axes>"
            ]
          },
          "metadata": {
            "tags": []
          }
        }
      ]
    },
    {
      "cell_type": "code",
      "metadata": {
        "id": "YfQAtU4M2qIY",
        "colab_type": "code",
        "colab": {
          "base_uri": "https://localhost:8080/",
          "height": 229
        },
        "outputId": "a5b28f33-ce06-417d-824a-f22f97b55405"
      },
      "source": [
        "t = model.predict(X_test)\n",
        "res = np.zeros((3,3))\n",
        "tres = np.zeros((3,3))\n",
        "def diff(a, b):\n",
        "  res = np.zeros((3,3))\n",
        "  x = str(onehot_to_seq(a, revsere_decoder_index).upper())\n",
        "  y = str(onehot_to_seq(b, revsere_decoder_index).upper())\n",
        "  for i in range(len(x)):\n",
        "    if (x[i]==y[i] and x[i]=='C'):\n",
        "      res[0][0]+=1\n",
        "    if (x[i]!=y[i] and x[i]=='C' and y[i]=='E'):\n",
        "      res[1][0]+=1\n",
        "    if (x[i]!=y[i] and x[i]=='C' and y[i]=='H'):\n",
        "      res[2][0]+=1\n",
        "    if(x[i]==y[i] and x[i]=='E'):\n",
        "      res[1][1]+=1\n",
        "    if (x[i]!=y[i] and x[i]=='E'and y[i]=='C'):\n",
        "      res[0][1]+=1\n",
        "    if (x[i]!=y[i] and x[i]=='E'and y[i]=='H'):\n",
        "      res[2][1]+=1\n",
        "    if(x[i]==y[i] and x[i]=='H'):\n",
        "      res[2][2]+=1\n",
        "    if(x[i]!=y[i] and x[i]=='H'and y[i]=='C'):\n",
        "      res[0][2]+=1\n",
        "    if(x[i]!=y[i] and x[i]=='H'and y[i]=='E'):\n",
        "      res[1][2]+=1\n",
        "  return res\n",
        "\n",
        "for i in range(38357):\n",
        "  tres=diff(t[i], y_test[i])\n",
        "  res +=tres"
      ],
      "execution_count": null,
      "outputs": [
        {
          "output_type": "error",
          "ename": "TypeError",
          "evalue": "ignored",
          "traceback": [
            "\u001b[0;31m---------------------------------------------------------------------------\u001b[0m",
            "\u001b[0;31mTypeError\u001b[0m                                 Traceback (most recent call last)",
            "\u001b[0;32m<ipython-input-48-ef18434c2679>\u001b[0m in \u001b[0;36m<module>\u001b[0;34m()\u001b[0m\n\u001b[1;32m     37\u001b[0m \u001b[0;31m#t = model.predict(X_test)\u001b[0m\u001b[0;34m\u001b[0m\u001b[0;34m\u001b[0m\u001b[0;34m\u001b[0m\u001b[0m\n\u001b[1;32m     38\u001b[0m \u001b[0;32mfor\u001b[0m \u001b[0mi\u001b[0m \u001b[0;32min\u001b[0m \u001b[0mrange\u001b[0m\u001b[0;34m(\u001b[0m\u001b[0;36m38357\u001b[0m\u001b[0;34m)\u001b[0m\u001b[0;34m:\u001b[0m\u001b[0;34m\u001b[0m\u001b[0;34m\u001b[0m\u001b[0m\n\u001b[0;32m---> 39\u001b[0;31m   \u001b[0mtTE\u001b[0m\u001b[0;34m,\u001b[0m\u001b[0mtTH\u001b[0m\u001b[0;34m,\u001b[0m\u001b[0mtTC\u001b[0m\u001b[0;34m,\u001b[0m\u001b[0mtE\u001b[0m\u001b[0;34m,\u001b[0m\u001b[0mtH\u001b[0m\u001b[0;34m,\u001b[0m\u001b[0mtC\u001b[0m\u001b[0;34m,\u001b[0m\u001b[0mtres\u001b[0m\u001b[0;34m=\u001b[0m\u001b[0mdiff\u001b[0m\u001b[0;34m(\u001b[0m\u001b[0mt\u001b[0m\u001b[0;34m[\u001b[0m\u001b[0mi\u001b[0m\u001b[0;34m]\u001b[0m\u001b[0;34m,\u001b[0m \u001b[0my_test\u001b[0m\u001b[0;34m[\u001b[0m\u001b[0mi\u001b[0m\u001b[0;34m]\u001b[0m\u001b[0;34m)\u001b[0m\u001b[0;34m\u001b[0m\u001b[0;34m\u001b[0m\u001b[0m\n\u001b[0m\u001b[1;32m     40\u001b[0m   \u001b[0mTH\u001b[0m\u001b[0;34m+=\u001b[0m\u001b[0mtTH\u001b[0m\u001b[0;34m\u001b[0m\u001b[0;34m\u001b[0m\u001b[0m\n\u001b[1;32m     41\u001b[0m   \u001b[0mTC\u001b[0m\u001b[0;34m+=\u001b[0m\u001b[0mtTC\u001b[0m\u001b[0;34m\u001b[0m\u001b[0;34m\u001b[0m\u001b[0m\n",
            "\u001b[0;31mTypeError\u001b[0m: 'Text' object does not support indexing"
          ]
        }
      ]
    },
    {
      "cell_type": "code",
      "metadata": {
        "id": "A3L59qeOdCfB",
        "colab_type": "code",
        "colab": {
          "base_uri": "https://localhost:8080/",
          "height": 610
        },
        "outputId": "31c413da-fab9-43e3-afb6-1568705cd39b"
      },
      "source": [
        "import seaborn as sn\n",
        "import pandas as pd\n",
        "import matplotlib.pyplot as plt\n",
        "from sklearn.metrics import confusion_matrix\n",
        "\n",
        "conf = np.zeros((3,3))\n",
        "for i in range(3):\n",
        "  for j in range(3):\n",
        "    conf[i][j] = res[i][j]/(res[i].sum())\n",
        "print(conf)\n",
        "\n",
        "df_cm = pd.DataFrame(conf, index = [i for i in \"CEH\"],\n",
        "                  columns = [i for i in \"CEH\"])\n",
        "plt.figure(figsize = (10,7))\n",
        "ax = sn.heatmap(df_cm, annot=True, fmt = '.1f', square=1, linewidth=1.)\n"
      ],
      "execution_count": null,
      "outputs": [
        {
          "output_type": "error",
          "ename": "TypeError",
          "evalue": "ignored",
          "traceback": [
            "\u001b[0;31m---------------------------------------------------------------------------\u001b[0m",
            "\u001b[0;31mTypeError\u001b[0m                                 Traceback (most recent call last)",
            "\u001b[0;32m<ipython-input-44-6faab0dbb076>\u001b[0m in \u001b[0;36m<module>\u001b[0;34m()\u001b[0m\n\u001b[1;32m      9\u001b[0m \u001b[0mplt\u001b[0m\u001b[0;34m.\u001b[0m\u001b[0mfigure\u001b[0m\u001b[0;34m(\u001b[0m\u001b[0mfigsize\u001b[0m \u001b[0;34m=\u001b[0m \u001b[0;34m(\u001b[0m\u001b[0;36m10\u001b[0m\u001b[0;34m,\u001b[0m\u001b[0;36m7\u001b[0m\u001b[0;34m)\u001b[0m\u001b[0;34m)\u001b[0m\u001b[0;34m\u001b[0m\u001b[0;34m\u001b[0m\u001b[0m\n\u001b[1;32m     10\u001b[0m \u001b[0max\u001b[0m \u001b[0;34m=\u001b[0m \u001b[0msn\u001b[0m\u001b[0;34m.\u001b[0m\u001b[0mheatmap\u001b[0m\u001b[0;34m(\u001b[0m\u001b[0mdf_cm\u001b[0m\u001b[0;34m,\u001b[0m \u001b[0mannot\u001b[0m\u001b[0;34m=\u001b[0m\u001b[0;32mTrue\u001b[0m\u001b[0;34m,\u001b[0m \u001b[0mfmt\u001b[0m \u001b[0;34m=\u001b[0m \u001b[0;34m'.1f'\u001b[0m\u001b[0;34m,\u001b[0m \u001b[0msquare\u001b[0m\u001b[0;34m=\u001b[0m\u001b[0;36m1\u001b[0m\u001b[0;34m,\u001b[0m \u001b[0mlinewidth\u001b[0m\u001b[0;34m=\u001b[0m\u001b[0;36m1.\u001b[0m\u001b[0;34m)\u001b[0m\u001b[0;34m\u001b[0m\u001b[0;34m\u001b[0m\u001b[0m\n\u001b[0;32m---> 11\u001b[0;31m \u001b[0;32mfor\u001b[0m \u001b[0mt\u001b[0m \u001b[0;32min\u001b[0m \u001b[0max\u001b[0m\u001b[0;34m.\u001b[0m\u001b[0mtexts\u001b[0m\u001b[0;34m:\u001b[0m \u001b[0mt\u001b[0m\u001b[0;34m.\u001b[0m\u001b[0mset_text\u001b[0m\u001b[0;34m(\u001b[0m\u001b[0mt\u001b[0m\u001b[0;34m.\u001b[0m\u001b[0mget_text\u001b[0m\u001b[0;34m(\u001b[0m\u001b[0;34m)\u001b[0m\u001b[0;34m/\u001b[0m \u001b[0;34m+\u001b[0m \u001b[0;34m\" %\"\u001b[0m\u001b[0;34m)\u001b[0m\u001b[0;34m\u001b[0m\u001b[0;34m\u001b[0m\u001b[0m\n\u001b[0m",
            "\u001b[0;31mTypeError\u001b[0m: bad operand type for unary +: 'str'"
          ]
        },
        {
          "output_type": "display_data",
          "data": {
            "image/png": "[encoded data removed]",
            "text/plain": [
              "<Figure size 720x504 with 2 Axes>"
            ]
          },
          "metadata": {
            "tags": []
          }
        }
      ]
    },
    {
      "cell_type": "code",
      "metadata": {
        "id": "FEUiZfoVBIIR",
        "colab_type": "code",
        "colab": {
          "base_uri": "https://localhost:8080/",
          "height": 910
        },
        "outputId": "42deda26-2a7b-4bbe-ffd1-b92edea8e12a"
      },
      "source": [
        "#different size of lstm on Q3\n",
        "\n",
        "from sklearn.model_selection import train_test_split\n",
        "from keras.metrics import categorical_accuracy\n",
        "from keras import backend  as K\n",
        "import tensorflow as tf\n",
        "import keras\n",
        "from keras.callbacks import History\n",
        "from keras.models import Model, Input\n",
        "from keras.layers import LSTM, Embedding, Dense, TimeDistributed, Bidirectional,GRU\n",
        "\n",
        "l=[25,50,100,150,200,250]\n",
        "\n",
        "for i in l:\n",
        "  X_train, X_test, y_train, y_test = train_test_split(input_data, target_data, test_size=.4, random_state=0)\n",
        "  seq_train, seq_test, target_train, target_test = train_test_split(input_seqs, target_seqs, test_size=.4, random_state=0)\n",
        "\n",
        "\n",
        "  n_words = len(tokenizer_encoder.word_index) + 1\n",
        "  n_tags = len(tokenizer_decoder.word_index) + 1\n",
        "  print(n_words, n_tags)\n",
        "\n",
        "  input = Input(shape=(maxlen_seq,))\n",
        "  x = Embedding(input_dim=n_words, output_dim=128, input_length=maxlen_seq)(input)\n",
        "  x = Bidirectional(LSTM(units=i, return_sequences=True, recurrent_dropout=0.1))(x)\n",
        "  y = TimeDistributed(Dense(n_tags, activation=\"softmax\"))(x)\n",
        "  model = Model(input, y)\n",
        "  model.summary()\n",
        "\n",
        "  loss = []\n",
        "  acc = []\n",
        "  val_loss = []\n",
        "  val_acc = []\n",
        "\n",
        "  def q3_acc(y_true, y_pred):\n",
        "      y = tf.argmax(y_true, axis=-1)\n",
        "      y_ = tf.argmax(y_pred, axis=-1)\n",
        "      mask = tf.greater(y, 0)\n",
        "      return K.cast(K.equal(tf.boolean_mask(y, mask), tf.boolean_mask(y_, mask)), K.floatx())\n",
        "\n",
        "\n",
        "\n",
        "  model.compile(optimizer=\"rmsprop\", loss=\"categorical_crossentropy\",  metrics=[\"accuracy\", q3_acc])\n",
        "\n",
        "  hist = History()\n",
        "\n",
        "  history = model.fit(X_train, y_train, batch_size=128, epochs=5,steps_per_epoch=None, validation_steps=None, validation_data=(X_test, y_test), verbose=1, callbacks=[hist])\n"
      ],
      "execution_count": null,
      "outputs": [
        {
          "output_type": "stream",
          "text": [
            "8421 4\n",
            "_________________________________________________________________\n",
            "Layer (type)                 Output Shape              Param #   \n",
            "=================================================================\n",
            "input_4 (InputLayer)         (None, 128)               0         \n",
            "_________________________________________________________________\n",
            "embedding_4 (Embedding)      (None, 128, 128)          1077888   \n",
            "_________________________________________________________________\n",
            "bidirectional_4 (Bidirection (None, 128, 50)           30800     \n",
            "_________________________________________________________________\n",
            "time_distributed_4 (TimeDist (None, 128, 4)            204       \n",
            "=================================================================\n",
            "Total params: 1,108,892\n",
            "Trainable params: 1,108,892\n",
            "Non-trainable params: 0\n",
            "_________________________________________________________________\n",
            "Train on 57534 samples, validate on 38357 samples\n",
            "Epoch 1/5\n",
            "57534/57534 [==============================] - 247s 4ms/step - loss: 0.4259 - acc: 0.8256 - q3_acc: 0.7242 - val_loss: 0.3147 - val_acc: 0.8748 - val_q3_acc: 0.8010\n",
            "Epoch 2/5\n",
            "57534/57534 [==============================] - 240s 4ms/step - loss: 0.2933 - acc: 0.8839 - q3_acc: 0.8153 - val_loss: 0.2776 - val_acc: 0.8922 - val_q3_acc: 0.8286\n",
            "Epoch 3/5\n",
            "57534/57534 [==============================] - 237s 4ms/step - loss: 0.2606 - acc: 0.8980 - q3_acc: 0.8378 - val_loss: 0.2541 - val_acc: 0.9017 - val_q3_acc: 0.8438\n",
            "Epoch 4/5\n",
            "57534/57534 [==============================] - 233s 4ms/step - loss: 0.2374 - acc: 0.9078 - q3_acc: 0.8533 - val_loss: 0.2422 - val_acc: 0.9071 - val_q3_acc: 0.8523\n",
            "Epoch 5/5\n",
            "57534/57534 [==============================] - 233s 4ms/step - loss: 0.2197 - acc: 0.9152 - q3_acc: 0.8651 - val_loss: 0.2263 - val_acc: 0.9139 - val_q3_acc: 0.8632\n",
            "8421 4\n",
            "_________________________________________________________________\n",
            "Layer (type)                 Output Shape              Param #   \n",
            "=================================================================\n",
            "input_5 (InputLayer)         (None, 128)               0         \n",
            "_________________________________________________________________\n",
            "embedding_5 (Embedding)      (None, 128, 128)          1077888   \n",
            "_________________________________________________________________\n",
            "bidirectional_5 (Bidirection (None, 128, 100)          71600     \n",
            "_________________________________________________________________\n",
            "time_distributed_5 (TimeDist (None, 128, 4)            404       \n",
            "=================================================================\n",
            "Total params: 1,149,892\n",
            "Trainable params: 1,149,892\n",
            "Non-trainable params: 0\n",
            "_________________________________________________________________\n",
            "Train on 57534 samples, validate on 38357 samples\n",
            "Epoch 1/5\n",
            "57534/57534 [==============================] - 236s 4ms/step - loss: 0.4102 - acc: 0.8294 - q3_acc: 0.7303 - val_loss: 0.3084 - val_acc: 0.8768 - val_q3_acc: 0.8041\n",
            "Epoch 2/5\n",
            "57534/57534 [==============================] - 232s 4ms/step - loss: 0.2855 - acc: 0.8874 - q3_acc: 0.8210 - val_loss: 0.2708 - val_acc: 0.8946 - val_q3_acc: 0.8324\n",
            "Epoch 3/5\n",
            "57534/57534 [==============================] - 232s 4ms/step - loss: 0.2534 - acc: 0.9012 - q3_acc: 0.8428 - val_loss: 0.2486 - val_acc: 0.9039 - val_q3_acc: 0.8472\n",
            "Epoch 4/5\n",
            " 2816/57534 [>.............................] - ETA: 2:55 - loss: 0.2387 - acc: 0.9074 - q3_acc: 0.8530"
          ],
          "name": "stdout"
        }
      ]
    },
    {
      "cell_type": "markdown",
      "metadata": {
        "id": "m0spoVFfz7Op",
        "colab_type": "text"
      },
      "source": [
        "check for sst8"
      ]
    },
    {
      "cell_type": "code",
      "metadata": {
        "id": "MmYZQruyw4y_",
        "colab_type": "code",
        "colab": {
          "base_uri": "https://localhost:8080/",
          "height": 34
        },
        "outputId": "62f12872-960b-412a-c329-9bca661c9051"
      },
      "source": [
        "input_seqs, target_seqs = df[['seq', 'sst8']][(df.len <= maxlen_seq) & (~df.has_nonstd_aa)].values.T\n",
        "input_grams = seq2ngrams(input_seqs)\n",
        "print(len(input_seqs))"
      ],
      "execution_count": null,
      "outputs": [
        {
          "output_type": "stream",
          "text": [
            "95891\n"
          ],
          "name": "stdout"
        }
      ]
    },
    {
      "cell_type": "code",
      "metadata": {
        "id": "wj6U55zI0Bk1",
        "colab_type": "code",
        "colab": {
          "base_uri": "https://localhost:8080/",
          "height": 34
        },
        "outputId": "87cb0484-8182-4980-a7d0-0e184f4b38ff"
      },
      "source": [
        "from keras.preprocessing import text, sequence\n",
        "from keras.preprocessing.text import Tokenizer\n",
        "from keras.utils import to_categorical\n",
        "\n",
        "tokenizer_encoder = Tokenizer()\n",
        "tokenizer_encoder.fit_on_texts(input_grams)\n",
        "input_data = tokenizer_encoder.texts_to_sequences(input_grams)\n",
        "input_data = sequence.pad_sequences(input_data, maxlen=maxlen_seq, padding='post')\n",
        "\n",
        "tokenizer_decoder = Tokenizer(char_level=True)\n",
        "tokenizer_decoder.fit_on_texts(target_seqs)\n",
        "target_data = tokenizer_decoder.texts_to_sequences(target_seqs)\n",
        "target_data = sequence.pad_sequences(target_data, maxlen=maxlen_seq, padding='post')\n",
        "target_data = to_categorical(target_data)\n",
        "input_data.shape, target_data.shape"
      ],
      "execution_count": null,
      "outputs": [
        {
          "output_type": "execute_result",
          "data": {
            "text/plain": [
              "((95891, 128), (95891, 128, 9))"
            ]
          },
          "metadata": {
            "tags": []
          },
          "execution_count": 19
        }
      ]
    },
    {
      "cell_type": "code",
      "metadata": {
        "id": "QdAZ7ruK0G4u",
        "colab_type": "code",
        "colab": {
          "base_uri": "https://localhost:8080/",
          "height": 286
        },
        "outputId": "348652e6-fea9-4730-eaa2-dbf457f52373"
      },
      "source": [
        "from keras.models import Model, Input\n",
        "from keras.layers import LSTM, Embedding, Dense, TimeDistributed, Bidirectional\n",
        "\n",
        "n_words = len(tokenizer_encoder.word_index) + 1\n",
        "n_tags = len(tokenizer_decoder.word_index) + 1\n",
        "print(n_words, n_tags)\n",
        "\n",
        "input = Input(shape=(maxlen_seq,))\n",
        "x = Embedding(input_dim=n_words, output_dim=128, input_length=maxlen_seq)(input)\n",
        "x = Bidirectional(LSTM(units=64, return_sequences=True, recurrent_dropout=0.1))(x)\n",
        "y = TimeDistributed(Dense(n_tags, activation=\"softmax\"))(x)\n",
        "model = Model(input, y)\n",
        "model.summary()"
      ],
      "execution_count": null,
      "outputs": [
        {
          "output_type": "stream",
          "text": [
            "8421 9\n",
            "_________________________________________________________________\n",
            "Layer (type)                 Output Shape              Param #   \n",
            "=================================================================\n",
            "input_2 (InputLayer)         (None, 128)               0         \n",
            "_________________________________________________________________\n",
            "embedding_2 (Embedding)      (None, 128, 128)          1077888   \n",
            "_________________________________________________________________\n",
            "bidirectional_2 (Bidirection (None, 128, 128)          98816     \n",
            "_________________________________________________________________\n",
            "time_distributed_2 (TimeDist (None, 128, 9)            1161      \n",
            "=================================================================\n",
            "Total params: 1,177,865\n",
            "Trainable params: 1,177,865\n",
            "Non-trainable params: 0\n",
            "_________________________________________________________________\n"
          ],
          "name": "stdout"
        }
      ]
    },
    {
      "cell_type": "code",
      "metadata": {
        "id": "sXURkl560Lv7",
        "colab_type": "code",
        "colab": {
          "base_uri": "https://localhost:8080/",
          "height": 222
        },
        "outputId": "0aaff218-1c53-4677-c269-b41275074e51"
      },
      "source": [
        "from sklearn.model_selection import train_test_split\n",
        "from keras.metrics import categorical_accuracy\n",
        "from keras import backend  as K\n",
        "import tensorflow as tf\n",
        "import keras\n",
        "from keras.callbacks import History \n",
        "\n",
        "loss = []\n",
        "acc = []\n",
        "val_loss = []\n",
        "val_acc = []\n",
        "\n",
        "def q8_acc(y_true, y_pred):\n",
        "    y = tf.argmax(y_true, axis=-1)\n",
        "    y_ = tf.argmax(y_pred, axis=-1)\n",
        "    mask = tf.greater(y, 0)\n",
        "    return K.cast(K.equal(tf.boolean_mask(y, mask), tf.boolean_mask(y_, mask)), K.floatx())\n",
        "\n",
        "class Metrics(keras.callbacks.Callback):\n",
        "    def on_train_begin(self, logs={}):\n",
        "        self._data = []\n",
        "    def on_batch_end(self, batch, logs={}):\n",
        "      loss.append(logs.get('loss'))\n",
        "      acc.append(logs.get('acc'))\n",
        "      val_acc.append(logs.get('val_acc'))\n",
        "      val_loss.append(logs.get('val_loss'))\n",
        "      return\n",
        "    '''def on_epoch_end(self, batch, logs={}):\n",
        "        X_val, y_val = self.validation_data[0], self.validation_data[1]\n",
        "        y_predict = np.asarray(model.predict(X_val))\n",
        "\n",
        "        y_val = np.argmax(y_val, axis=1)\n",
        "        y_predict = np.argmax(y_predict, axis=1)\n",
        "\n",
        "        self._data.append({\n",
        "            'val_recall': recall_score(y_val, y_predict),\n",
        "            'val_precision': precision_score(y_val, y_predict),\n",
        "        })\n",
        "        return'''\n",
        "\n",
        "hist = History()\n",
        "\n",
        "model.compile(optimizer=\"rmsprop\", loss=\"categorical_crossentropy\",  metrics=[\"accuracy\", q8_acc])\n",
        "\n",
        "X_train, X_test, y_train, y_test = train_test_split(input_data, target_data, test_size=.4, random_state=0)\n",
        "seq_train, seq_test, target_train, target_test = train_test_split(input_seqs, target_seqs, test_size=.4, random_state=0)\n",
        "\n",
        "history = model.fit(X_train, y_train, batch_size=128, epochs=5,steps_per_epoch=None, validation_steps=None, validation_data=(X_test, y_test), verbose=1, callbacks=[hist])\n"
      ],
      "execution_count": null,
      "outputs": [
        {
          "output_type": "stream",
          "text": [
            "Train on 57534 samples, validate on 38357 samples\n",
            "Epoch 1/5\n",
            "57534/57534 [==============================] - 255s 4ms/step - loss: 0.7263 - acc: 0.7456 - q8_acc: 0.5963 - val_loss: 0.5663 - val_acc: 0.8051 - val_q8_acc: 0.6903\n",
            "Epoch 2/5\n",
            "57534/57534 [==============================] - 255s 4ms/step - loss: 0.5227 - acc: 0.8225 - q8_acc: 0.7177 - val_loss: 0.4904 - val_acc: 0.8360 - val_q8_acc: 0.7393\n",
            "Epoch 3/5\n",
            "57534/57534 [==============================] - 251s 4ms/step - loss: 0.4651 - acc: 0.8431 - q8_acc: 0.7505 - val_loss: 0.4555 - val_acc: 0.8482 - val_q8_acc: 0.7586\n",
            "Epoch 4/5\n",
            "57534/57534 [==============================] - 256s 4ms/step - loss: 0.4288 - acc: 0.8556 - q8_acc: 0.7703 - val_loss: 0.4267 - val_acc: 0.8580 - val_q8_acc: 0.7742\n",
            "Epoch 5/5\n",
            "57534/57534 [==============================] - 229s 4ms/step - loss: 0.4017 - acc: 0.8646 - q8_acc: 0.7847 - val_loss: 0.4129 - val_acc: 0.8636 - val_q8_acc: 0.7832\n"
          ],
          "name": "stdout"
        }
      ]
    },
    {
      "cell_type": "code",
      "metadata": {
        "id": "a-AaOcHdQt4F",
        "colab_type": "code",
        "colab": {
          "base_uri": "https://localhost:8080/",
          "height": 195
        },
        "outputId": "329bed4f-c7a4-48c9-a6bb-883eeeec2f64"
      },
      "source": [
        "a = pd.DataFrame.from_dict(hist.history)\n",
        "a.to_csv(r\"lstmHistoryQ8.csv\" , index = None, header=True)\n",
        "a.head()"
      ],
      "execution_count": null,
      "outputs": [
        {
          "output_type": "execute_result",
          "data": {
            "text/html": [
              "<div>\n",
              "<style scoped>\n",
              "    .dataframe tbody tr th:only-of-type {\n",
              "        vertical-align: middle;\n",
              "    }\n",
              "\n",
              "    .dataframe tbody tr th {\n",
              "        vertical-align: top;\n",
              "    }\n",
              "\n",
              "    .dataframe thead th {\n",
              "        text-align: right;\n",
              "    }\n",
              "</style>\n",
              "<table border=\"1\" class=\"dataframe\">\n",
              "  <thead>\n",
              "    <tr style=\"text-align: right;\">\n",
              "      <th></th>\n",
              "      <th>val_loss</th>\n",
              "      <th>val_acc</th>\n",
              "      <th>val_q8_acc</th>\n",
              "      <th>loss</th>\n",
              "      <th>acc</th>\n",
              "      <th>q8_acc</th>\n",
              "    </tr>\n",
              "  </thead>\n",
              "  <tbody>\n",
              "    <tr>\n",
              "      <th>0</th>\n",
              "      <td>0.566286</td>\n",
              "      <td>0.805138</td>\n",
              "      <td>0.690270</td>\n",
              "      <td>0.726251</td>\n",
              "      <td>0.745552</td>\n",
              "      <td>0.596261</td>\n",
              "    </tr>\n",
              "    <tr>\n",
              "      <th>1</th>\n",
              "      <td>0.490403</td>\n",
              "      <td>0.835981</td>\n",
              "      <td>0.739270</td>\n",
              "      <td>0.522660</td>\n",
              "      <td>0.822499</td>\n",
              "      <td>0.717705</td>\n",
              "    </tr>\n",
              "    <tr>\n",
              "      <th>2</th>\n",
              "      <td>0.455523</td>\n",
              "      <td>0.848160</td>\n",
              "      <td>0.758619</td>\n",
              "      <td>0.465096</td>\n",
              "      <td>0.843136</td>\n",
              "      <td>0.750502</td>\n",
              "    </tr>\n",
              "    <tr>\n",
              "      <th>3</th>\n",
              "      <td>0.426708</td>\n",
              "      <td>0.857990</td>\n",
              "      <td>0.774241</td>\n",
              "      <td>0.428799</td>\n",
              "      <td>0.855567</td>\n",
              "      <td>0.770288</td>\n",
              "    </tr>\n",
              "    <tr>\n",
              "      <th>4</th>\n",
              "      <td>0.412923</td>\n",
              "      <td>0.863596</td>\n",
              "      <td>0.783153</td>\n",
              "      <td>0.401659</td>\n",
              "      <td>0.864599</td>\n",
              "      <td>0.784665</td>\n",
              "    </tr>\n",
              "  </tbody>\n",
              "</table>\n",
              "</div>"
            ],
            "text/plain": [
              "   val_loss   val_acc  val_q8_acc      loss       acc    q8_acc\n",
              "0  0.566286  0.805138    0.690270  0.726251  0.745552  0.596261\n",
              "1  0.490403  0.835981    0.739270  0.522660  0.822499  0.717705\n",
              "2  0.455523  0.848160    0.758619  0.465096  0.843136  0.750502\n",
              "3  0.426708  0.857990    0.774241  0.428799  0.855567  0.770288\n",
              "4  0.412923  0.863596    0.783153  0.401659  0.864599  0.784665"
            ]
          },
          "metadata": {
            "tags": []
          },
          "execution_count": 22
        }
      ]
    },
    {
      "cell_type": "code",
      "metadata": {
        "id": "LGPS1A8g0SS5",
        "colab_type": "code",
        "colab": {
          "base_uri": "https://localhost:8080/",
          "height": 295
        },
        "outputId": "8c41b3f2-9a37-4476-ba58-a89a7321578d"
      },
      "source": [
        "f = plt.figure()\n",
        "plt.grid()\n",
        "plt.plot(history.history['loss'])\n",
        "plt.plot(history.history['val_loss'])\n",
        "plt.title('Model loss')\n",
        "plt.ylabel('Loss')\n",
        "plt.xlabel('Epoch')\n",
        "plt.legend(['Train', 'Test'], loc='upper left')\n",
        "plt.show()\n",
        "f.savefig(\"lstmModelLossQ8.pdf\", bbox_inches='tight')"
      ],
      "execution_count": null,
      "outputs": [
        {
          "output_type": "display_data",
          "data": {
            "image/png": "[encoded data removed]",
            "text/plain": [
              "<Figure size 432x288 with 1 Axes>"
            ]
          },
          "metadata": {
            "tags": []
          }
        }
      ]
    },
    {
      "cell_type": "code",
      "metadata": {
        "id": "7OOQg-v10_Va",
        "colab_type": "code",
        "colab": {
          "base_uri": "https://localhost:8080/",
          "height": 295
        },
        "outputId": "09ca0932-1491-4038-9b27-9cb29f5a3006"
      },
      "source": [
        "f = plt.figure()\n",
        "plt.grid()\n",
        "plt.plot(history.history['acc'])\n",
        "plt.plot(history.history['val_acc'])\n",
        "plt.title('Model accuracy')\n",
        "plt.ylabel('Accuracy')\n",
        "plt.xlabel('Epoch')\n",
        "plt.legend(['Train', 'Test'], loc='upper left')\n",
        "plt.show()\n",
        "f.savefig(\"lstmModelAccuracyQ8.pdf\", bbox_inches='tight')"
      ],
      "execution_count": null,
      "outputs": [
        {
          "output_type": "display_data",
          "data": {
            "image/png": "[encoded data removed]",
            "text/plain": [
              "<Figure size 432x288 with 1 Axes>"
            ]
          },
          "metadata": {
            "tags": []
          }
        }
      ]
    },
    {
      "cell_type": "code",
      "metadata": {
        "id": "wEaDe-FV5S6u",
        "colab_type": "code",
        "colab": {
          "base_uri": "https://localhost:8080/",
          "height": 151
        },
        "outputId": "1c44bf66-1d8e-45a1-df9d-2d78373e50b3"
      },
      "source": [
        "#t = model.predict(X_test)\n",
        "res = np.zeros((8,8))\n",
        "tres = np.zeros((8,8))\n",
        "def diff(a, b):\n",
        "  res = np.zeros((8,8))\n",
        "  x = str(onehot_to_seq(a, revsere_decoder_index).upper())\n",
        "  y = str(onehot_to_seq(b, revsere_decoder_index).upper())\n",
        "  for i in range(len(x)):\n",
        "    if (x[i]==y[i] and x[i]=='B'):\n",
        "      res[0][0]+=1\n",
        "    if(x[i]=='B' and y[i]=='C'):\n",
        "      res[0][1]+=1\n",
        "    if(x[i]=='B' and y[i]=='E'):\n",
        "      res[0][2]+=1\n",
        "    if(x[i]=='B' and y[i]=='G'):\n",
        "      res[0][3]+=1\n",
        "    if(x[i]=='B' and y[i]=='H'):\n",
        "      res[0][4]+=1\n",
        "    if(x[i]=='B' and y[i]=='I'):\n",
        "      res[0][5]+=1\n",
        "    if(x[i]=='B' and y[i]=='S'):\n",
        "      res[0][6]+=1\n",
        "    if(x[i]=='B' and y[i]=='T'):\n",
        "      res[0][7]+=1\n",
        "    \n",
        "    if (x[i]==y[i] and x[i]=='C'):\n",
        "      res[1][1]+=1\n",
        "    if(x[i]=='C' and y[i]=='B'):\n",
        "      res[1][0]+=1\n",
        "    if(x[i]=='C' and y[i]=='E'):\n",
        "      res[1][2]+=1\n",
        "    if(x[i]=='C' and y[i]=='G'):\n",
        "      res[1][3]+=1\n",
        "    if(x[i]=='C' and y[i]=='H'):\n",
        "      res[1][4]+=1\n",
        "    if(x[i]=='C' and y[i]=='I'):\n",
        "      res[1][5]+=1\n",
        "    if(x[i]=='C' and y[i]=='S'):\n",
        "      res[1][6]+=1\n",
        "    if(x[i]=='C' and y[i]=='T'):\n",
        "      res[1][7]+=1\n",
        "    \n",
        "    if (x[i]==y[i] and x[i]=='E'):\n",
        "      res[2][2]+=1\n",
        "    if(x[i]=='E' and y[i]=='B'):\n",
        "      res[2][0]+=1\n",
        "    if(x[i]=='E' and y[i]=='C'):\n",
        "      res[2][1]+=1\n",
        "    if(x[i]=='E' and y[i]=='G'):\n",
        "      res[2][3]+=1\n",
        "    if(x[i]=='E' and y[i]=='H'):\n",
        "      res[2][4]+=1\n",
        "    if(x[i]=='E' and y[i]=='I'):\n",
        "      res[2][5]+=1\n",
        "    if(x[i]=='E' and y[i]=='S'):\n",
        "      res[2][6]+=1\n",
        "    if(x[i]=='E' and y[i]=='T'):\n",
        "      res[2][7]+=1\n",
        "      \n",
        "    if (x[i]==y[i] and x[i]=='G'):\n",
        "      res[3][3]+=1\n",
        "    if(x[i]=='G' and y[i]=='B'):\n",
        "      res[3][0]+=1\n",
        "    if(x[i]=='G' and y[i]=='C'):\n",
        "      res[3][1]+=1\n",
        "    if(x[i]=='G' and y[i]=='E'):\n",
        "      res[3][2]+=1\n",
        "    if(x[i]=='G' and y[i]=='H'):\n",
        "      res[3][4]+=1\n",
        "    if(x[i]=='G' and y[i]=='I'):\n",
        "      res[3][5]+=1\n",
        "    if(x[i]=='G' and y[i]=='S'):\n",
        "      res[3][6]+=1\n",
        "    if(x[i]=='G' and y[i]=='T'):\n",
        "      res[3][7]+=1\n",
        "     \n",
        "    if (x[i]==y[i] and x[i]=='H'):\n",
        "      res[4][4]+=1\n",
        "    if(x[i]=='H' and y[i]=='B'):\n",
        "      res[4][0]+=1\n",
        "    if(x[i]=='H' and y[i]=='C'):\n",
        "      res[4][1]+=1\n",
        "    if(x[i]=='H' and y[i]=='E'):\n",
        "      res[4][2]+=1\n",
        "    if(x[i]=='H' and y[i]=='G'):\n",
        "      res[4][3]+=1\n",
        "    if(x[i]=='H' and y[i]=='I'):\n",
        "      res[4][5]+=1\n",
        "    if(x[i]=='H' and y[i]=='S'):\n",
        "      res[4][6]+=1\n",
        "    if(x[i]=='H' and y[i]=='T'):\n",
        "      res[4][7]+=1\n",
        "     \n",
        "    if (x[i]==y[i] and x[i]=='I'):\n",
        "      res[5][5]+=1\n",
        "    if(x[i]=='I' and y[i]=='B'):\n",
        "      res[5][0]+=1\n",
        "    if(x[i]=='I' and y[i]=='C'):\n",
        "      res[5][1]+=1\n",
        "    if(x[i]=='I' and y[i]=='E'):\n",
        "      res[5][2]+=1\n",
        "    if(x[i]=='I' and y[i]=='G'):\n",
        "      res[5][3]+=1\n",
        "    if(x[i]=='I' and y[i]=='H'):\n",
        "      res[5][4]+=1\n",
        "    if(x[i]=='I' and y[i]=='S'):\n",
        "      res[5][6]+=1\n",
        "    if(x[i]=='I' and y[i]=='T'):\n",
        "      res[5][7]+=1\n",
        "      \n",
        "    if (x[i]==y[i] and x[i]=='S'):\n",
        "      res[6][6]+=1\n",
        "    if(x[i]=='S' and y[i]=='B'):\n",
        "      res[6][0]+=1\n",
        "    if(x[i]=='S' and y[i]=='C'):\n",
        "      res[6][1]+=1\n",
        "    if(x[i]=='S' and y[i]=='E'):\n",
        "      res[6][2]+=1\n",
        "    if(x[i]=='S' and y[i]=='G'):\n",
        "      res[6][3]+=1\n",
        "    if(x[i]=='S' and y[i]=='H'):\n",
        "      res[6][4]+=1\n",
        "    if(x[i]=='S' and y[i]=='I'):\n",
        "      res[6][5]+=1\n",
        "    if(x[i]=='S' and y[i]=='T'):\n",
        "      res[6][7]+=1\n",
        "      \n",
        "    if (x[i]==y[i] and x[i]=='T'):\n",
        "      res[7][7]+=1\n",
        "    if(x[i]=='T' and y[i]=='B'):\n",
        "      res[7][0]+=1\n",
        "    if(x[i]=='T' and y[i]=='C'):\n",
        "      res[7][1]+=1\n",
        "    if(x[i]=='T' and y[i]=='E'):\n",
        "      res[7][2]+=1\n",
        "    if(x[i]=='T' and y[i]=='G'):\n",
        "      res[7][3]+=1\n",
        "    if(x[i]=='T' and y[i]=='H'):\n",
        "      res[7][4]+=1\n",
        "    if(x[i]=='T' and y[i]=='I'):\n",
        "      res[7][5]+=1\n",
        "    if(x[i]=='T' and y[i]=='S'):\n",
        "      res[7][6]+=1\n",
        "    \n",
        "  return res\n",
        "\n",
        "for i in range(38357):\n",
        "  tres=diff(t[i], y_test[i])\n",
        "  res +=tres"
      ],
      "execution_count": null,
      "outputs": [
        {
          "output_type": "stream",
          "text": [
            "[[0. 0. 0. 0. 0. 0. 0. 0.]\n",
            " [0. 0. 0. 0. 0. 0. 0. 0.]\n",
            " [0. 0. 0. 0. 0. 0. 0. 0.]\n",
            " [0. 0. 0. 0. 0. 0. 0. 0.]\n",
            " [0. 0. 0. 0. 0. 0. 0. 0.]\n",
            " [0. 0. 0. 0. 0. 0. 0. 0.]\n",
            " [0. 0. 0. 0. 0. 0. 0. 0.]\n",
            " [0. 0. 0. 0. 0. 0. 0. 0.]]\n"
          ],
          "name": "stdout"
        }
      ]
    },
    {
      "cell_type": "code",
      "metadata": {
        "id": "opE-RdRM3gDI",
        "colab_type": "code",
        "colab": {
          "base_uri": "https://localhost:8080/",
          "height": 432
        },
        "outputId": "badeedf2-7f07-4f3b-c35b-eba5c0c23741"
      },
      "source": [
        "\n",
        "import seaborn as sn\n",
        "import pandas as pd\n",
        "import matplotlib.pyplot as plt\n",
        "from sklearn.metrics import confusion_matrix\n",
        "\n",
        "conf = np.zeros((8,8))\n",
        "for i in range(8):\n",
        "  for j in range(8):\n",
        "    conf[i][j] = res[i][j]/(res[i].sum())\n",
        "\n",
        "\n",
        "df_cm = pd.DataFrame(conf, index = [i for i in \"BCEGHIST\"],\n",
        "                  columns = [i for i in \"BCEGHIST\"])\n",
        "plt.figure(figsize = (10,7))\n",
        "ax = sn.heatmap(df_cm, annot=True, fmt = '.1f', square=1, linewidth=1.)"
      ],
      "execution_count": null,
      "outputs": [
        {
          "output_type": "display_data",
          "data": {
            "image/png": "[encoded data removed]",
            "text/plain": [
              "<Figure size 720x504 with 2 Axes>"
            ]
          },
          "metadata": {
            "tags": []
          }
        }
      ]
    },
    {
      "cell_type": "code",
      "metadata": {
        "id": "3ZIYr2B53j4u",
        "colab_type": "code",
        "colab": {
          "base_uri": "https://localhost:8080/",
          "height": 168
        },
        "outputId": "2e569322-f7ff-4282-e6a7-24f4d97da1fa"
      },
      "source": [
        "print(a)"
      ],
      "execution_count": null,
      "outputs": [
        {
          "output_type": "stream",
          "text": [
            "[[37732     0     0     0     0     0     0     0     0]\n",
            " [    0     0     0     0     0     0     0     0     0]\n",
            " [    6    71     8     9     2    10     3     2     4]\n",
            " [    6    21     3     1     0     2     3     1     0]\n",
            " [    5    33     0     1     1     2     2     4    10]\n",
            " [    2    13     0     2     4    15     0     3     3]\n",
            " [   12   212     3    18    12    27    13    12     0]\n",
            " [    4    44     2     4     1     6     3     0     0]\n",
            " [    0     0     0     0     0     0     0     0     0]]\n"
          ],
          "name": "stdout"
        }
      ]
    },
    {
      "cell_type": "code",
      "metadata": {
        "id": "HIl4jATF_1ea",
        "colab_type": "code",
        "colab": {
          "base_uri": "https://localhost:8080/",
          "height": 920
        },
        "outputId": "32a9c735-ff45-4d0f-b51d-0d952616785c"
      },
      "source": [
        "def onehot_to_seq(oh_seq, index):\n",
        "    s = ''\n",
        "    for o in oh_seq:\n",
        "        i = np.argmax(o)\n",
        "        if i != 0:\n",
        "            s += index[i]\n",
        "        else:\n",
        "            break\n",
        "    return s\n",
        "\n",
        "def plot_results(x, y, y_):\n",
        "    print(\"---\")\n",
        "    print(\"Input: \" + str(x))\n",
        "    print(\"Target: \" + str(onehot_to_seq(y, revsere_decoder_index).upper()))\n",
        "    print(\"Result: \" + str(onehot_to_seq(y_, revsere_decoder_index).upper()))\n",
        "    fig = plt.figure(figsize=(10,2))\n",
        "    plt.imshow(y.T, cmap='Blues')\n",
        "    plt.imshow(y_.T, cmap='Reds', alpha=.5)\n",
        "    plt.yticks(range(4), [' '] + [revsere_decoder_index[i+1].upper() for i in range(3)])\n",
        "    plt.show()\n",
        "    \n",
        "revsere_decoder_index = {value:key for key,value in tokenizer_decoder.word_index.items()}\n",
        "revsere_encoder_index = {value:key for key,value in tokenizer_encoder.word_index.items()}\n",
        "\n",
        "N=3\n",
        "y_train_pred = model.predict(X_train[:N])\n",
        "y_test_pred = model.predict(X_test[:N])\n",
        "print('training')\n",
        "for i in range(N):\n",
        "    plot_results(seq_train[i], y_train[i], y_train_pred[i])\n",
        "print('testing')\n",
        "for i in range(N):\n",
        "    plot_results(seq_test[i], y_test[i], y_test_pred[i])"
      ],
      "execution_count": null,
      "outputs": [
        {
          "output_type": "stream",
          "text": [
            "training\n",
            "---\n",
            "Input: IQKTPQIQVYSRHPPENGKPNILNCYVTQFHPPHIEIQMLKNGKKIPKVEMSDMSFSKDWSFYILAHTEFTPTETDTYACRVKHASMAEPKTVYWDRDM\n",
            "Target: CCCCCEEEEEESSCCCSSSCEEEEEEEEEESSSCCEEEEEETTEECSSCEECCCEECTTSCEEEEEEEEECCCSSCCEEEEEECSSCSSCEEEECCSCC\n",
            "Result: CCBCCEEEEEESSCCCTTSCEEEEEEEEEEBSSCCEEEEEETTEECSCCEECCCEECTTSCEEEEEEEEECCCSSCCEEEEEECTTCSSCEEEECCTTC\n"
          ],
          "name": "stdout"
        },
        {
          "output_type": "display_data",
          "data": {
            "image/png": "[encoded data removed]",
            "text/plain": [
              "<Figure size 720x144 with 1 Axes>"
            ]
          },
          "metadata": {
            "tags": []
          }
        },
        {
          "output_type": "stream",
          "text": [
            "---\n",
            "Input: EIDYKDIATLKNYITESGKIVPSRITGTRAKYQRQLARAIKRARYLSLLPYTDRH\n",
            "Target: CCCSSCHHHHHTTBCTTSCBCCHHHHCCCHHHHHHHHHHHHHHHHTTSSCSCSCC\n",
            "Result: CCCSSCHHHHHGSBCTTSCCCCHHHHCCCHHHHHHHHHHHHHHHHTTSSCSSSCC\n"
          ],
          "name": "stdout"
        },
        {
          "output_type": "display_data",
          "data": {
            "image/png": "[encoded data removed]",
            "text/plain": [
              "<Figure size 720x144 with 1 Axes>"
            ]
          },
          "metadata": {
            "tags": []
          }
        },
        {
          "output_type": "stream",
          "text": [
            "---\n",
            "Input: MARLTAYERRKFRVRNRIKRTGRLRLSVFRSLKHIYAQIIDDEKGVTLVSASSLALKLKGNKTEVARQVGRALAEKALALGIKQVAFDRGPYKYHGRVKALAEGAREGGLEF\n",
            "Target: CCCCCHHHHHHHHHHHHHHHTTCCEEEEEECSSCEEEEEEETTTTEEEEEEETTTTTCCSCHHHHHHHHHHHHHHHHHTTTCCBCEEECTTSCSCHHHHHHHHHHHHHTCBC\n",
            "Result: CCCCCCCCCCCCCCCCGCCCSSSCEEEEECCSSCEEEEEEETTTTEEEEECCSTTTCCCSCSHHHHHHHHHHHHHHHHTTTCCCCCCCCTTCCSSSCCCCCCSSCCCCCCCC\n"
          ],
          "name": "stdout"
        },
        {
          "output_type": "display_data",
          "data": {
            "image/png": "[encoded data removed]",
            "text/plain": [
              "<Figure size 720x144 with 1 Axes>"
            ]
          },
          "metadata": {
            "tags": []
          }
        },
        {
          "output_type": "stream",
          "text": [
            "testing\n",
            "---\n",
            "Input: MIQPQTYLEVADNTGARKIMCIRVLKGSNAKYATVGDVIVASVKEAIPRGAVKEGDVVKAVVVRTKKEIKRPDGSAIRFDDNAAVIINNQLEPRGTRVFGPVARELREKGFMKIVSLAPEVL\n",
            "Target: CBCTTCEEEECBSSSEEEEEEEEECSSSSCCCBCTTCEEEEEEEEECTTCSSCSEEEEEEEEEECSSCEECTTSCEEEESSCEEEEECTTCCBSSSCBCSCBCTHHHHHTCHHHHHHCSCBC\n",
            "Result: CBCTTCEEEECSSSSEEEEEEEEECSSSSCCCBCTTCEEEEEEEEECTTSSSCTTCEEEEEEEECSSCEECTTSCEEEESSCEEEEECTTSCBSSSCBCSCBCTHHHHTTCHHHHHHSSCBC\n"
          ],
          "name": "stdout"
        },
        {
          "output_type": "display_data",
          "data": {
            "image/png": "[encoded data removed]",
            "text/plain": [
              "<Figure size 720x144 with 1 Axes>"
            ]
          },
          "metadata": {
            "tags": []
          }
        },
        {
          "output_type": "stream",
          "text": [
            "---\n",
            "Input: GSHMGKNGQGEPARVRCSHLLVKHSQSRRPSSWRQEQITRTQEEALELINGYIQKIKSGEEDFESLASQFSDCSSAKARGDLGAFSRGQMQKPFEDASFALRTGEMSGPVFTDSGIHIILRTE\n",
            "Target: CCCCCCCCCCCCSCEEEEEEEECCTTSSSCCCSSCSSCCCCHHHHHHHHHHHHHHHHHTSSCHHHHHHHHCSSGGGGGTTEEEEECTTSSCHHHHHHHHHSCTTCBCCCEEETTEEEEEEECC\n",
            "Result: CCCCCCCCCCCCCCEEEEEEEECCTTSSCCCCSCCSSCCCCHHHHHHHHHHHHHHHHTSSCHHHHHHHHHGGGGGGGGTTEEEEEETCSSSSHHHHHHHHHTTTCCCCCEEETTEEEEEEEEC\n"
          ],
          "name": "stdout"
        },
        {
          "output_type": "display_data",
          "data": {
            "image/png": "[encoded data removed]",
            "text/plain": [
              "<Figure size 720x144 with 1 Axes>"
            ]
          },
          "metadata": {
            "tags": []
          }
        },
        {
          "output_type": "stream",
          "text": [
            "---\n",
            "Input: MLIFVHIIAPVISGCAIAFFSYWLSRRNTK\n",
            "Target: CGGGTSSTTTTHHHHHHHHHHHHHHHHSCC\n",
            "Result: CEEEEEEEEGEHHHHHHHHHHHHCCCCCCC\n"
          ],
          "name": "stdout"
        },
        {
          "output_type": "display_data",
          "data": {
            "image/png": "[encoded data removed]",
            "text/plain": [
              "<Figure size 720x144 with 1 Axes>"
            ]
          },
          "metadata": {
            "tags": []
          }
        }
      ]
    },
    {
      "cell_type": "code",
      "metadata": {
        "id": "071J1yxsCimP",
        "colab_type": "code",
        "colab": {
          "base_uri": "https://localhost:8080/",
          "height": 1000
        },
        "outputId": "ac39a7ce-4748-4ebf-8b92-5bdfb9f84b8b"
      },
      "source": [
        "def plotiii_results(x, y, y_):\n",
        "    print(\"---\")\n",
        "    print(\"Input: \" + str(x))\n",
        "    print(\"Target: \" + str(onehot_to_seq(y, revsere_decoder_index).upper()))\n",
        "    print(\"Result: \" + str(onehot_to_seq(y_, revsere_decoder_index).upper()))\n",
        "y_train_pred = model.predict(X_test[:20])\n",
        "y_test_pred = model.predict(X_test[:20])\n",
        "\n",
        "print('testing')\n",
        "for i in range(20):\n",
        "    plotiii_results(X_test[i], y_test[i], y_test_pred[i])"
      ],
      "execution_count": null,
      "outputs": [
        {
          "output_type": "stream",
          "text": [
            "testing\n",
            "---\n",
            "Input: [1521 4788 4592 2885 4548 2728 1840  148  302 1157 1842 3723 1967  253\n",
            "  881  309 1206 3430 6622 5730 5065 1382  426   33  362  954 1104 1328\n",
            "  713 2044 2617 2860  410 1091  573  305 1175  560  532  714  169  399\n",
            "  210   21  731 2652 1606 1246  643  604  559  210  196  830  305  400\n",
            "  219   83   81  223  198  678 2844 1083  534  375  208  272  416  550\n",
            " 2130  958  634  727  686  660 3574 2502 2763 4079 1734  301  207  729\n",
            " 1764 1854 2026 3958 1009   92 1359 4160 1246  723 1300  651 1968 1730\n",
            " 3329 1975 2326  432  245   89   47  103 1082  615 2242 5512 4261 3185\n",
            "  165 1244  893  240 1715 1712 2273   24 3889   22    0    0    0    0\n",
            "    0    0]\n",
            "Target: CBCTTCEEEECBSSSEEEEEEEEECSSSSCCCBCTTCEEEEEEEEECTTCSSCSEEEEEEEEEECSSCEECTTSCEEEESSCEEEEECTTCCBSSSCBCSCBCTHHHHHTCHHHHHHCSCBC\n",
            "Result: CBCTTCEEEECBSSSEEEEEEEEECSSSSCCCBCTTCEEEEEEEEECSSCSSCTTCEEEEEEEECSSCEECTTSCEEEESSCEEEEECTTSCBSSSCBCSCBCTHHHHHTCHHHHHHSSCBC\n",
            "---\n",
            "Input: [  54  357 5187 2764 1997   86 1387  799 2561 3699 3236 2843  335  543\n",
            " 2698 5959 6282 1819 1439  628  451 2278 5338 5906 2331 5783 1080 2569\n",
            " 1831  587 5820 5478 7348 2772 1717 2841  790 3057 1605 3914 3383 1883\n",
            "  191    7   19  134  801 1663 1628 4249 3272 3425  732 1221  865 1957\n",
            "  348  264  819  690 2798 2538 3136  280  240  579 1472 4698 3661 3707\n",
            " 6249 4417 2492  868  668  127  267 1227 1292  556  848  716 3757 3066\n",
            " 3375 2214 2162 7006 4323 4234 3233 2234 4564 2664  900  998 2695 4728\n",
            " 1679  409 1043  792  688 3581 1142 3540  203 1975 4496 1578 2847 2815\n",
            "  937 1728 5093 4731 3767 2525 1368 1043 3393 4873    5    0    0    0\n",
            "    0    0]\n",
            "Target: CCCCCCCCCCCCSCEEEEEEEECCTTSSSCCCSSCSSCCCCHHHHHHHHHHHHHHHHHTSSCHHHHHHHHCSSGGGGGTTEEEEECTTSSCHHHHHHHHHSCTTCBCCCEEETTEEEEEEECC\n",
            "Result: CCCCCCCCCCCCCCEEEEEEEECCTTSCCCTCSCCTTCCCCHHHHHHHHHHHHHHHHTTCHHHHHHHHHHGGGGGGGGTTCEEEEEETTSHHHHHHHHHHHTTCCCCCCEEECCEEEEEEEEC\n",
            "---\n",
            "Input: [5488 1207  960 2805 4677 3767 1733 1814 1697 2356 2349  647 4292 5674\n",
            " 5021  581 5052 5878 5627 3459 3256 5042 4597  973 1080 1958 3154 4615\n",
            " 6337    2    0    0    0    0    0    0    0    0    0    0    0    0\n",
            "    0    0    0    0    0    0    0    0    0    0    0    0    0    0\n",
            "    0    0    0    0    0    0    0    0    0    0    0    0    0    0\n",
            "    0    0    0    0    0    0    0    0    0    0    0    0    0    0\n",
            "    0    0    0    0    0    0    0    0    0    0    0    0    0    0\n",
            "    0    0    0    0    0    0    0    0    0    0    0    0    0    0\n",
            "    0    0    0    0    0    0    0    0    0    0    0    0    0    0\n",
            "    0    0]\n",
            "Target: CGGGTSSTTTTHHHHHHHHHHHHHHHHSCC\n",
            "Result: CEEEEEEEEEHHHHHHHHHHHHCCCCCCCC\n",
            "---\n",
            "Input: [ 776  484  726  898 1161 2183  473  695 2005 1089 2917  439   48  244\n",
            "  504 1558 5258 3860 4185 1407 2656 1454  163 1574 3938 4787 2416  109\n",
            " 1016  649  136 2233 2887 5151 1083 3288 3060 2974 2577  547 1455  178\n",
            "  642  785  450  478  408  466  733 2154 4237 4044 1565   41  472 1338\n",
            " 1870  885  415 3297 2988 1342  264  199  645  486  186  309  220  531\n",
            "  590  182  242  107  899  414 2735 3801 4316 2050  200  127   39  418\n",
            "   23  149  487 3242 6872 3384  744 1733  231  136 1201 1080 3120 7513\n",
            "   44    0    0    0    0    0    0    0    0    0    0    0    0    0\n",
            "    0    0    0    0    0    0    0    0    0    0    0    0    0    0\n",
            "    0    0]\n",
            "Target: CCCCSSSSSTTCSCCCCBCCCCCCGGGGTTCCCHHHHHHHHHHHHHHCCCHHHHHHHHHHHHHHHHHHHHHHHHHHSSHHHHHHHHHHHHHHHHHHHCC\n",
            "Result: CCCCCCSSSCTTCCCCCCCCCCCCCGGGTSCCCHHHHHHHHHHHHHHTCCHHHHHHHHHHHHHHHHHHHHHHHHHHSCHHHHHHHHHHHHHHHHHHTCC\n",
            "---\n",
            "Input: [7035 3882 2014  360  101  451  796 3260 4397 3647 1846 4307 4051 1919\n",
            " 1228 2896 1044 2726 2662 1817 1894  316   83   87  607  423 3678 2870\n",
            " 3326 1897 1238  853   63 4730 6117 5232 2564 1952 2422  943  116  841\n",
            "  573 1112 1720 3648 2873 1564  273 6536 4320 6763 2685 1994 4339 2221\n",
            " 4861 4624 4895 7150  773  703  226 3333 3803 2794  481 2439    2    0\n",
            "    0    0    0    0    0    0    0    0    0    0    0    0    0    0\n",
            "    0    0    0    0    0    0    0    0    0    0    0    0    0    0\n",
            "    0    0    0    0    0    0    0    0    0    0    0    0    0    0\n",
            "    0    0    0    0    0    0    0    0    0    0    0    0    0    0\n",
            "    0    0]\n",
            "Target: CCCEEEGGGCCTTCEEECCHHHHHHHHHHHTCCCCCSEEEEEEETTEEEEEEEESSSSCCTTCEEEECC\n",
            "Result: CEEEEEEECCTCEEEEHHHHHHHHHHHHHHTCCCCCCCEEEEETTSCHHHHHEHHHHHHHHHHHHCCCC\n",
            "---\n",
            "Input: [2041 1881 2426 3071 5410 5308 4232  872  312   35  107  474 1804 2001\n",
            " 1316   14 3468 5248 2978 1730 1285  632  365 3020 2305 7958  112    0\n",
            "    0    0    0    0    0    0    0    0    0    0    0    0    0    0\n",
            "    0    0    0    0    0    0    0    0    0    0    0    0    0    0\n",
            "    0    0    0    0    0    0    0    0    0    0    0    0    0    0\n",
            "    0    0    0    0    0    0    0    0    0    0    0    0    0    0\n",
            "    0    0    0    0    0    0    0    0    0    0    0    0    0    0\n",
            "    0    0    0    0    0    0    0    0    0    0    0    0    0    0\n",
            "    0    0    0    0    0    0    0    0    0    0    0    0    0    0\n",
            "    0    0]\n",
            "Target: CCCCCHHHHHHHHHHHHHHHHSCTTCC\n",
            "Result: CCCCCCHHHHHHHHHHHHHHCCCCCCC\n",
            "---\n",
            "Input: [1188  791  414 2041 3765 5488  855  599  665 1874  926 1162 1471  892\n",
            "  246 4303 3623 1186 1914 2779 1054 1214  110  172  110   36  549 1147\n",
            "  345  580 2635 4692 4563 2565 1267 1450 2080 1520 2905 2920 1454  833\n",
            "  457 1508  922 5764 3895 8000    8    0    0    0    0    0    0    0\n",
            "    0    0    0    0    0    0    0    0    0    0    0    0    0    0\n",
            "    0    0    0    0    0    0    0    0    0    0    0    0    0    0\n",
            "    0    0    0    0    0    0    0    0    0    0    0    0    0    0\n",
            "    0    0    0    0    0    0    0    0    0    0    0    0    0    0\n",
            "    0    0    0    0    0    0    0    0    0    0    0    0    0    0\n",
            "    0    0]\n",
            "Target: CCCTTCEEEEEETTCEEEETTTEEEEEEEEETTEEEEEEECCCCCCCCC\n",
            "Result: CCCCCCEEEEEETTEEEEETTEEEEEEEEECTSEEEEEECCCCCCCCCC\n",
            "---\n",
            "Input: [5602 4191 2260 3775 1225  239  835  642  785  967 1747  670  698  714\n",
            " 1543 1478 1363  592 4605 3545 3375  854 1769 1380  939  158 1935 3175\n",
            " 3246 4311 3944 5534 3021 5052 2123  906  667 2268 2877 2080 1859 4643\n",
            " 4491 5030 1370  737  360  887 3053 4482 4285 3949 2983 1463 1206  165\n",
            " 1244  613  398  495  332 3383 2676  809 1419  814   84 1228 1338 1836\n",
            " 3324 5073 1917 2789 1920 3090 3169  838 2521 1711 4750 1272 1840 3559\n",
            " 7176 4713 2253 2514 5916    2    0    0    0    0    0    0    0    0\n",
            "    0    0    0    0    0    0    0    0    0    0    0    0    0    0\n",
            "    0    0    0    0    0    0    0    0    0    0    0    0    0    0\n",
            "    0    0]\n",
            "Target: CCCSHHHHHHHHHHHHHHHHTTCHHHHTCHHHHHHHHHHHTCCSSSSCCCHHHHHHHHHSCCHHHHHHHHHHSHHHHHHHHHHHHHTTCC\n",
            "Result: CCCHHHHHHHHHHHHHHHHHHCHHHHHHHHHHHHHHHHHHTCCCSCCCCHHHHHHHHHHHHHHHHHHHHHHHHHHHHHCCHHHHHHHCCC\n",
            "---\n",
            "Input: [2128 2023  960  943  484   84  156  122   71  238  255  249  118  218\n",
            "  148  155  793 1847  328 1283 1174  452 1193  404  787   83   39  551\n",
            "  361 1044 1677  623  196  247  757 1315 1468 1146 1665  878  577  472\n",
            " 1207 1735 1251  139  421  230   92   46  154  449  326  436   52  405\n",
            " 1420 1786 1638  901  732  800  555  869  297 1187 1010  512  104   95\n",
            "  120   59  307  329 1170    6    0    0    0    0    0    0    0    0\n",
            "    0    0    0    0    0    0    0    0    0    0    0    0    0    0\n",
            "    0    0    0    0    0    0    0    0    0    0    0    0    0    0\n",
            "    0    0    0    0    0    0    0    0    0    0    0    0    0    0\n",
            "    0    0]\n",
            "Target: CEEEEEETTSCEEEEECCTTCBHHHHHHHHHHHHCCCGGGEEEEETTEECCTTSBSGGGTCCTTCEEEEEECCCCC\n",
            "Result: CEEEEECTTSCEEEEECCTTCBHHHHHHHHHHHHCCCGGGEEEEETTEECCTTSBTGGGTCCTTCEEEEEECCCCC\n",
            "---\n",
            "Input: [2813  805 3603 5225 2138 1196  995   68   31 1500 4675 5270 3940 1419\n",
            "  119  430  396  145  173  887 1501 2272 1013 4862 4901 5284 2310 1974\n",
            " 1229 1368  307 1133 2097 3400 4779 6354 6905 2059  859  806 1795 1836\n",
            " 5019 4209 5418 2488 2551 2426 2148  784  705 3825 3887 4963 3384 3798\n",
            " 6156 3835 2781  621  455  215 2703 1933 2078 1603 6174 5160 2852  226\n",
            "    7   19  639  566 5706   60    0    0    0    0    0    0    0    0\n",
            "    0    0    0    0    0    0    0    0    0    0    0    0    0    0\n",
            "    0    0    0    0    0    0    0    0    0    0    0    0    0    0\n",
            "    0    0    0    0    0    0    0    0    0    0    0    0    0    0\n",
            "    0    0]\n",
            "Target: CCCCHHHHHHHHTTSEEEEEETTSCEEEEEEEEECTTSCEEEEEEEEEETTEEEEECSEEEECSTTEEEEECCTTC\n",
            "Result: CCCCCCHHHGGGTTCEEEEEETTTEEEEEEEEEECTTCCEEEEEEEEECTTTCEEEEEEEEECGGGEEEEEECCCC\n",
            "---\n",
            "Input: [5118 2277 2394  761 4413 4099 4581 3159 4467 1827 6827 4621 4844   68\n",
            "  143 1266 1395 1825 2951 5382 7338 4827 1586 1408 3919 3689 2636 2206\n",
            " 1003 5976 5494 3062 1662  396  593 1043 3897  271  893 1127  716  277\n",
            "  194 1048  959  709  411 1609 5917 3162  158  209  192  174 3592 5186\n",
            " 6646 3549 2830 1409  608 4000 4775  181  504  129  648 1424  161  263\n",
            " 4116 5158 4256 3445 3307 3380 3546  271  893 1127 1075  503 3090 3784\n",
            " 1801 2741 2809 4379 1751  464   95  120  481 3534 2981 1153   30  203\n",
            " 1975 3089 4677 5826  647  705 5353 1680  512  468  480  413  149  690\n",
            "  900  817 4176    5    0    0    0    0    0    0    0    0    0    0\n",
            "    0    0]\n",
            "Target: CCCCCCEEEEEEEEEBTTBCEEECCCSCSSEEEEEEEEEEECTTCCSSCEEEEEEEECTTSSEEEEEEEEEBTTTBSEEEEEEEEECSSEEEEEEESCCCEEEEEEEEEECCCCCC\n",
            "Result: CCCCCCEEEEEEEEEETTCCEEECCCSCSSCEEEEEEEEEECTTCCSSCEEEEEEEECTTTCEEEEEEEEEBTTTBCEEEEEEEEECSSEEEEEEECCSCEEEEEEEEEECCCCCC\n",
            "---\n",
            "Input: [6121 6709    7   19   14  403  119  285   55   15   19  572 1627 2292\n",
            " 6373 5294  620   19   14  403  119  689  558  620   19   14  403 3525\n",
            " 5165 5929    7   19  346 4392 7680    6    0    0    0    0    0    0\n",
            "    0    0    0    0    0    0    0    0    0    0    0    0    0    0\n",
            "    0    0    0    0    0    0    0    0    0    0    0    0    0    0\n",
            "    0    0    0    0    0    0    0    0    0    0    0    0    0    0\n",
            "    0    0    0    0    0    0    0    0    0    0    0    0    0    0\n",
            "    0    0    0    0    0    0    0    0    0    0    0    0    0    0\n",
            "    0    0    0    0    0    0    0    0    0    0    0    0    0    0\n",
            "    0    0]\n",
            "Target: CHHHHHHHHHHHHHHHHHHHHHHHHHHHHHHHHHTC\n",
            "Result: HHHHHHHHHHHHHHHHHHHHHHHHHHHHHHHHCCCC\n",
            "---\n",
            "Input: [4633 1229 1368  331 2947 4898 5127 1959 2785  476  385 1434 3302 3983\n",
            " 2282 6323 2689 5786 7385  523    0    0    0    0    0    0    0    0\n",
            "    0    0    0    0    0    0    0    0    0    0    0    0    0    0\n",
            "    0    0    0    0    0    0    0    0    0    0    0    0    0    0\n",
            "    0    0    0    0    0    0    0    0    0    0    0    0    0    0\n",
            "    0    0    0    0    0    0    0    0    0    0    0    0    0    0\n",
            "    0    0    0    0    0    0    0    0    0    0    0    0    0    0\n",
            "    0    0    0    0    0    0    0    0    0    0    0    0    0    0\n",
            "    0    0    0    0    0    0    0    0    0    0    0    0    0    0\n",
            "    0    0]\n",
            "Target: CCSIIIIICCSSCCTTTCCC\n",
            "Result: CCCCCCCCCCCCCSTCCCCC\n",
            "---\n",
            "Input: [7968 5355 6649 1501  295 3699 4160 3099  212 1811  369  227  238   84\n",
            "  263   20  457   24   78   18  487 5936 5312 1041  291   68  362 1212\n",
            " 1068  480  477  334  441  667 2363  191 2210 2123 2766   85  529  148\n",
            " 1540 1434 1790 5368  212 2394  331 1304 1720  305  400  123  124  147\n",
            "  341  187 2560 5304 4347 1912 1170    6    0    0    0    0    0    0\n",
            "    0    0    0    0    0    0    0    0    0    0    0    0    0    0\n",
            "    0    0    0    0    0    0    0    0    0    0    0    0    0    0\n",
            "    0    0    0    0    0    0    0    0    0    0    0    0    0    0\n",
            "    0    0    0    0    0    0    0    0    0    0    0    0    0    0\n",
            "    0    0]\n",
            "Target: CEEETTEEECCTTSCHHHHHHHTTCCSTTCEEEESSCEEEGGGCCCCCCCTTCEEEEEEEECCC\n",
            "Result: EEEETTEEEECTTSHHHHHHHHHTCCEEEEEEEECHHHHTTGCCCCCCCCTTCEEEEEEECCCC\n",
            "---\n",
            "Input: [3847  426   56  382  123 1247 2701 1734 1624   27  117 1849 5468 5124\n",
            " 1489   94 1766 3640 2600 1044 3195 1922 2730 6706 6734 3080 1114 1256\n",
            "  817  510  900 1648  237   21 1140 2616 2748 3811 2496  667 5976 5218\n",
            " 5054 2124 4341 1448 2183  754 2159  183  848   85 1444  781 1934 1344\n",
            "  154 2072  466  396 1159  415  394 6656 5448 6484 4328 3472 2832 1209\n",
            "  893  501 3701 2474  903  104  262  469 1072  245 1898 6253 6628 7799\n",
            " 1677  641   23  124   24  344  222 1405  194  130  157 4307 3312 2140\n",
            " 1319 1223 2234 3779 5836 3303  388  273 3952 4070 1518 3482 6549 4219\n",
            "  620 2560 3011 2595 1958 2988 5163 5955  275    0    0    0    0    0\n",
            "    0    0]\n",
            "Target: CEEEEECSCHHHHHHHHHHHHHTTCEEEEESSHHHHHHHHHHSCCSEEEECSCCSSSCHHHHHHHHHHTTCCSCEEEEESCCCHHHHHHHHHTTCSEEEESSCCHHHHHHHHHHHHHHHTC\n",
            "Result: CHHHEECCHHHHHHHHHHHHHHTTCEECCHHHHHHHHHHHHTTSTTCEEEECTCCCTHHHHHHHHHHHGGGTCCEEEEECTCCHHHHHHHHHHTCTTEESSCHHHHHHHHHHHHHHHHCCC\n",
            "---\n",
            "Input: [3215   36 4244 3221 5284 2670 2508 1165 1001  871 5227 4185 1407  728\n",
            "  491  624  633  192  235  783  992  896  735  461 1105  768   25  441\n",
            " 1185 2322  428  702 1879  918  561   57  483  279 1240 1712 2086 2320\n",
            " 3188  979 1085  502  564   38   47  352  102   87  581  636  250  502\n",
            "  625  255 4433 1389 2561  819  646  830  556 2321  300 4233 1003 5183\n",
            "    5    0    0    0    0    0    0    0    0    0    0    0    0    0\n",
            "    0    0    0    0    0    0    0    0    0    0    0    0    0    0\n",
            "    0    0    0    0    0    0    0    0    0    0    0    0    0    0\n",
            "    0    0    0    0    0    0    0    0    0    0    0    0    0    0\n",
            "    0    0]\n",
            "Target: CCCCCHHHHHHSCHHHHHHHHHHHHHHHHHHHHHHHHTCCCSCTHHHHHHHHHHHHHHHHHHHHTCCCCCC\n",
            "Result: CCCSCHHHHHTSCHHHHHHHHHHHHHHHHHHHHHHHTTCCCCCHHHHHHHHHHHHHHHHHHHHHCCCCCCC\n",
            "---\n",
            "Input: [2612 3775 2031 4264 5466 3087 3020 1210 1377 4509 7720 6465 4026 4906\n",
            " 6382 6582 2854 1222  996 2069 2434 3362 2378 1592  848  311 1260  810\n",
            "  513  716  881  309 1777 2824 4390  700  817 5337 7137 6637 1325  666\n",
            " 1390 2649 1049 3321  314 1425  765 2425 2841 3012 1631 2789  910 1495\n",
            " 1208 3431 5469 8051 7734 6782 3692 2259  661   28 1113 1347 1208  434\n",
            "  273  316   83   34  175  385  537 1751  678  111 1133 3183 1887  548\n",
            "    2    0    0    0    0    0    0    0    0    0    0    0    0    0\n",
            "    0    0    0    0    0    0    0    0    0    0    0    0    0    0\n",
            "    0    0    0    0    0    0    0    0    0    0    0    0    0    0\n",
            "    0    0]\n",
            "Target: CCCCHHHHHHHHTHHHHCTTSCCCHHHHHHTCCCSCCHHHHHHCCHHHHHHHHHHCBTTTBCCCTTTSCHHHHHHHHHHHHTTCC\n",
            "Result: CCCTTHHHHHHHHHTTTTCCCCTTCCHHHHCHHHHHCHHHHHTCHHHHHHHHHHTCCCTCCCCHHHTCCHHHHHHHHHHGGCCCC\n",
            "---\n",
            "Input: [4551 4799 3283 1435 1435 1196 1981 2352 3300 2152 1553 3112 1499  180\n",
            " 1899 1322 3176 2442 4336 1009  863 3604 3262  424  117  884  493  464\n",
            "   33  461   84  880 1308 4919 4360 5334 2949 5432 4203 4296 4154 3987\n",
            " 4172 2197 1313  681  146  559  288  887  845  707  781 1737 2748 3202\n",
            " 2711  924  720  625  911 4368 2549 4021 3488 3726  873  162  204  242\n",
            "  107  310   72 1554 2336 2902 5234 5901 4613 3652 1263 5143 4655 5649\n",
            " 1044 2768 2247 2506 4418 4436 3743 3703 2424  364 4988 2865 2401 1861\n",
            " 1499  813  782 1846 1533  939  518 2528 1437 1094  174    7   19   14\n",
            "   28 1074 1760 2744  617 1221 2554 1631  586 1324 1088  448  402 1927\n",
            "    5    0]\n",
            "Target: CCCCCCCCCCCTTSCCCCCHHHHHHHHTHHHHHHTSTTCGGGSSCCCTTTTTCTTHHHHCSSCCCHHHHHHHHHTTCCSSHHHHHHHHHHHHHHHHHHSCTTCHHHHHHHHHHHHHHHHHTTCCCCC\n",
            "Result: CCCCCCCCCCCTTSCCCCCHHHHHHHHTHHHHHHTSTTCGGGSSCCCTTTTTCTTHHHHCSSCCCHHHHHHHHHTTCCSSHHHHHHHHHHHHHHHHHHSCTTCHHHHHHHHHHHHHHHHHTTCCCCC\n",
            "---\n",
            "Input: [  30  203 2853 1250 2609 2853 1250 2609 2853 1250 2609 2853 1250 1400\n",
            "  881 1227 1073 3699 1414 2034 2191 3798 3837 3627 1900 2609 2853 1250\n",
            " 2609 2853 1250 2609 2853 1250  979 1281  569 1607 1411 4536 7140 2342\n",
            " 3162 2159  650  844  187   50 4116 4501 4908  300 1717  256  205   73\n",
            "  100  302  480  774  803  668   93  734  633    7   77  716  604 6016\n",
            "   60    0    0    0    0    0    0    0    0    0    0    0    0    0\n",
            "    0    0    0    0    0    0    0    0    0    0    0    0    0    0\n",
            "    0    0    0    0    0    0    0    0    0    0    0    0    0    0\n",
            "    0    0    0    0    0    0    0    0    0    0    0    0    0    0\n",
            "    0    0]\n",
            "Target: CCCCCCCCCCCCCCCCCCCCCCCCCCCCCCCCCCCCCCCCSHHHHHHHHHHHHHHHHHHHHHHHHHHHTCC\n",
            "Result: CCCCCCCCCCCCCCCCCCCCCCCCCCCCCCCCCCCCCCCCCHHHHHHHHHHHHHHHHHHHHHHHHHCCCCC\n",
            "---\n",
            "Input: [ 652  957  589  234  163  361  627  722  693  818  989  856 1757  728\n",
            "  524  206   51  217  764 1145  773  906 1018  364 1099  941  248  390\n",
            " 1536  977 1534  328  407  612  447  431  183  133   13   64   86  295\n",
            "  184  314  653   80   58   23 1051 1348 1612  395  281  743  377  470\n",
            "  444 1011 1111 1296  895 1031  424  890 1039 1441  370  603  576  843\n",
            "  389  448  340  383  709 1124 1052 1035  629  752  350 1566 1850 1459\n",
            "  129   52  397 1173 1393  163  165  164 1570 1792 1017  837  871 1357\n",
            "  570    0    0    0    0    0    0    0    0    0    0    0    0    0\n",
            "    0    0    0    0    0    0    0    0    0    0    0    0    0    0\n",
            "    0    0]\n",
            "Target: CCBCCEEEEEESSCCCTTSCEEEEEEEEEEBSSCEEEEEEETTEECSSCEECCCEECTTSCEEEEEEEEECCCTTCCEEEEEEETTCSSCEEEECCCCC\n",
            "Result: CCBCCEEEEEESSCCCTTSCEEEEEEEEEEBSSCCEEEEEETTEECSSCEECCCEECTTSCEEEEEEEEECCCSSCCEEEEEECTTCSSCEEEECCTTC\n"
          ],
          "name": "stdout"
        }
      ]
    },
    {
      "cell_type": "code",
      "metadata": {
        "id": "Y4HBx94KpzpA",
        "colab_type": "code",
        "colab": {}
      },
      "source": [
        "#different size of lstm on Q8\n",
        "\n",
        "from sklearn.model_selection import train_test_split\n",
        "from keras.metrics import categorical_accuracy\n",
        "from keras import backend  as K\n",
        "import tensorflow as tf\n",
        "import keras\n",
        "from keras.callbacks import History\n",
        "from keras.models import Model, Input\n",
        "from keras.layers import LSTM, Embedding, Dense, TimeDistributed, Bidirectional,GRU\n",
        "\n",
        "l=[25,50,100,150,200,250]\n",
        "\n",
        "for i in l:\n",
        "  X_train, X_test, y_train, y_test = train_test_split(input_data, target_data, test_size=.4, random_state=0)\n",
        "  seq_train, seq_test, target_train, target_test = train_test_split(input_seqs, target_seqs, test_size=.4, random_state=0)\n",
        "\n",
        "\n",
        "  n_words = len(tokenizer_encoder.word_index) + 1\n",
        "  n_tags = len(tokenizer_decoder.word_index) + 1\n",
        "  print(n_words, n_tags)\n",
        "\n",
        "  input = Input(shape=(maxlen_seq,))\n",
        "  x = Embedding(input_dim=n_words, output_dim=128, input_length=maxlen_seq)(input)\n",
        "  x = Bidirectional(LSTM(units=i, return_sequences=True, recurrent_dropout=0.1))(x)\n",
        "  y = TimeDistributed(Dense(n_tags, activation=\"softmax\"))(x)\n",
        "  model = Model(input, y)\n",
        "  model.summary()\n",
        "\n",
        "  loss = []\n",
        "  acc = []\n",
        "  val_loss = []\n",
        "  val_acc = []\n",
        "\n",
        "  def q8_acc(y_true, y_pred):\n",
        "      y = tf.argmax(y_true, axis=-1)\n",
        "      y_ = tf.argmax(y_pred, axis=-1)\n",
        "      mask = tf.greater(y, 0)\n",
        "      return K.cast(K.equal(tf.boolean_mask(y, mask), tf.boolean_mask(y_, mask)), K.floatx())\n",
        "\n",
        "\n",
        "\n",
        "  model.compile(optimizer=\"rmsprop\", loss=\"categorical_crossentropy\",  metrics=[\"accuracy\", q8_acc])\n",
        "\n",
        "  hist = History()\n",
        "\n",
        "  history = model.fit(X_train, y_train, batch_size=128, epochs=5,steps_per_epoch=None, validation_steps=None, validation_data=(X_test, y_test), verbose=1, callbacks=[hist])\n"
      ],
      "execution_count": null,
      "outputs": []
    },
    {
      "cell_type": "code",
      "metadata": {
        "id": "ltqeHeQHI61I",
        "colab_type": "code",
        "colab": {}
      },
      "source": [
        ""
      ],
      "execution_count": null,
      "outputs": []
    }
  ]
}